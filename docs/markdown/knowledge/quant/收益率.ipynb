{
 "cells": [
  {
   "cell_type": "code",
   "execution_count": 44,
   "metadata": {},
   "outputs": [],
   "source": [
    "import numpy as np\n",
    "from lwpackage.lwdata import get_stock_price"
   ]
  },
  {
   "cell_type": "code",
   "execution_count": 45,
   "metadata": {},
   "outputs": [],
   "source": [
    "data = get_stock_price(frequency='1m',\n",
    "                start_time='20190101',\n",
    "                end_time='20210101',\n",
    "                from_database=True)"
   ]
  },
  {
   "cell_type": "code",
   "execution_count": 47,
   "metadata": {},
   "outputs": [
    {
     "data": {
      "text/html": [
       "<div>\n",
       "<style scoped>\n",
       "    .dataframe tbody tr th:only-of-type {\n",
       "        vertical-align: middle;\n",
       "    }\n",
       "\n",
       "    .dataframe tbody tr th {\n",
       "        vertical-align: top;\n",
       "    }\n",
       "\n",
       "    .dataframe thead th {\n",
       "        text-align: right;\n",
       "    }\n",
       "</style>\n",
       "<table border=\"1\" class=\"dataframe\">\n",
       "  <thead>\n",
       "    <tr style=\"text-align: right;\">\n",
       "      <th></th>\n",
       "      <th>time</th>\n",
       "      <th>instrument_id</th>\n",
       "      <th>open</th>\n",
       "      <th>high</th>\n",
       "      <th>low</th>\n",
       "      <th>close</th>\n",
       "      <th>volume</th>\n",
       "      <th>ret</th>\n",
       "    </tr>\n",
       "  </thead>\n",
       "  <tbody>\n",
       "    <tr>\n",
       "      <th>0</th>\n",
       "      <td>2019-12-05 09:31:00</td>\n",
       "      <td>600747</td>\n",
       "      <td>0.26</td>\n",
       "      <td>0.27</td>\n",
       "      <td>0.26</td>\n",
       "      <td>0.26</td>\n",
       "      <td>1690401</td>\n",
       "      <td>NaN</td>\n",
       "    </tr>\n",
       "    <tr>\n",
       "      <th>1</th>\n",
       "      <td>2019-12-05 09:32:00</td>\n",
       "      <td>600747</td>\n",
       "      <td>0.26</td>\n",
       "      <td>0.26</td>\n",
       "      <td>0.26</td>\n",
       "      <td>0.26</td>\n",
       "      <td>170100</td>\n",
       "      <td>0.000000</td>\n",
       "    </tr>\n",
       "    <tr>\n",
       "      <th>2</th>\n",
       "      <td>2019-12-05 09:33:00</td>\n",
       "      <td>600747</td>\n",
       "      <td>0.26</td>\n",
       "      <td>0.27</td>\n",
       "      <td>0.26</td>\n",
       "      <td>0.27</td>\n",
       "      <td>623300</td>\n",
       "      <td>0.038462</td>\n",
       "    </tr>\n",
       "    <tr>\n",
       "      <th>3</th>\n",
       "      <td>2019-12-05 09:34:00</td>\n",
       "      <td>600747</td>\n",
       "      <td>0.26</td>\n",
       "      <td>0.27</td>\n",
       "      <td>0.26</td>\n",
       "      <td>0.26</td>\n",
       "      <td>23800</td>\n",
       "      <td>-0.037037</td>\n",
       "    </tr>\n",
       "    <tr>\n",
       "      <th>4</th>\n",
       "      <td>2019-12-05 09:35:00</td>\n",
       "      <td>600747</td>\n",
       "      <td>0.26</td>\n",
       "      <td>0.27</td>\n",
       "      <td>0.26</td>\n",
       "      <td>0.26</td>\n",
       "      <td>330800</td>\n",
       "      <td>0.000000</td>\n",
       "    </tr>\n",
       "    <tr>\n",
       "      <th>...</th>\n",
       "      <td>...</td>\n",
       "      <td>...</td>\n",
       "      <td>...</td>\n",
       "      <td>...</td>\n",
       "      <td>...</td>\n",
       "      <td>...</td>\n",
       "      <td>...</td>\n",
       "      <td>...</td>\n",
       "    </tr>\n",
       "    <tr>\n",
       "      <th>5102</th>\n",
       "      <td>2020-09-15 14:56:00</td>\n",
       "      <td>300216</td>\n",
       "      <td>0.19</td>\n",
       "      <td>0.20</td>\n",
       "      <td>0.19</td>\n",
       "      <td>0.20</td>\n",
       "      <td>63526</td>\n",
       "      <td>0.052632</td>\n",
       "    </tr>\n",
       "    <tr>\n",
       "      <th>5103</th>\n",
       "      <td>2020-09-15 14:57:00</td>\n",
       "      <td>300216</td>\n",
       "      <td>0.20</td>\n",
       "      <td>0.21</td>\n",
       "      <td>0.19</td>\n",
       "      <td>0.19</td>\n",
       "      <td>86800</td>\n",
       "      <td>-0.050000</td>\n",
       "    </tr>\n",
       "    <tr>\n",
       "      <th>5104</th>\n",
       "      <td>2020-09-15 15:00:00</td>\n",
       "      <td>300216</td>\n",
       "      <td>0.19</td>\n",
       "      <td>0.19</td>\n",
       "      <td>0.19</td>\n",
       "      <td>0.19</td>\n",
       "      <td>590900</td>\n",
       "      <td>0.000000</td>\n",
       "    </tr>\n",
       "    <tr>\n",
       "      <th>16925</th>\n",
       "      <td>2020-11-09 15:00:00</td>\n",
       "      <td>300431</td>\n",
       "      <td>0.28</td>\n",
       "      <td>0.28</td>\n",
       "      <td>0.28</td>\n",
       "      <td>0.28</td>\n",
       "      <td>1786880</td>\n",
       "      <td>NaN</td>\n",
       "    </tr>\n",
       "    <tr>\n",
       "      <th>16926</th>\n",
       "      <td>2020-12-16 15:00:00</td>\n",
       "      <td>000939</td>\n",
       "      <td>0.15</td>\n",
       "      <td>0.15</td>\n",
       "      <td>0.15</td>\n",
       "      <td>0.15</td>\n",
       "      <td>1784153</td>\n",
       "      <td>NaN</td>\n",
       "    </tr>\n",
       "  </tbody>\n",
       "</table>\n",
       "<p>16934 rows × 8 columns</p>\n",
       "</div>"
      ],
      "text/plain": [
       "                     time instrument_id  open  high   low  close   volume  \\\n",
       "0     2019-12-05 09:31:00        600747  0.26  0.27  0.26   0.26  1690401   \n",
       "1     2019-12-05 09:32:00        600747  0.26  0.26  0.26   0.26   170100   \n",
       "2     2019-12-05 09:33:00        600747  0.26  0.27  0.26   0.27   623300   \n",
       "3     2019-12-05 09:34:00        600747  0.26  0.27  0.26   0.26    23800   \n",
       "4     2019-12-05 09:35:00        600747  0.26  0.27  0.26   0.26   330800   \n",
       "...                   ...           ...   ...   ...   ...    ...      ...   \n",
       "5102  2020-09-15 14:56:00        300216  0.19  0.20  0.19   0.20    63526   \n",
       "5103  2020-09-15 14:57:00        300216  0.20  0.21  0.19   0.19    86800   \n",
       "5104  2020-09-15 15:00:00        300216  0.19  0.19  0.19   0.19   590900   \n",
       "16925 2020-11-09 15:00:00        300431  0.28  0.28  0.28   0.28  1786880   \n",
       "16926 2020-12-16 15:00:00        000939  0.15  0.15  0.15   0.15  1784153   \n",
       "\n",
       "            ret  \n",
       "0           NaN  \n",
       "1      0.000000  \n",
       "2      0.038462  \n",
       "3     -0.037037  \n",
       "4      0.000000  \n",
       "...         ...  \n",
       "5102   0.052632  \n",
       "5103  -0.050000  \n",
       "5104   0.000000  \n",
       "16925       NaN  \n",
       "16926       NaN  \n",
       "\n",
       "[16934 rows x 8 columns]"
      ]
     },
     "execution_count": 47,
     "metadata": {},
     "output_type": "execute_result"
    }
   ],
   "source": [
    "data['ret'] = data.groupby('instrument_id')['close'].transform(lambda x: x.pct_change())\n",
    "data"
   ]
  },
  {
   "cell_type": "code",
   "execution_count": 98,
   "metadata": {},
   "outputs": [
    {
     "data": {
      "text/html": [
       "<div>\n",
       "<style scoped>\n",
       "    .dataframe tbody tr th:only-of-type {\n",
       "        vertical-align: middle;\n",
       "    }\n",
       "\n",
       "    .dataframe tbody tr th {\n",
       "        vertical-align: top;\n",
       "    }\n",
       "\n",
       "    .dataframe thead th {\n",
       "        text-align: right;\n",
       "    }\n",
       "</style>\n",
       "<table border=\"1\" class=\"dataframe\">\n",
       "  <thead>\n",
       "    <tr style=\"text-align: right;\">\n",
       "      <th></th>\n",
       "      <th>time</th>\n",
       "      <th>instrument_id</th>\n",
       "      <th>open</th>\n",
       "      <th>high</th>\n",
       "      <th>low</th>\n",
       "      <th>close</th>\n",
       "      <th>volume</th>\n",
       "      <th>ret</th>\n",
       "    </tr>\n",
       "  </thead>\n",
       "  <tbody>\n",
       "    <tr>\n",
       "      <th>7075</th>\n",
       "      <td>2020-07-07 10:16:00</td>\n",
       "      <td>002509</td>\n",
       "      <td>0.19</td>\n",
       "      <td>0.19</td>\n",
       "      <td>0.18</td>\n",
       "      <td>0.18</td>\n",
       "      <td>126900</td>\n",
       "      <td>0.000000</td>\n",
       "    </tr>\n",
       "    <tr>\n",
       "      <th>7076</th>\n",
       "      <td>2020-07-07 10:17:00</td>\n",
       "      <td>002509</td>\n",
       "      <td>0.18</td>\n",
       "      <td>0.18</td>\n",
       "      <td>0.18</td>\n",
       "      <td>0.18</td>\n",
       "      <td>32900</td>\n",
       "      <td>0.000000</td>\n",
       "    </tr>\n",
       "    <tr>\n",
       "      <th>7077</th>\n",
       "      <td>2020-07-07 10:18:00</td>\n",
       "      <td>002509</td>\n",
       "      <td>0.18</td>\n",
       "      <td>0.18</td>\n",
       "      <td>0.18</td>\n",
       "      <td>0.18</td>\n",
       "      <td>35300</td>\n",
       "      <td>0.000000</td>\n",
       "    </tr>\n",
       "    <tr>\n",
       "      <th>7078</th>\n",
       "      <td>2020-07-07 10:19:00</td>\n",
       "      <td>002509</td>\n",
       "      <td>0.18</td>\n",
       "      <td>0.18</td>\n",
       "      <td>0.18</td>\n",
       "      <td>0.18</td>\n",
       "      <td>12600</td>\n",
       "      <td>0.000000</td>\n",
       "    </tr>\n",
       "    <tr>\n",
       "      <th>7079</th>\n",
       "      <td>2020-07-07 10:20:00</td>\n",
       "      <td>002509</td>\n",
       "      <td>0.18</td>\n",
       "      <td>0.18</td>\n",
       "      <td>0.18</td>\n",
       "      <td>0.18</td>\n",
       "      <td>12200</td>\n",
       "      <td>0.000000</td>\n",
       "    </tr>\n",
       "    <tr>\n",
       "      <th>...</th>\n",
       "      <td>...</td>\n",
       "      <td>...</td>\n",
       "      <td>...</td>\n",
       "      <td>...</td>\n",
       "      <td>...</td>\n",
       "      <td>...</td>\n",
       "      <td>...</td>\n",
       "      <td>...</td>\n",
       "    </tr>\n",
       "    <tr>\n",
       "      <th>9040</th>\n",
       "      <td>2020-07-17 14:54:00</td>\n",
       "      <td>002509</td>\n",
       "      <td>0.15</td>\n",
       "      <td>0.15</td>\n",
       "      <td>0.15</td>\n",
       "      <td>0.15</td>\n",
       "      <td>11257972</td>\n",
       "      <td>0.000000</td>\n",
       "    </tr>\n",
       "    <tr>\n",
       "      <th>9041</th>\n",
       "      <td>2020-07-17 14:55:00</td>\n",
       "      <td>002509</td>\n",
       "      <td>0.14</td>\n",
       "      <td>0.15</td>\n",
       "      <td>0.14</td>\n",
       "      <td>0.15</td>\n",
       "      <td>4442500</td>\n",
       "      <td>0.000000</td>\n",
       "    </tr>\n",
       "    <tr>\n",
       "      <th>9042</th>\n",
       "      <td>2020-07-17 14:56:00</td>\n",
       "      <td>002509</td>\n",
       "      <td>0.15</td>\n",
       "      <td>0.16</td>\n",
       "      <td>0.15</td>\n",
       "      <td>0.15</td>\n",
       "      <td>1885700</td>\n",
       "      <td>0.000000</td>\n",
       "    </tr>\n",
       "    <tr>\n",
       "      <th>9043</th>\n",
       "      <td>2020-07-17 14:57:00</td>\n",
       "      <td>002509</td>\n",
       "      <td>0.15</td>\n",
       "      <td>0.16</td>\n",
       "      <td>0.15</td>\n",
       "      <td>0.16</td>\n",
       "      <td>2977200</td>\n",
       "      <td>0.066667</td>\n",
       "    </tr>\n",
       "    <tr>\n",
       "      <th>9044</th>\n",
       "      <td>2020-07-17 15:00:00</td>\n",
       "      <td>002509</td>\n",
       "      <td>0.15</td>\n",
       "      <td>0.15</td>\n",
       "      <td>0.15</td>\n",
       "      <td>0.15</td>\n",
       "      <td>7177463</td>\n",
       "      <td>-0.062500</td>\n",
       "    </tr>\n",
       "  </tbody>\n",
       "</table>\n",
       "<p>1970 rows × 8 columns</p>\n",
       "</div>"
      ],
      "text/plain": [
       "                    time instrument_id  open  high   low  close    volume  \\\n",
       "7075 2020-07-07 10:16:00        002509  0.19  0.19  0.18   0.18    126900   \n",
       "7076 2020-07-07 10:17:00        002509  0.18  0.18  0.18   0.18     32900   \n",
       "7077 2020-07-07 10:18:00        002509  0.18  0.18  0.18   0.18     35300   \n",
       "7078 2020-07-07 10:19:00        002509  0.18  0.18  0.18   0.18     12600   \n",
       "7079 2020-07-07 10:20:00        002509  0.18  0.18  0.18   0.18     12200   \n",
       "...                  ...           ...   ...   ...   ...    ...       ...   \n",
       "9040 2020-07-17 14:54:00        002509  0.15  0.15  0.15   0.15  11257972   \n",
       "9041 2020-07-17 14:55:00        002509  0.14  0.15  0.14   0.15   4442500   \n",
       "9042 2020-07-17 14:56:00        002509  0.15  0.16  0.15   0.15   1885700   \n",
       "9043 2020-07-17 14:57:00        002509  0.15  0.16  0.15   0.16   2977200   \n",
       "9044 2020-07-17 15:00:00        002509  0.15  0.15  0.15   0.15   7177463   \n",
       "\n",
       "           ret  \n",
       "7075  0.000000  \n",
       "7076  0.000000  \n",
       "7077  0.000000  \n",
       "7078  0.000000  \n",
       "7079  0.000000  \n",
       "...        ...  \n",
       "9040  0.000000  \n",
       "9041  0.000000  \n",
       "9042  0.000000  \n",
       "9043  0.066667  \n",
       "9044 -0.062500  \n",
       "\n",
       "[1970 rows x 8 columns]"
      ]
     },
     "execution_count": 98,
     "metadata": {},
     "output_type": "execute_result"
    }
   ],
   "source": [
    "data1 = data.loc[data['instrument_id'] == '002509'].fillna(0).copy()\n",
    "data1"
   ]
  },
  {
   "cell_type": "markdown",
   "metadata": {},
   "source": [
    "## 单利"
   ]
  },
  {
   "cell_type": "code",
   "execution_count": 100,
   "metadata": {},
   "outputs": [
    {
     "data": {
      "text/plain": [
       "<Axes: >"
      ]
     },
     "execution_count": 100,
     "metadata": {},
     "output_type": "execute_result"
    },
    {
     "data": {
      "image/png": "[encoded data removed]",
      "text/plain": [
       "<Figure size 640x480 with 1 Axes>"
      ]
     },
     "metadata": {},
     "output_type": "display_data"
    }
   ],
   "source": [
    "data1['ret'].plot()"
   ]
  },
  {
   "cell_type": "code",
   "execution_count": 72,
   "metadata": {},
   "outputs": [
    {
     "data": {
      "text/plain": [
       "0.6626117991055903"
      ]
     },
     "execution_count": 72,
     "metadata": {},
     "output_type": "execute_result"
    }
   ],
   "source": [
    "# 整个时间区间内单利计算的收益率\n",
    "data1['ret'].sum()"
   ]
  },
  {
   "cell_type": "code",
   "execution_count": 73,
   "metadata": {},
   "outputs": [
    {
     "data": {
      "text/plain": [
       "20.35284997963743"
      ]
     },
     "execution_count": 73,
     "metadata": {},
     "output_type": "execute_result"
    }
   ],
   "source": [
    "# 整个时间区间内单利计算的年化收益率\n",
    "data1['ret'].mean() * 4 * 60 * 252"
   ]
  },
  {
   "cell_type": "markdown",
   "metadata": {},
   "source": [
    "## 复利"
   ]
  },
  {
   "cell_type": "code",
   "execution_count": 99,
   "metadata": {},
   "outputs": [
    {
     "data": {
      "text/plain": [
       "-0.16666666666667074"
      ]
     },
     "execution_count": 99,
     "metadata": {},
     "output_type": "execute_result"
    }
   ],
   "source": [
    "# 整个时间区间内复利计算的收益率\n",
    "(data1['ret'] + 1).prod() - 1"
   ]
  },
  {
   "cell_type": "code",
   "execution_count": 92,
   "metadata": {},
   "outputs": [
    {
     "data": {
      "text/plain": [
       "0.004212720233086807"
      ]
     },
     "execution_count": 92,
     "metadata": {},
     "output_type": "execute_result"
    }
   ],
   "source": [
    "# 整个时间区间内复利计算的年化收益率\n",
    "cum_ret = (data1['ret'] + 1).cumprod()\n",
    "(cum_ret.iloc[-1] / cum_ret.iloc[0]) ** int((252 * 4 * 60 / len(data1)))"
   ]
  },
  {
   "cell_type": "markdown",
   "metadata": {},
   "source": [
    "单利和复利计算，年化收益率差别还是很大的。所以，到底咋算呢？"
   ]
  },
  {
   "cell_type": "code",
   "execution_count": 101,
   "metadata": {},
   "outputs": [
    {
     "data": {
      "text/plain": [
       "0.12791878172588833"
      ]
     },
     "execution_count": 101,
     "metadata": {},
     "output_type": "execute_result"
    }
   ],
   "source": [
    "# 胜率\n",
    "len(data1.loc[data1['ret'] > 0]) / len(data1)"
   ]
  },
  {
   "cell_type": "markdown",
   "metadata": {},
   "source": [
    "从胜率看出，这个股票大于0的收益率的时间截面很少，所以一般算出来表现应该比较差才对。所以建议使用复利收益率"
   ]
  },
  {
   "cell_type": "markdown",
   "metadata": {},
   "source": [
    "而且，我认为采取的计算方式和股票本身的价格也有关系：如果股票本身价格很高，就不容易出现较大的分钟频收益率数据；如果股票本身价格很低，就容易出现很大的甚至超过100%的分钟频收益率数据。"
   ]
  },
  {
   "cell_type": "code",
   "execution_count": null,
   "metadata": {},
   "outputs": [],
   "source": []
  },
  {
   "cell_type": "code",
   "execution_count": 97,
   "metadata": {},
   "outputs": [
    {
     "data": {
      "text/html": [
       "<div>\n",
       "<style scoped>\n",
       "    .dataframe tbody tr th:only-of-type {\n",
       "        vertical-align: middle;\n",
       "    }\n",
       "\n",
       "    .dataframe tbody tr th {\n",
       "        vertical-align: top;\n",
       "    }\n",
       "\n",
       "    .dataframe thead th {\n",
       "        text-align: right;\n",
       "    }\n",
       "</style>\n",
       "<table border=\"1\" class=\"dataframe\">\n",
       "  <thead>\n",
       "    <tr style=\"text-align: right;\">\n",
       "      <th></th>\n",
       "      <th>time</th>\n",
       "      <th>instrument_id</th>\n",
       "      <th>open</th>\n",
       "      <th>high</th>\n",
       "      <th>low</th>\n",
       "      <th>close</th>\n",
       "      <th>volume</th>\n",
       "      <th>ret</th>\n",
       "    </tr>\n",
       "  </thead>\n",
       "  <tbody>\n",
       "    <tr>\n",
       "      <th>7075</th>\n",
       "      <td>2020-07-07 10:16:00</td>\n",
       "      <td>002509</td>\n",
       "      <td>0.19</td>\n",
       "      <td>0.19</td>\n",
       "      <td>0.18</td>\n",
       "      <td>0.18</td>\n",
       "      <td>126900</td>\n",
       "      <td>0.000000</td>\n",
       "    </tr>\n",
       "    <tr>\n",
       "      <th>7076</th>\n",
       "      <td>2020-07-07 10:17:00</td>\n",
       "      <td>002509</td>\n",
       "      <td>0.18</td>\n",
       "      <td>0.18</td>\n",
       "      <td>0.18</td>\n",
       "      <td>0.18</td>\n",
       "      <td>32900</td>\n",
       "      <td>0.000000</td>\n",
       "    </tr>\n",
       "    <tr>\n",
       "      <th>7077</th>\n",
       "      <td>2020-07-07 10:18:00</td>\n",
       "      <td>002509</td>\n",
       "      <td>0.18</td>\n",
       "      <td>0.18</td>\n",
       "      <td>0.18</td>\n",
       "      <td>0.18</td>\n",
       "      <td>35300</td>\n",
       "      <td>0.000000</td>\n",
       "    </tr>\n",
       "    <tr>\n",
       "      <th>7078</th>\n",
       "      <td>2020-07-07 10:19:00</td>\n",
       "      <td>002509</td>\n",
       "      <td>0.18</td>\n",
       "      <td>0.18</td>\n",
       "      <td>0.18</td>\n",
       "      <td>0.18</td>\n",
       "      <td>12600</td>\n",
       "      <td>0.000000</td>\n",
       "    </tr>\n",
       "    <tr>\n",
       "      <th>7079</th>\n",
       "      <td>2020-07-07 10:20:00</td>\n",
       "      <td>002509</td>\n",
       "      <td>0.18</td>\n",
       "      <td>0.18</td>\n",
       "      <td>0.18</td>\n",
       "      <td>0.18</td>\n",
       "      <td>12200</td>\n",
       "      <td>0.000000</td>\n",
       "    </tr>\n",
       "    <tr>\n",
       "      <th>...</th>\n",
       "      <td>...</td>\n",
       "      <td>...</td>\n",
       "      <td>...</td>\n",
       "      <td>...</td>\n",
       "      <td>...</td>\n",
       "      <td>...</td>\n",
       "      <td>...</td>\n",
       "      <td>...</td>\n",
       "    </tr>\n",
       "    <tr>\n",
       "      <th>9040</th>\n",
       "      <td>2020-07-17 14:54:00</td>\n",
       "      <td>002509</td>\n",
       "      <td>0.15</td>\n",
       "      <td>0.15</td>\n",
       "      <td>0.15</td>\n",
       "      <td>0.15</td>\n",
       "      <td>11257972</td>\n",
       "      <td>0.000000</td>\n",
       "    </tr>\n",
       "    <tr>\n",
       "      <th>9041</th>\n",
       "      <td>2020-07-17 14:55:00</td>\n",
       "      <td>002509</td>\n",
       "      <td>0.14</td>\n",
       "      <td>0.15</td>\n",
       "      <td>0.14</td>\n",
       "      <td>0.15</td>\n",
       "      <td>4442500</td>\n",
       "      <td>0.000000</td>\n",
       "    </tr>\n",
       "    <tr>\n",
       "      <th>9042</th>\n",
       "      <td>2020-07-17 14:56:00</td>\n",
       "      <td>002509</td>\n",
       "      <td>0.15</td>\n",
       "      <td>0.16</td>\n",
       "      <td>0.15</td>\n",
       "      <td>0.15</td>\n",
       "      <td>1885700</td>\n",
       "      <td>0.000000</td>\n",
       "    </tr>\n",
       "    <tr>\n",
       "      <th>9043</th>\n",
       "      <td>2020-07-17 14:57:00</td>\n",
       "      <td>002509</td>\n",
       "      <td>0.15</td>\n",
       "      <td>0.16</td>\n",
       "      <td>0.15</td>\n",
       "      <td>0.16</td>\n",
       "      <td>2977200</td>\n",
       "      <td>0.066667</td>\n",
       "    </tr>\n",
       "    <tr>\n",
       "      <th>9044</th>\n",
       "      <td>2020-07-17 15:00:00</td>\n",
       "      <td>002509</td>\n",
       "      <td>0.15</td>\n",
       "      <td>0.15</td>\n",
       "      <td>0.15</td>\n",
       "      <td>0.15</td>\n",
       "      <td>7177463</td>\n",
       "      <td>-0.062500</td>\n",
       "    </tr>\n",
       "  </tbody>\n",
       "</table>\n",
       "<p>1970 rows × 8 columns</p>\n",
       "</div>"
      ],
      "text/plain": [
       "                    time instrument_id  open  high   low  close    volume  \\\n",
       "7075 2020-07-07 10:16:00        002509  0.19  0.19  0.18   0.18    126900   \n",
       "7076 2020-07-07 10:17:00        002509  0.18  0.18  0.18   0.18     32900   \n",
       "7077 2020-07-07 10:18:00        002509  0.18  0.18  0.18   0.18     35300   \n",
       "7078 2020-07-07 10:19:00        002509  0.18  0.18  0.18   0.18     12600   \n",
       "7079 2020-07-07 10:20:00        002509  0.18  0.18  0.18   0.18     12200   \n",
       "...                  ...           ...   ...   ...   ...    ...       ...   \n",
       "9040 2020-07-17 14:54:00        002509  0.15  0.15  0.15   0.15  11257972   \n",
       "9041 2020-07-17 14:55:00        002509  0.14  0.15  0.14   0.15   4442500   \n",
       "9042 2020-07-17 14:56:00        002509  0.15  0.16  0.15   0.15   1885700   \n",
       "9043 2020-07-17 14:57:00        002509  0.15  0.16  0.15   0.16   2977200   \n",
       "9044 2020-07-17 15:00:00        002509  0.15  0.15  0.15   0.15   7177463   \n",
       "\n",
       "           ret  \n",
       "7075  0.000000  \n",
       "7076  0.000000  \n",
       "7077  0.000000  \n",
       "7078  0.000000  \n",
       "7079  0.000000  \n",
       "...        ...  \n",
       "9040  0.000000  \n",
       "9041  0.000000  \n",
       "9042  0.000000  \n",
       "9043  0.066667  \n",
       "9044 -0.062500  \n",
       "\n",
       "[1970 rows x 8 columns]"
      ]
     },
     "execution_count": 97,
     "metadata": {},
     "output_type": "execute_result"
    }
   ],
   "source": [
    "data1"
   ]
  },
  {
   "cell_type": "code",
   "execution_count": 43,
   "metadata": {},
   "outputs": [
    {
     "data": {
      "text/plain": [
       "0.49361133870316715"
      ]
     },
     "execution_count": 43,
     "metadata": {},
     "output_type": "execute_result"
    }
   ],
   "source": [
    "# 收益率平均按照年化10%计算\n",
    "# 生成一列随机数，代表一年内的分钟频率收益率序列\n",
    "ret_min = np.random.uniform(0, 1, 100)\n",
    "ret_min"
   ]
  },
  {
   "cell_type": "code",
   "execution_count": 12,
   "metadata": {},
   "outputs": [
    {
     "data": {
      "text/plain": [
       "array([0.83987101, 0.00855818, 0.12596678, 0.79139499, 0.77511673,\n",
       "       0.63056422, 0.1865663 , 0.60380636, 0.01257613, 0.39190333,\n",
       "       0.09662536, 0.56933204, 0.79183219, 0.24541147, 0.67493415,\n",
       "       0.01807613, 0.48139499, 0.80868593, 0.59970467, 0.6845612 ,\n",
       "       0.24490179, 0.21754866, 0.08214964, 0.31792024, 0.49672592,\n",
       "       0.87149834, 0.28523248, 0.25932262, 0.98340711, 0.68463726,\n",
       "       0.35654246, 0.47900416, 0.20803741, 0.88756198, 0.3115285 ,\n",
       "       0.40751455, 0.21536112, 0.80246623, 0.82314135, 0.32720983,\n",
       "       0.85033713, 0.22446929, 0.22625491, 0.23977427, 0.16694997,\n",
       "       0.92316527, 0.03204837, 0.86200176, 0.81107338, 0.51076136,\n",
       "       0.6849264 , 0.08695985, 0.06596985, 0.45955778, 0.75808796,\n",
       "       0.95648838, 0.43804183, 0.30281118, 0.10681298, 0.07594969,\n",
       "       0.66692265, 0.55733348, 0.99462595, 0.25923312, 0.39783426,\n",
       "       0.17660617, 0.94880641, 0.82622754, 0.17387448, 0.44954379,\n",
       "       0.39211478, 0.5790725 , 0.38605053, 0.89432424, 0.26705324,\n",
       "       0.09038284, 0.36210047, 0.25550985, 0.38814205, 0.4538711 ,\n",
       "       0.06587962, 0.14667322, 0.89751125, 0.09654217, 0.05065183,\n",
       "       0.40874516, 0.84745474, 0.26310243, 0.05854267, 0.53540252,\n",
       "       0.51862065, 0.98075995, 0.98657275, 0.12737851, 0.8964873 ,\n",
       "       0.28540162, 0.35622518, 0.29299146, 0.67104759, 0.47680314])"
      ]
     },
     "execution_count": 12,
     "metadata": {},
     "output_type": "execute_result"
    }
   ],
   "source": [
    "ret_min"
   ]
  }
 ],
 "metadata": {
  "kernelspec": {
   "display_name": "leoweng4.1",
   "language": "python",
   "name": "python3"
  },
  "language_info": {
   "codemirror_mode": {
    "name": "ipython",
    "version": 3
   },
   "file_extension": ".py",
   "mimetype": "text/x-python",
   "name": "python",
   "nbconvert_exporter": "python",
   "pygments_lexer": "ipython3",
   "version": "3.9.0"
  }
 },
 "nbformat": 4,
 "nbformat_minor": 2
}

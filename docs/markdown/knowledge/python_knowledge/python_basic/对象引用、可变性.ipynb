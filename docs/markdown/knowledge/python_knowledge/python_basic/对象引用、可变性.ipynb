{
 "cells": [
  {
   "cell_type": "markdown",
   "id": "0baeba4b",
   "metadata": {},
   "source": [
    "# 对象引用、可变性"
   ]
  },
  {
   "cell_type": "markdown",
   "id": "c640fceb",
   "metadata": {},
   "source": [
    "# 先看几个例子"
   ]
  },
  {
   "cell_type": "code",
   "execution_count": 1,
   "id": "3c0eb766",
   "metadata": {
    "scrolled": true
   },
   "outputs": [
    {
     "name": "stdout",
     "output_type": "stream",
     "text": [
      "[[1, 2]]\n",
      "[[1]]\n"
     ]
    }
   ],
   "source": [
    "result = [1, 2]\n",
    "value = []\n",
    "value.append(result)\n",
    "print(value)\n",
    "result.pop()\n",
    "print(value)"
   ]
  },
  {
   "cell_type": "code",
   "execution_count": 44,
   "id": "dcd7650b",
   "metadata": {
    "scrolled": true
   },
   "outputs": [
    {
     "name": "stdout",
     "output_type": "stream",
     "text": [
      "[[1, 2]]\n",
      "[[1, 2]]\n"
     ]
    }
   ],
   "source": [
    "result = [1, 2]\n",
    "value = []\n",
    "value.append(result.copy())\n",
    "print(value)\n",
    "result.pop()\n",
    "print(value)"
   ]
  },
  {
   "cell_type": "code",
   "execution_count": 5,
   "id": "bad6e010",
   "metadata": {
    "scrolled": true
   },
   "outputs": [
    {
     "data": {
      "text/plain": [
       "0"
      ]
     },
     "execution_count": 5,
     "metadata": {},
     "output_type": "execute_result"
    }
   ],
   "source": [
    "def fun1(result):\n",
    "    result = result + 1\n",
    "result = 0\n",
    "fun1(result)\n",
    "result"
   ]
  },
  {
   "cell_type": "code",
   "execution_count": 6,
   "id": "4abf5367",
   "metadata": {},
   "outputs": [
    {
     "data": {
      "text/plain": [
       "[1]"
      ]
     },
     "execution_count": 6,
     "metadata": {},
     "output_type": "execute_result"
    }
   ],
   "source": [
    "def fun2(result):\n",
    "    result.append(1)\n",
    "result = []\n",
    "fun2(result)\n",
    "result"
   ]
  },
  {
   "cell_type": "code",
   "execution_count": 43,
   "id": "7fcacdce",
   "metadata": {},
   "outputs": [
    {
     "data": {
      "text/plain": [
       "[1]"
      ]
     },
     "execution_count": 43,
     "metadata": {},
     "output_type": "execute_result"
    }
   ],
   "source": [
    "result"
   ]
  },
  {
   "cell_type": "code",
   "execution_count": 36,
   "id": "4a9f80a1",
   "metadata": {
    "scrolled": true
   },
   "outputs": [
    {
     "data": {
      "text/plain": [
       "(140292556937024, 140292556923712)"
      ]
     },
     "execution_count": 36,
     "metadata": {},
     "output_type": "execute_result"
    }
   ],
   "source": [
    "# reslt 和 result.copy()在内存中的地址不一样，因此result.copy()是重新开拓了一块内存地址。\n",
    "id(result), id(result.copy())"
   ]
  },
  {
   "cell_type": "code",
   "execution_count": 40,
   "id": "e124329a",
   "metadata": {},
   "outputs": [
    {
     "data": {
      "text/plain": [
       "(140292556937024, 140292556937024)"
      ]
     },
     "execution_count": 40,
     "metadata": {},
     "output_type": "execute_result"
    }
   ],
   "source": [
    "# result和result1都相当于对象[1]上的一个“标签”，指代同一个对象，则内存地址相同。\n",
    "result1 = result\n",
    "id(result), id(result1)"
   ]
  },
  {
   "cell_type": "markdown",
   "id": "ca6a695d",
   "metadata": {},
   "source": [
    "# 对上例的解释"
   ]
  },
  {
   "cell_type": "code",
   "execution_count": 48,
   "id": "332194f4",
   "metadata": {},
   "outputs": [],
   "source": [
    "result = [1, 2]\n",
    "value = []\n",
    "value.append(result)"
   ]
  },
  {
   "cell_type": "code",
   "execution_count": 53,
   "id": "d004989c",
   "metadata": {
    "scrolled": false
   },
   "outputs": [
    {
     "data": {
      "text/plain": [
       "(140293642742592, 140293642742592)"
      ]
     },
     "execution_count": 53,
     "metadata": {},
     "output_type": "execute_result"
    }
   ],
   "source": [
    "# 两者地址相同，为[1, 2]上的两个标签。则改变其中一个也会导致另外一个发生改变\n",
    "id(result), id(value[0])"
   ]
  },
  {
   "cell_type": "code",
   "execution_count": 62,
   "id": "f109267b",
   "metadata": {},
   "outputs": [
    {
     "name": "stdout",
     "output_type": "stream",
     "text": [
      "函数外部的变量的地址为: 140293630388496\n",
      "函数内部的参数的地址为: 140293630388528\n"
     ]
    },
    {
     "data": {
      "text/plain": [
       "0"
      ]
     },
     "execution_count": 62,
     "metadata": {},
     "output_type": "execute_result"
    }
   ],
   "source": [
    "# 可以看到，两者地址不一样，同理可解释为何result的值不发生改变。\n",
    "def fun1(result):\n",
    "    result = result + 1\n",
    "    print('函数内部的参数的地址为: %d'%id(result))\n",
    "result = 0\n",
    "print('函数外部的变量的地址为: %d'%id(result))\n",
    "fun1(result)\n",
    "result"
   ]
  },
  {
   "cell_type": "markdown",
   "id": "7776c461",
   "metadata": {},
   "source": [
    "# 再看几个例子"
   ]
  },
  {
   "cell_type": "markdown",
   "id": "4a311fb1",
   "metadata": {},
   "source": [
    "### 对不可变对象重新赋值，改变内存地址"
   ]
  },
  {
   "cell_type": "code",
   "execution_count": 123,
   "id": "17de453e",
   "metadata": {},
   "outputs": [
    {
     "name": "stdout",
     "output_type": "stream",
     "text": [
      "140293630388528 140293630388528\n",
      "1 2\n",
      "140293630388528 140293630388560\n"
     ]
    }
   ],
   "source": [
    "a = 1\n",
    "a1 = a\n",
    "print(id(a), id(a1))\n",
    "a1 = 2\n",
    "print(a, a1)\n",
    "print(id(a), id(a1))"
   ]
  },
  {
   "cell_type": "markdown",
   "id": "e5e1b7d4",
   "metadata": {},
   "source": [
    "### 对不可变对象使用+=，改变内存地址"
   ]
  },
  {
   "cell_type": "code",
   "execution_count": 124,
   "id": "e4842c49",
   "metadata": {
    "scrolled": true
   },
   "outputs": [
    {
     "name": "stdout",
     "output_type": "stream",
     "text": [
      "140293630388528 140293630388528\n",
      "1 2\n",
      "140293630388528 140293630388560\n"
     ]
    }
   ],
   "source": [
    "a = 1\n",
    "a1 = a\n",
    "print(id(a), id(a1))\n",
    "a1 += 1\n",
    "print(a, a1)\n",
    "print(id(a), id(a1))"
   ]
  },
  {
   "cell_type": "markdown",
   "id": "a849b277",
   "metadata": {},
   "source": [
    "### 对可变对象重新赋值，即将变量的引用改为另外一个对象，会改变变量对应对象的内存地址"
   ]
  },
  {
   "cell_type": "code",
   "execution_count": 129,
   "id": "2ef4f35e",
   "metadata": {},
   "outputs": [
    {
     "name": "stdout",
     "output_type": "stream",
     "text": [
      "140292825725184 140292825725184\n",
      "[1, 2] [1, 2, 3]\n",
      "140292825725184 140292825730752\n"
     ]
    }
   ],
   "source": [
    "a = [1, 2]\n",
    "a1 = a\n",
    "print(id(a), id(a1))\n",
    "a1 = [1, 2, 3]\n",
    "print(a, a1)\n",
    "print(id(a), id(a1))"
   ]
  },
  {
   "cell_type": "markdown",
   "id": "2431cd07",
   "metadata": {},
   "source": [
    "### 对可变对象的修改不会改变变量对应的对象的内存地址"
   ]
  },
  {
   "cell_type": "code",
   "execution_count": 127,
   "id": "2b07e6f4",
   "metadata": {},
   "outputs": [
    {
     "name": "stdout",
     "output_type": "stream",
     "text": [
      "140292825806272 140292825806272\n",
      "[1, 2, 3] [1, 2, 3]\n",
      "140292825806272 140292825806272\n"
     ]
    }
   ],
   "source": [
    "a = [1, 2]\n",
    "a1 = a\n",
    "print(id(a), id(a1))\n",
    "a1.append(3)\n",
    "print(a, a1)\n",
    "print(id(a), id(a1))"
   ]
  },
  {
   "cell_type": "code",
   "execution_count": 111,
   "id": "f0657ebe",
   "metadata": {},
   "outputs": [
    {
     "data": {
      "text/plain": [
       "[1, 2, 3]"
      ]
     },
     "execution_count": 111,
     "metadata": {},
     "output_type": "execute_result"
    }
   ],
   "source": [
    "list([1, 2, 3])"
   ]
  },
  {
   "cell_type": "markdown",
   "id": "e670a608",
   "metadata": {},
   "source": [
    "# 关于 == 和 is"
   ]
  },
  {
   "cell_type": "markdown",
   "id": "3162eb8b",
   "metadata": {},
   "source": [
    "### == 比较值，is 比较内存地址"
   ]
  },
  {
   "cell_type": "code",
   "execution_count": 89,
   "id": "c3b71041",
   "metadata": {},
   "outputs": [],
   "source": [
    "# result1和result3是[1, 2, 3]对象的两个别名，而result2绑定了另外一个具有相同的值的对象\n",
    "result1 = [1, 2, 3]\n",
    "result3 = result1\n",
    "result2 = [1, 2, 3]"
   ]
  },
  {
   "cell_type": "code",
   "execution_count": 90,
   "id": "31d488ef",
   "metadata": {},
   "outputs": [
    {
     "data": {
      "text/plain": [
       "(True, True)"
      ]
     },
     "execution_count": 90,
     "metadata": {},
     "output_type": "execute_result"
    }
   ],
   "source": [
    "result1 == result2, result1 == result3"
   ]
  },
  {
   "cell_type": "code",
   "execution_count": 91,
   "id": "44c37d0f",
   "metadata": {
    "scrolled": true
   },
   "outputs": [
    {
     "data": {
      "text/plain": [
       "False"
      ]
     },
     "execution_count": 91,
     "metadata": {},
     "output_type": "execute_result"
    }
   ],
   "source": [
    "# is 直接比较两者id\n",
    "result1 is result2"
   ]
  },
  {
   "cell_type": "code",
   "execution_count": 92,
   "id": "df188e93",
   "metadata": {
    "scrolled": true
   },
   "outputs": [
    {
     "data": {
      "text/plain": [
       "(140292825588160, 140292959857152, 140292825588160)"
      ]
     },
     "execution_count": 92,
     "metadata": {},
     "output_type": "execute_result"
    }
   ],
   "source": [
    "id(result1), id(result2), id(result3)"
   ]
  },
  {
   "cell_type": "markdown",
   "id": "d1c79043",
   "metadata": {},
   "source": [
    "# 深复制、浅复制"
   ]
  },
  {
   "cell_type": "markdown",
   "id": "fd1b57e4",
   "metadata": {},
   "source": [
    "### 1. 浅复制，创建一个新的标签，新的标签也会指向原始对象，则改变原先对象也会改变新的对象"
   ]
  },
  {
   "cell_type": "code",
   "execution_count": 2,
   "id": "93d53966",
   "metadata": {
    "scrolled": false
   },
   "outputs": [
    {
     "data": {
      "text/plain": [
       "(140210285827136, 140211093628800)"
      ]
     },
     "execution_count": 2,
     "metadata": {},
     "output_type": "execute_result"
    }
   ],
   "source": [
    "import copy\n",
    "a = [1, 2, 3, [1, 2, 3]]\n",
    "# copy.copy()做浅复制\n",
    "b = copy.copy(a)\n",
    "id(a), id(b)"
   ]
  },
  {
   "cell_type": "code",
   "execution_count": 3,
   "id": "d029a62c",
   "metadata": {},
   "outputs": [
    {
     "name": "stdout",
     "output_type": "stream",
     "text": [
      "[1, 2, 3, [1, 2, 3]]\n",
      "[1, 2, 3, [1, 2]]\n",
      "[1, 2, 3, [1, 2]]\n"
     ]
    }
   ],
   "source": [
    "print(b)\n",
    "a[3].pop()\n",
    "print(a)\n",
    "print(b)"
   ]
  },
  {
   "cell_type": "markdown",
   "id": "24954db1",
   "metadata": {},
   "source": [
    "### 2. 深复制，将原来标签的对象复制一份，同时使用新的标签指向这个新的对象。则改变原来的对象不会改变新的复制出的对象。"
   ]
  },
  {
   "cell_type": "code",
   "execution_count": 5,
   "id": "a872406a",
   "metadata": {
    "scrolled": true
   },
   "outputs": [
    {
     "data": {
      "text/plain": [
       "(140210285878464, 140210285876096)"
      ]
     },
     "execution_count": 5,
     "metadata": {},
     "output_type": "execute_result"
    }
   ],
   "source": [
    "a = [1, 2, 3, [1, 2, 3]]\n",
    "# copy.copy()做浅复制\n",
    "b = copy.deepcopy(a)\n",
    "id(a), id(b)"
   ]
  },
  {
   "cell_type": "code",
   "execution_count": 6,
   "id": "6c3c50ed",
   "metadata": {},
   "outputs": [
    {
     "name": "stdout",
     "output_type": "stream",
     "text": [
      "[1, 2, 3, [1, 2, 3]]\n",
      "[1, 2, 3, [1, 2]]\n",
      "[1, 2, 3, [1, 2, 3]]\n"
     ]
    }
   ],
   "source": [
    "print(b)\n",
    "a[3].pop()\n",
    "print(a)\n",
    "print(b)"
   ]
  },
  {
   "cell_type": "markdown",
   "id": "2d4bb776",
   "metadata": {},
   "source": [
    "# 关于元组"
   ]
  },
  {
   "cell_type": "code",
   "execution_count": 80,
   "id": "95bcdb47",
   "metadata": {},
   "outputs": [
    {
     "data": {
      "text/plain": [
       "[1, 2]"
      ]
     },
     "execution_count": 80,
     "metadata": {},
     "output_type": "execute_result"
    }
   ],
   "source": [
    "t = tuple([1, [1, 2]])\n",
    "t[1]"
   ]
  },
  {
   "cell_type": "code",
   "execution_count": 81,
   "id": "c8b25af6",
   "metadata": {},
   "outputs": [
    {
     "data": {
      "text/plain": [
       "(1, [1, 2, 3])"
      ]
     },
     "execution_count": 81,
     "metadata": {},
     "output_type": "execute_result"
    }
   ],
   "source": [
    "t[1].append(3)\n",
    "t"
   ]
  },
  {
   "cell_type": "markdown",
   "id": "a33bc2be",
   "metadata": {},
   "source": [
    "# 总结"
   ]
  },
  {
   "cell_type": "markdown",
   "id": "7b929857",
   "metadata": {},
   "source": [
    "### 需要理解的地方：python中变量可以看做是对象的引用，或者说是对象的标签。而对于变量的操作可以理解为利用这个变量对变量所引用的对象进行操作。\n",
    "### 例如，a = [1, 2], a.append(3)是利用[1, 2]对象的标签a对[1, 2]对象进行append的操作。"
   ]
  },
  {
   "cell_type": "code",
   "execution_count": null,
   "id": "8673ecca",
   "metadata": {},
   "outputs": [],
   "source": []
  },
  {
   "cell_type": "code",
   "execution_count": null,
   "id": "91782be0",
   "metadata": {},
   "outputs": [],
   "source": []
  }
 ],
 "metadata": {
  "kernelspec": {
   "display_name": "Python [conda env:leoweng3.0.2] *",
   "language": "python",
   "name": "conda-env-leoweng3.0.2-py"
  },
  "language_info": {
   "codemirror_mode": {
    "name": "ipython",
    "version": 3
   },
   "file_extension": ".py",
   "mimetype": "text/x-python",
   "name": "python",
   "nbconvert_exporter": "python",
   "pygments_lexer": "ipython3",
   "version": "3.9.0"
  }
 },
 "nbformat": 4,
 "nbformat_minor": 5
}

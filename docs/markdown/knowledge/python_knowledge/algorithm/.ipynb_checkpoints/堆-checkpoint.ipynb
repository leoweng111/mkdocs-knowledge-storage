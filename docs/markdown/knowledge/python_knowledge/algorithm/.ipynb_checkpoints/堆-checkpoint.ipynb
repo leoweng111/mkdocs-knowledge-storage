{
 "cells": [
  {
   "cell_type": "markdown",
   "id": "d380fa85",
   "metadata": {},
   "source": [
    "# 堆"
   ]
  },
  {
   "cell_type": "markdown",
   "id": "7161cc45",
   "metadata": {},
   "source": [
    "### python中可以用heapify实现小顶堆和大顶堆，参考[heapq介绍](https://cloud.tencent.com/developer/article/1794191)。"
   ]
  },
  {
   "cell_type": "code",
   "execution_count": 3,
   "id": "e324f6e5",
   "metadata": {},
   "outputs": [],
   "source": [
    "import heapq"
   ]
  },
  {
   "cell_type": "code",
   "execution_count": 4,
   "id": "98d66e9f",
   "metadata": {
    "scrolled": true
   },
   "outputs": [
    {
     "name": "stdout",
     "output_type": "stream",
     "text": [
      "array: [10, 17, 50, 7, 30, 24, 27, 45, 15, 5, 36, 21]\n",
      "heap:  [5, 7, 21, 15, 10, 24, 27, 45, 17, 30, 36, 50]\n",
      "array: [5, 7, 21, 10, 17, 24, 27, 45, 15, 30, 36, 50]\n"
     ]
    }
   ],
   "source": [
    "array = [10, 17, 50, 7, 30, 24, 27, 45, 15, 5, 36, 21]\n",
    "heap = []\n",
    "for num in array:\n",
    "    heapq.heappush(heap, num)\n",
    "    \n",
    "print(\"array:\", array)\n",
    "print(\"heap: \", heap)\n",
    "\n",
    "heapq.heapify(array)\n",
    "print(\"array:\", array)"
   ]
  },
  {
   "cell_type": "markdown",
   "id": "d9ce1290",
   "metadata": {},
   "source": [
    "### heappop方法弹出堆顶元素，然后重新对剩下元素进行堆构造。堆排序具体原理参考[这篇文章](https://mp.weixin.qq.com/s?__biz=MzU4NDc3NzEzNA==&mid=2247486047&idx=1&sn=f6f713315d5a941525d26e96c0ec0043&chksm=fd95e69ecae26f88f3f5306a9dbe6e1b6a2e6f875f5c93bf71b4bd7d6e1204d20142b3f81f1d&scene=21#wechat_redirect)。"
   ]
  },
  {
   "cell_type": "code",
   "execution_count": 6,
   "id": "dbfa9576",
   "metadata": {},
   "outputs": [
    {
     "name": "stdout",
     "output_type": "stream",
     "text": [
      "[5, 7, 21, 10, 17, 24, 27, 45, 15, 30, 36, 50]\n",
      "5\n",
      "[7, 10, 21, 15, 17, 24, 27, 45, 50, 30, 36]\n"
     ]
    }
   ],
   "source": [
    "print(array)\n",
    "a = heapq.heappop(array)\n",
    "print(a)\n",
    "print(array)"
   ]
  },
  {
   "cell_type": "markdown",
   "id": "d4c75158",
   "metadata": {},
   "source": [
    "### 如果heappush的是tuple，那么按照tuple的第一个元素进行堆构造。这里堆构造指的是对堆元素进行排列，使其满足小顶堆的性质。"
   ]
  },
  {
   "cell_type": "code",
   "execution_count": 11,
   "id": "0dbfa928",
   "metadata": {},
   "outputs": [
    {
     "data": {
      "text/plain": [
       "[(5, '10'),\n",
       " (7, '4'),\n",
       " (21, '12'),\n",
       " (15, '9'),\n",
       " (10, '1'),\n",
       " (24, '6'),\n",
       " (27, '7'),\n",
       " (45, '8'),\n",
       " (17, '2'),\n",
       " (30, '5'),\n",
       " (36, '11'),\n",
       " (50, '3')]"
      ]
     },
     "execution_count": 11,
     "metadata": {},
     "output_type": "execute_result"
    }
   ],
   "source": [
    "d = {'1': 10, '2': 17, '3': 50, '4': 7, '5': 30, '6': 24, '7': 27, '8': 45, '9': 15, '10': 5, '11': 36, '12': 21}\n",
    "heap = []\n",
    "for key, freq in d.items():\n",
    "    heapq.heappush(heap, (freq, key))\n",
    "heap"
   ]
  },
  {
   "cell_type": "code",
   "execution_count": null,
   "id": "0cdebaed",
   "metadata": {},
   "outputs": [],
   "source": []
  },
  {
   "cell_type": "code",
   "execution_count": null,
   "id": "6e36d238",
   "metadata": {},
   "outputs": [],
   "source": []
  },
  {
   "cell_type": "code",
   "execution_count": null,
   "id": "cfb32272",
   "metadata": {},
   "outputs": [],
   "source": []
  }
 ],
 "metadata": {
  "kernelspec": {
   "display_name": "Python [conda env:leoweng3.0.2] *",
   "language": "python",
   "name": "conda-env-leoweng3.0.2-py"
  },
  "language_info": {
   "codemirror_mode": {
    "name": "ipython",
    "version": 3
   },
   "file_extension": ".py",
   "mimetype": "text/x-python",
   "name": "python",
   "nbconvert_exporter": "python",
   "pygments_lexer": "ipython3",
   "version": "3.9.0"
  }
 },
 "nbformat": 4,
 "nbformat_minor": 5
}

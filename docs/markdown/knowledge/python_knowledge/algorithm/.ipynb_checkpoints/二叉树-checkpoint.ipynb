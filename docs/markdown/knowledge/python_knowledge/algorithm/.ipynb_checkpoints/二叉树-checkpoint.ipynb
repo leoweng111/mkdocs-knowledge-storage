{
 "cells": [
  {
   "cell_type": "code",
   "execution_count": 5,
   "id": "bf8b9ad0",
   "metadata": {},
   "outputs": [],
   "source": [
    "from typing import List"
   ]
  },
  {
   "cell_type": "markdown",
   "id": "0fc27929",
   "metadata": {},
   "source": [
    "# 二叉树的定义"
   ]
  },
  {
   "cell_type": "markdown",
   "id": "3615a825",
   "metadata": {},
   "source": [
    "## 节点，类似于链表"
   ]
  },
  {
   "cell_type": "code",
   "execution_count": 2,
   "id": "69649910",
   "metadata": {},
   "outputs": [],
   "source": [
    "class TreeNode:\n",
    "    def __init__(self, val, left = None, right = None):\n",
    "        self.val = val\n",
    "        self.left = left\n",
    "        self.right = right"
   ]
  },
  {
   "cell_type": "markdown",
   "id": "ee29e3b7",
   "metadata": {},
   "source": [
    "## 手动定义一个二叉树"
   ]
  },
  {
   "cell_type": "code",
   "execution_count": 9,
   "id": "da05b805",
   "metadata": {},
   "outputs": [],
   "source": [
    "node31 = TreeNode(1)\n",
    "node32 = TreeNode(2)\n",
    "node33 = TreeNode(7)\n",
    "node34 = TreeNode(8)\n",
    "node21 = TreeNode(4, left = node31, right = node32)\n",
    "node22 = TreeNode(6, left = node33, right = node34)\n",
    "root = TreeNode(5, left = node21, right = node22)"
   ]
  },
  {
   "cell_type": "markdown",
   "id": "28e9f70e",
   "metadata": {},
   "source": [
    "# 二叉树的遍历，返回的是遍历之后的列表"
   ]
  },
  {
   "cell_type": "markdown",
   "id": "df949b5a",
   "metadata": {},
   "source": [
    "## 前序遍历"
   ]
  },
  {
   "cell_type": "code",
   "execution_count": 18,
   "id": "268848a6",
   "metadata": {},
   "outputs": [],
   "source": [
    "class Solution:\n",
    "    def preorderTraversal(self, root: TreeNode) -> List[int]:\n",
    "        if not root:\n",
    "            return []\n",
    "\n",
    "        left = self.preorderTraversal(root.left)\n",
    "        right = self.preorderTraversal(root.right)\n",
    "\n",
    "        return  [root.val] + left +  right"
   ]
  },
  {
   "cell_type": "code",
   "execution_count": 19,
   "id": "007fd5ee",
   "metadata": {
    "scrolled": true
   },
   "outputs": [
    {
     "data": {
      "text/plain": [
       "[5, 4, 1, 2, 6, 7, 8]"
      ]
     },
     "execution_count": 19,
     "metadata": {},
     "output_type": "execute_result"
    }
   ],
   "source": [
    "Solution().preorderTraversal(root)"
   ]
  },
  {
   "cell_type": "code",
   "execution_count": 20,
   "id": "f8ecffd4",
   "metadata": {
    "scrolled": true
   },
   "outputs": [
    {
     "name": "stdout",
     "output_type": "stream",
     "text": [
      "[1]\n",
      "[2]\n",
      "[7]\n",
      "[8]\n"
     ]
    }
   ],
   "source": [
    "for node in [node31, node32, node33, node34]:\n",
    "    print(Solution().preorderTraversal(node))"
   ]
  },
  {
   "cell_type": "code",
   "execution_count": 21,
   "id": "6f4ab145",
   "metadata": {
    "scrolled": true
   },
   "outputs": [
    {
     "name": "stdout",
     "output_type": "stream",
     "text": [
      "[4, 1, 2]\n",
      "[6, 7, 8]\n"
     ]
    }
   ],
   "source": [
    "# 这里输出的就是self.preorderTraversal(root.left)和self.preorderTraversal(root.right)\n",
    "for node in [node21, node22]:\n",
    "    print(Solution().preorderTraversal(node))"
   ]
  },
  {
   "cell_type": "code",
   "execution_count": 48,
   "id": "975a93ba",
   "metadata": {},
   "outputs": [],
   "source": [
    "l = [1, 2, 3, 4, 5, 0]\n"
   ]
  },
  {
   "cell_type": "code",
   "execution_count": 35,
   "id": "894aac13",
   "metadata": {
    "scrolled": true
   },
   "outputs": [
    {
     "data": {
      "text/plain": [
       "[0, 1, 2, 3, 4, 5]"
      ]
     },
     "execution_count": 35,
     "metadata": {},
     "output_type": "execute_result"
    }
   ],
   "source": [
    "sorted(l)"
   ]
  },
  {
   "cell_type": "code",
   "execution_count": 38,
   "id": "04e65fb4",
   "metadata": {
    "scrolled": true
   },
   "outputs": [
    {
     "data": {
      "text/plain": [
       "1"
      ]
     },
     "execution_count": 38,
     "metadata": {},
     "output_type": "execute_result"
    }
   ],
   "source": [
    "from collections import deque\n",
    "deque([1, 2, 3, 4, 5])[0]"
   ]
  },
  {
   "cell_type": "code",
   "execution_count": 49,
   "id": "2521efdf",
   "metadata": {
    "scrolled": false
   },
   "outputs": [
    {
     "data": {
      "text/plain": [
       "[1, 2, 3, 4, 5]"
      ]
     },
     "execution_count": 49,
     "metadata": {},
     "output_type": "execute_result"
    }
   ],
   "source": [
    "l.pop()\n",
    "l"
   ]
  },
  {
   "cell_type": "code",
   "execution_count": 47,
   "id": "5581ee95",
   "metadata": {},
   "outputs": [
    {
     "data": {
      "text/plain": [
       "[1, 2, 3, 4, 5, 0, [...]]"
      ]
     },
     "execution_count": 47,
     "metadata": {},
     "output_type": "execute_result"
    }
   ],
   "source": [
    "l1 = l\n",
    "l.append(*l1)\n",
    "l"
   ]
  }
 ],
 "metadata": {
  "kernelspec": {
   "display_name": "Python [conda env:leoweng3.0.2] *",
   "language": "python",
   "name": "conda-env-leoweng3.0.2-py"
  },
  "language_info": {
   "codemirror_mode": {
    "name": "ipython",
    "version": 3
   },
   "file_extension": ".py",
   "mimetype": "text/x-python",
   "name": "python",
   "nbconvert_exporter": "python",
   "pygments_lexer": "ipython3",
   "version": "3.9.0"
  }
 },
 "nbformat": 4,
 "nbformat_minor": 5
}

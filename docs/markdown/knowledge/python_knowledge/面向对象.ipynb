{
 "cells": [
  {
   "cell_type": "markdown",
   "id": "d3c70ea8",
   "metadata": {},
   "source": [
    "# 1. Super用法"
   ]
  },
  {
   "cell_type": "markdown",
   "id": "035f370b",
   "metadata": {},
   "source": [
    "首先明确，self代表了类的一个实例"
   ]
  },
  {
   "cell_type": "markdown",
   "id": "6d3391cf",
   "metadata": {},
   "source": [
    "super的作用一般包括以下两点：\n",
    "- 用来在子类中调用父类的方法\n",
    "- 多用于多继承问题中，解决查找顺序（MRO）、重复调用（钻石继承）等种种问题\n"
   ]
  },
  {
   "cell_type": "markdown",
   "id": "5ead7130",
   "metadata": {},
   "source": [
    "## 1. 1 在子类中调用父类"
   ]
  },
  {
   "cell_type": "markdown",
   "id": "f703344e",
   "metadata": {},
   "source": [
    "B是A的子类，我们在B中可以直接调用A的方法。A.funxx(self)中self指代B的实例对象b，表示实例对象b通过A类名调用方法funxx()。"
   ]
  },
  {
   "cell_type": "code",
   "execution_count": 99,
   "id": "d6646ffd",
   "metadata": {
    "scrolled": true
   },
   "outputs": [
    {
     "name": "stdout",
     "output_type": "stream",
     "text": [
      "我们定义的实例b: <__main__.B object at 0x7fb948465a30>\n",
      "B的实例b: <__main__.B object at 0x7fb948465a30>\n",
      "输入A的funxx方法的实例: <__main__.B object at 0x7fb948465a30>\n",
      "执行 A 中的 funxx 方法 ... ...\n",
      "执行 B 中的 funxx 方法 ... ...\n"
     ]
    }
   ],
   "source": [
    "class A:\n",
    "    def funxx(self):\n",
    "        print(f'输入A的funxx方法的实例: {self}')\n",
    "        print(\"执行 A 中的 funxx 方法 ... ...\")\n",
    " \n",
    "        \n",
    "class B(A):\n",
    "    def funxx(self):\n",
    "        print(f'B的实例b: {self}')\n",
    "        A.funxx(self)       # 通过类名调用父类中的同名方法，self 参数代表 B 类的实例对象 b\n",
    "        print(\"执行 B 中的 funxx 方法 ... ...\")\n",
    "\n",
    "        \n",
    "b = B()\n",
    "print(f'我们定义的实例b: {b}')\n",
    "b.funxx()\n"
   ]
  },
  {
   "cell_type": "markdown",
   "id": "259cf58e",
   "metadata": {},
   "source": [
    "- 可以看出，三个实例内存地址相同，说明为同一个对象。"
   ]
  },
  {
   "cell_type": "markdown",
   "id": "0896f89d",
   "metadata": {},
   "source": [
    "本质上，实例方法就是第一个参数为实例的方法。我们可以先把实例方法拿出来，当作一个不同的输入一个实例的函数；或者通过特殊的\"实例x.方法()\"的形式指定输入方法的第一个参数为实例x。\n",
    "- 有如下两种写法："
   ]
  },
  {
   "cell_type": "code",
   "execution_count": 217,
   "id": "081b4a04",
   "metadata": {
    "scrolled": false
   },
   "outputs": [
    {
     "name": "stdout",
     "output_type": "stream",
     "text": [
      "输入A的funxx方法的实例: <__main__.A object at 0x7fb9500eda90>\n",
      "执行 A 中的 funxx 方法 ... ...\n"
     ]
    }
   ],
   "source": [
    "# 先拿出A.funxx()，这是一个接受参数为一个实例的函数，我们输入实例A()\n",
    "A.funxx(A())"
   ]
  },
  {
   "cell_type": "code",
   "execution_count": 219,
   "id": "8383f98b",
   "metadata": {
    "scrolled": true
   },
   "outputs": [
    {
     "name": "stdout",
     "output_type": "stream",
     "text": [
      "输入A的funxx方法的实例: <__main__.A object at 0x7fb9500ed700>\n",
      "执行 A 中的 funxx 方法 ... ...\n"
     ]
    }
   ],
   "source": [
    "# 这是通常的写法，直接指定funxx()接受的第一个参数为实例A()\n",
    "A().funxx()"
   ]
  },
  {
   "cell_type": "markdown",
   "id": "d7f951ec",
   "metadata": {},
   "source": [
    "我们可以通过super函数调用。super引用父类而不必显式地指定它们的名称，从而令代码更易维护。"
   ]
  },
  {
   "cell_type": "markdown",
   "id": "9dc27f9a",
   "metadata": {},
   "source": [
    "super具有两个参数，其中：\n",
    "- 第一个参数则给出搜索目标方法的范围。\n",
    "- 第二个参数给出 MRO（方法解析顺序），也就是搜索目标方法的顺序。"
   ]
  },
  {
   "cell_type": "markdown",
   "id": "c2f86971",
   "metadata": {},
   "source": [
    "具体来看：\n",
    "- 第一个参数为一个类，指定了从这个类的下一个父类（MRO链条上最近的父类）开始找。\n",
    "- 第二个参数为一个类或者实例，如果是类，这个类所在的MRO链条将成为搜索目标方法的顺序；如果是实例，这个实例所在的MRO链条将成为搜索目标方法的顺序。\n",
    "\n",
    "- 第二个参数一般为self，代表了从调用super方法的这个类的实例。这个实例所在的类（也就是调用super方法的类）所在的MRO链条将成为搜索目标方法的顺序。"
   ]
  },
  {
   "cell_type": "markdown",
   "id": "4d1b7ee8",
   "metadata": {},
   "source": [
    "super的第二个参数（super(type, obj): obj must be an instance or subtype of type）：\n",
    "- 如果是实例，则一定要是super的第一个参数的类或者其子类的实例\n",
    "- 如果是类，则一定要是调用super的类本身或者子类"
   ]
  },
  {
   "cell_type": "markdown",
   "id": "b313f1cf",
   "metadata": {},
   "source": [
    "- 可以这样理解：如果super的第二个参数是类，那么super返回的也是一个类；第二个参数是实例，则super返回的也是一个实例"
   ]
  },
  {
   "cell_type": "markdown",
   "id": "6993cf2d",
   "metadata": {},
   "source": [
    "super方法沿着第二个参数指定的MRO链条，从第一个参数的下一个父类开始搜索节点，返回离的最近的节点（可能是实例也可能是类）"
   ]
  },
  {
   "cell_type": "markdown",
   "id": "53de79e5",
   "metadata": {},
   "source": [
    "因此，我们使用super方法改写上面的代码："
   ]
  },
  {
   "cell_type": "code",
   "execution_count": 204,
   "id": "12c90298",
   "metadata": {},
   "outputs": [
    {
     "name": "stdout",
     "output_type": "stream",
     "text": [
      "我们定义的实例b: <__main__.B object at 0x7fb9500ed700>\n",
      "B的实例b: <__main__.B object at 0x7fb9500ed700>\n",
      "输入A的funxx方法的实例: <__main__.B object at 0x7fb9500ed700>\n",
      "执行 A 中的 funxx 方法 ... ...\n",
      "执行 B 中的 funxx 方法 ... ...\n"
     ]
    }
   ],
   "source": [
    "class A:\n",
    "    def funxx(self):\n",
    "        print(f'输入A的funxx方法的实例: {self}')\n",
    "        print(\"执行 A 中的 funxx 方法 ... ...\")\n",
    " \n",
    "        \n",
    "class B(A):\n",
    "    def funxx(self):\n",
    "        print(f'B的实例b: {self}')\n",
    "        super(B, self).funxx()       # 通过类名调用父类中的同名方法，self 参数代表 B 类的实例对象 b\n",
    "        print(\"执行 B 中的 funxx 方法 ... ...\")\n",
    "\n",
    "        \n",
    "b = B()\n",
    "print(f'我们定义的实例b: {b}')\n",
    "b.funxx()"
   ]
  },
  {
   "cell_type": "markdown",
   "id": "de4d77af",
   "metadata": {},
   "source": [
    "这里super(B, self)中的参数说明：\n",
    "- 第一个参数B表示从B的下一个节点开始搜索，即从离B的最近的父类开始搜索，一直向上搜索到根节点。\n",
    "- 第二个参数self代表了实例b，表示其所在类的继承顺序（MRO）为：B→A→object。所以调用时是在 B 的父类 A 中寻找，如找不到目标方法则会在更上一层的object中寻找。注意这里我们通过实例b给出继承顺序"
   ]
  },
  {
   "cell_type": "markdown",
   "id": "4ce0d1db",
   "metadata": {},
   "source": [
    "还可以写成如下等价形式。super(B, B)返回的是第二个参数"
   ]
  },
  {
   "cell_type": "code",
   "execution_count": 205,
   "id": "0e48ad3e",
   "metadata": {},
   "outputs": [
    {
     "name": "stdout",
     "output_type": "stream",
     "text": [
      "我们定义的实例b: <__main__.B object at 0x7fb9500ed910>\n",
      "B的实例b: <__main__.B object at 0x7fb9500ed910>\n",
      "输入A的funxx方法的实例: <__main__.B object at 0x7fb9500ed910>\n",
      "执行 A 中的 funxx 方法 ... ...\n",
      "执行 B 中的 funxx 方法 ... ...\n"
     ]
    }
   ],
   "source": [
    "class A:\n",
    "    def funxx(self):\n",
    "        print(f'输入A的funxx方法的实例: {self}')\n",
    "        print(\"执行 A 中的 funxx 方法 ... ...\")\n",
    " \n",
    "        \n",
    "class B(A):\n",
    "    def funxx(self):\n",
    "        print(f'B的实例b: {self}')\n",
    "        super(B, B).funxx(self)       # 通过类名调用父类中的同名方法，self 参数代表 B 类的实例对象 b\n",
    "        print(\"执行 B 中的 funxx 方法 ... ...\")\n",
    "\n",
    "        \n",
    "b = B()\n",
    "print(f'我们定义的实例b: {b}')\n",
    "b.funxx()\n"
   ]
  },
  {
   "cell_type": "markdown",
   "id": "b16b325e",
   "metadata": {},
   "source": [
    "如果不指定super的第一个参数，则第一个参数默认为当前调用super的类(__class__)；不指定第二个参数则第二个参数默认为self。因此，上述代码等价于："
   ]
  },
  {
   "cell_type": "code",
   "execution_count": 55,
   "id": "ce0d3fd2",
   "metadata": {
    "scrolled": false
   },
   "outputs": [
    {
     "name": "stdout",
     "output_type": "stream",
     "text": [
      "<class '__main__.B'>\n",
      "执行 A 中的 funxx 方法 ... ...\n",
      "执行 B 中的 funxx 方法 ... ...\n"
     ]
    }
   ],
   "source": [
    "class A:\n",
    "    def funxx(self):\n",
    "        print(\"执行 A 中的 funxx 方法 ... ...\")\n",
    " \n",
    "        \n",
    "class B(A):\n",
    "    def funxx(self):\n",
    "        print(__class__)\n",
    "        super().funxx()       # 通过类名调用父类中的同名方法，self 参数代表 B 类的实例对象 b\n",
    "        print(\"执行 B 中的 funxx 方法 ... ...\")\n",
    "\n",
    "        \n",
    "b = B()\n",
    "b.funxx()\n"
   ]
  },
  {
   "cell_type": "markdown",
   "id": "6040386b",
   "metadata": {},
   "source": [
    "再看一个例子："
   ]
  },
  {
   "cell_type": "code",
   "execution_count": 112,
   "id": "81f2ad7c",
   "metadata": {
    "scrolled": true
   },
   "outputs": [
    {
     "name": "stdout",
     "output_type": "stream",
     "text": [
      "F 类的 MRO : (<class '__main__.F'>, <class '__main__.E'>, <class '__main__.B'>, <class '__main__.C'>, <class '__main__.D'>, <class '__main__.A'>, <class 'object'>)\n",
      "执行 F 中的 funff()...\n",
      "找到 funxx() 位于 C 中...\n"
     ]
    }
   ],
   "source": [
    "class A:\n",
    "    def funxx(self):\n",
    "        print(\"找到 funxx() 位于 A 中...\")\n",
    " \n",
    "class B(A):\n",
    "    pass\n",
    " \n",
    " \n",
    "class C(A):\n",
    "    def funxx(self):\n",
    "        print(\"找到 funxx() 位于 C 中...\")\n",
    " \n",
    " \n",
    "class D(A):\n",
    "    pass\n",
    " \n",
    " \n",
    "class E(B, C):\n",
    "    pass\n",
    " \n",
    " \n",
    "class F(E, D):\n",
    "    def funff(self):\n",
    "        print(\"执行 F 中的 funff()...\")\n",
    "        super(E, self).funxx()\n",
    " \n",
    "        \n",
    "print(f\"F 类的 MRO : {F.__mro__}\")\n",
    "f = F()\n",
    "f.funff()"
   ]
  },
  {
   "cell_type": "markdown",
   "id": "359f78f4",
   "metadata": {},
   "source": [
    "在这个例子中，F 类的 MRO：F→E→B→C→D→A→object，super(E, self)表示从E类的下一个节点开始找，继承顺序由self指定，代表f所在的类F的MRO链条为搜索链条。先在B中寻找，没有找到，然后在C中寻找，找到了，并且运行C().funxx。"
   ]
  },
  {
   "cell_type": "markdown",
   "id": "c244975c",
   "metadata": {},
   "source": [
    "如果我们改变super的第一个参数为D，那么就会从D开始寻找："
   ]
  },
  {
   "cell_type": "code",
   "execution_count": 142,
   "id": "b74b0657",
   "metadata": {
    "scrolled": true
   },
   "outputs": [
    {
     "name": "stdout",
     "output_type": "stream",
     "text": [
      "F 类的 MRO : (<class '__main__.F'>, <class '__main__.E'>, <class '__main__.B'>, <class '__main__.C'>, <class '__main__.D'>, <class '__main__.A'>, <class 'object'>)\n",
      "执行 F 中的 funff()...\n",
      "找到 funxx() 位于 A 中...\n"
     ]
    }
   ],
   "source": [
    "class A:\n",
    "    def funxx(self):\n",
    "        print(\"找到 funxx() 位于 A 中...\")\n",
    " \n",
    "class B(A):\n",
    "    pass\n",
    " \n",
    " \n",
    "class C(A):\n",
    "    def funxx(self):\n",
    "        print(\"找到 funxx() 位于 C 中...\")\n",
    " \n",
    " \n",
    "class D(A):\n",
    "    pass\n",
    " \n",
    " \n",
    "class E(B, C):\n",
    "    pass\n",
    " \n",
    " \n",
    "class F(E, D):\n",
    "    def funff(self):\n",
    "        print(\"执行 F 中的 funff()...\")\n",
    "        super(D, self).funxx()\n",
    " \n",
    "        \n",
    "print(f\"F 类的 MRO : {F.__mro__}\")\n",
    "f = F()\n",
    "f.funff()"
   ]
  },
  {
   "cell_type": "markdown",
   "id": "95f02c58",
   "metadata": {},
   "source": [
    "注意，super的第一个参数类最好是调用super的类本身或者父类。否则从子类开始找，会找到调用super的类的方法，然后又会进入super函数，出现无限递归并且溢出的情况，除非使用super的方法和super调用的父方法名称不同。"
   ]
  },
  {
   "cell_type": "code",
   "execution_count": 240,
   "id": "1bcad376",
   "metadata": {
    "scrolled": false
   },
   "outputs": [
    {
     "name": "stdout",
     "output_type": "stream",
     "text": [
      "F 类的 MRO : (<class '__main__.F'>, <class '__main__.E'>, <class '__main__.B'>, <class '__main__.C'>, <class '__main__.D'>, <class '__main__.A'>, <class 'object'>)\n"
     ]
    },
    {
     "ename": "RecursionError",
     "evalue": "maximum recursion depth exceeded while calling a Python object",
     "output_type": "error",
     "traceback": [
      "\u001b[0;31m---------------------------------------------------------------------------\u001b[0m",
      "\u001b[0;31mRecursionError\u001b[0m                            Traceback (most recent call last)",
      "Cell \u001b[0;32mIn[240], line 31\u001b[0m\n\u001b[1;32m     29\u001b[0m \u001b[38;5;28mprint\u001b[39m(\u001b[38;5;124mf\u001b[39m\u001b[38;5;124m\"\u001b[39m\u001b[38;5;124mF 类的 MRO : \u001b[39m\u001b[38;5;132;01m{\u001b[39;00mF\u001b[38;5;241m.\u001b[39m\u001b[38;5;18m__mro__\u001b[39m\u001b[38;5;132;01m}\u001b[39;00m\u001b[38;5;124m\"\u001b[39m)\n\u001b[1;32m     30\u001b[0m e \u001b[38;5;241m=\u001b[39m E()\n\u001b[0;32m---> 31\u001b[0m \u001b[43me\u001b[49m\u001b[38;5;241;43m.\u001b[39;49m\u001b[43mfunxx\u001b[49m\u001b[43m(\u001b[49m\u001b[43m)\u001b[49m\n",
      "Cell \u001b[0;32mIn[240], line 20\u001b[0m, in \u001b[0;36mE.funxx\u001b[0;34m(self)\u001b[0m\n\u001b[1;32m     19\u001b[0m \u001b[38;5;28;01mdef\u001b[39;00m \u001b[38;5;21mfunxx\u001b[39m(\u001b[38;5;28mself\u001b[39m):\n\u001b[0;32m---> 20\u001b[0m     \u001b[38;5;28;43msuper\u001b[39;49m\u001b[43m(\u001b[49m\u001b[43mF\u001b[49m\u001b[43m,\u001b[49m\u001b[43m \u001b[49m\u001b[43mF\u001b[49m\u001b[43m(\u001b[49m\u001b[43m)\u001b[49m\u001b[43m)\u001b[49m\u001b[38;5;241;43m.\u001b[39;49m\u001b[43mfunxx\u001b[49m\u001b[43m(\u001b[49m\u001b[43m)\u001b[49m\n",
      "Cell \u001b[0;32mIn[240], line 20\u001b[0m, in \u001b[0;36mE.funxx\u001b[0;34m(self)\u001b[0m\n\u001b[1;32m     19\u001b[0m \u001b[38;5;28;01mdef\u001b[39;00m \u001b[38;5;21mfunxx\u001b[39m(\u001b[38;5;28mself\u001b[39m):\n\u001b[0;32m---> 20\u001b[0m     \u001b[38;5;28;43msuper\u001b[39;49m\u001b[43m(\u001b[49m\u001b[43mF\u001b[49m\u001b[43m,\u001b[49m\u001b[43m \u001b[49m\u001b[43mF\u001b[49m\u001b[43m(\u001b[49m\u001b[43m)\u001b[49m\u001b[43m)\u001b[49m\u001b[38;5;241;43m.\u001b[39;49m\u001b[43mfunxx\u001b[49m\u001b[43m(\u001b[49m\u001b[43m)\u001b[49m\n",
      "    \u001b[0;31m[... skipping similar frames: E.funxx at line 20 (2970 times)]\u001b[0m\n",
      "Cell \u001b[0;32mIn[240], line 20\u001b[0m, in \u001b[0;36mE.funxx\u001b[0;34m(self)\u001b[0m\n\u001b[1;32m     19\u001b[0m \u001b[38;5;28;01mdef\u001b[39;00m \u001b[38;5;21mfunxx\u001b[39m(\u001b[38;5;28mself\u001b[39m):\n\u001b[0;32m---> 20\u001b[0m     \u001b[38;5;28msuper\u001b[39m(F, \u001b[43mF\u001b[49m\u001b[43m(\u001b[49m\u001b[43m)\u001b[49m)\u001b[38;5;241m.\u001b[39mfunxx()\n",
      "\u001b[0;31mRecursionError\u001b[0m: maximum recursion depth exceeded while calling a Python object"
     ]
    }
   ],
   "source": [
    "class A:\n",
    "    def funxx(self):\n",
    "        print(\"找到 funxx() 位于 A 中...\")\n",
    " \n",
    "class B(A):\n",
    "    pass\n",
    " \n",
    " \n",
    "class C(A):\n",
    "    def funxx(self):\n",
    "        print(\"找到 funxx() 位于 C 中...\")\n",
    " \n",
    " \n",
    "class D(A):\n",
    "    pass\n",
    " \n",
    " \n",
    "class E(B, C):\n",
    "    def funxx(self):\n",
    "        super(F, F()).funxx()\n",
    " \n",
    " \n",
    "class F(E, D):\n",
    "    def funff(self):\n",
    "        print(\"执行 F 中的 funff()...\")\n",
    "        super(F, self).funxx()\n",
    "\n",
    "        \n",
    "print(f\"F 类的 MRO : {F.__mro__}\")\n",
    "e = E()\n",
    "e.funxx()"
   ]
  },
  {
   "cell_type": "markdown",
   "id": "d723bdac",
   "metadata": {},
   "source": [
    "此处出现了无限递归溢出的情况"
   ]
  },
  {
   "cell_type": "markdown",
   "id": "16e5263a",
   "metadata": {},
   "source": [
    "super的第二个参数（super(type, obj): obj must be an instance or subtype of type）：\n",
    "- 如果是实例，则一定要是super的第一个参数的类或者其子类的实例\n",
    "- 如果是类，则一定要是调用super的类本身或者子类"
   ]
  },
  {
   "cell_type": "code",
   "execution_count": 243,
   "id": "ebd40e68",
   "metadata": {
    "scrolled": false
   },
   "outputs": [
    {
     "name": "stdout",
     "output_type": "stream",
     "text": [
      "F 类的 MRO : (<class '__main__.F'>, <class '__main__.E'>, <class '__main__.B'>, <class '__main__.C'>, <class '__main__.D'>, <class '__main__.A'>, <class 'object'>)\n",
      "False\n",
      "<super: <class 'E'>, <E object>>\n",
      "<function C.funxx at 0x7fb948856e50>\n",
      "找到 funxx() 位于 C 中...\n"
     ]
    }
   ],
   "source": [
    "class A:\n",
    "    def funxx(self):\n",
    "        print(\"找到 funxx() 位于 A 中...\")\n",
    " \n",
    "class B(A):\n",
    "    pass\n",
    " \n",
    " \n",
    "class C(A):\n",
    "    def funxx(self):\n",
    "        print(\"找到 funxx() 位于 C 中...\")\n",
    " \n",
    " \n",
    "class D(A):\n",
    "    pass\n",
    " \n",
    "\n",
    "class E(B, C):\n",
    "    def funxx(self):\n",
    "        print(super(E, F) == C)\n",
    "        print(super(E, E))\n",
    "        print(super(E, F).funxx)\n",
    "        super(E, F()).funxx()\n",
    " \n",
    " \n",
    "class F(E, D):\n",
    "    def funff(self):\n",
    "        print(\"执行 F 中的 funff()...\")\n",
    "        super(F, self).funxx()\n",
    " \n",
    "        \n",
    "print(f\"F 类的 MRO : {F.__mro__}\")\n",
    "e = E()\n",
    "e.funxx()"
   ]
  },
  {
   "cell_type": "markdown",
   "id": "03862187",
   "metadata": {},
   "source": [
    "## 1.2 重复调用问题"
   ]
  },
  {
   "cell_type": "code",
   "execution_count": 234,
   "id": "3304c0f2",
   "metadata": {},
   "outputs": [
    {
     "name": "stdout",
     "output_type": "stream",
     "text": [
      "打印属性 d\n",
      "打印属性 b\n",
      "打印属性 a\n",
      "打印属性 c\n",
      "打印属性 a\n",
      "(<class '__main__.D'>, <class '__main__.B'>, <class '__main__.C'>, <class '__main__.A'>, <class 'object'>)\n"
     ]
    }
   ],
   "source": [
    "class A:\n",
    "    def __init__(self):\n",
    "        print(\"打印属性 a\")\n",
    " \n",
    "class B(A):\n",
    "    def __init__(self):\n",
    "        print(\"打印属性 b\")\n",
    "        A.__init__(self)\n",
    " \n",
    "   \n",
    "class C(A):\n",
    "    def __init__(self):\n",
    "        print(\"打印属性 c\")\n",
    "        A.__init__(self)\n",
    "\n",
    "   \n",
    "class D(B, C):\n",
    "    def __init__(self):\n",
    "        print(\"打印属性 d\")\n",
    "        B.__init__(self)\n",
    "        C.__init__(self)\n",
    "    \n",
    "d = D()\n",
    "print(D.__mro__)"
   ]
  },
  {
   "cell_type": "markdown",
   "id": "db131c21",
   "metadata": {},
   "source": [
    "因为 B，C 都继承自 A，所以当 D 在实例化时，A 的构造函数被执行了两次。这就是所谓的重复调用问题。我们可以使用super函数解决。"
   ]
  },
  {
   "cell_type": "code",
   "execution_count": 302,
   "id": "74718168",
   "metadata": {
    "scrolled": true
   },
   "outputs": [
    {
     "name": "stdout",
     "output_type": "stream",
     "text": [
      "打印属性 d <__main__.D object at 0x7fb9485061f0>\n",
      "打印属性 b <__main__.D object at 0x7fb9485061f0>\n",
      "打印属性 c <__main__.D object at 0x7fb9485061f0>\n",
      "打印属性 a <__main__.D object at 0x7fb9485061f0>\n"
     ]
    }
   ],
   "source": [
    "class A:\n",
    "    def __init__(self):\n",
    "        print(\"打印属性 a\", self)\n",
    " \n",
    "   \n",
    "class B(A):\n",
    "    def __init__(self):\n",
    "        print(\"打印属性 b\", self)\n",
    "        super().__init__()  # super() 等同于 super(B, self)\n",
    " \n",
    "   \n",
    "class C(A):\n",
    "    def __init__(self):\n",
    "        print(\"打印属性 c\", self)\n",
    "        super().__init__()  # super() 等同于 super(C, self)\n",
    " \n",
    " \n",
    "class D(B, C):\n",
    "    def __init__(self):\n",
    "        print(\"打印属性 d\", self)\n",
    "        super(D, self).__init__()\n",
    " \n",
    "   \n",
    "d = D()"
   ]
  },
  {
   "cell_type": "markdown",
   "id": "06ead469",
   "metadata": {},
   "source": [
    "查看输出结果我们发现虽然解决了重复调用问题，但是输出结果的顺序好像与我们想的有所区别。我们的惯性思维是：先执行 D 类的__init__() 方法，接着调用 B 类的__init__() 方法，B 类的构造方法中又调用了父类 A 的__init__() 方法，然后再是调用 C 类的__init__() 方法，该方法也调用了父类A的__init__() 方法。所以执行的结果应该是：打印属性 d，打印属性 b，打印属性 a，打印属性 c。"
   ]
  },
  {
   "cell_type": "markdown",
   "id": "64086052",
   "metadata": {},
   "source": [
    "为何结果不是我们想的那样呢，首先我们要知道 D 类中的第二个参数 self 为 D 的实例 d，它提供的 MRO 为：D→B→C→A→object。所以 D 类中的 super() 函数产生的是 d 的代理对象，当其调用父类 B 的__init__() 时，B 的 super() 的第二个参数为 D 中的 super object，其所提供的 MRO 依旧为：D→B→C→A→object。也就是说 B 中的 super() 调用的是它的上一级 C 中的__init__() ，而不是 A 中的__init__()。所以执行的结果是：打印属性 d，打印属性 b，打印属性 c，打印属性 a。"
   ]
  },
  {
   "cell_type": "markdown",
   "id": "c03a10f1",
   "metadata": {},
   "source": [
    "当然，也可以实现一个重复的效果："
   ]
  },
  {
   "cell_type": "code",
   "execution_count": 304,
   "id": "f961db07",
   "metadata": {
    "scrolled": true
   },
   "outputs": [
    {
     "name": "stdout",
     "output_type": "stream",
     "text": [
      "打印属性 d <__main__.D object at 0x7fb948524610>\n",
      "打印属性 b <__main__.D object at 0x7fb948524610>\n",
      "打印属性 a <__main__.D object at 0x7fb948524610>\n",
      "打印属性 c <__main__.D object at 0x7fb948524610>\n",
      "打印属性 a <__main__.D object at 0x7fb948524610>\n"
     ]
    }
   ],
   "source": [
    "class A:\n",
    "    def __init__(self):\n",
    "        print(\"打印属性 a\", self)\n",
    " \n",
    "   \n",
    "class B(A):\n",
    "    def __init__(self):\n",
    "        print(\"打印属性 b\", self)\n",
    "        super(C, self).__init__()  # super() 等同于 super(B, self)\n",
    "        super(B, self).__init__()\n",
    " \n",
    "   \n",
    "class C(A):\n",
    "    def __init__(self):\n",
    "        print(\"打印属性 c\", self)\n",
    "        super().__init__()  # super() 等同于 super(C, self)\n",
    " \n",
    " \n",
    "class D(B, C):\n",
    "    def __init__(self):\n",
    "        print(\"打印属性 d\", self)\n",
    "        super(D, self).__init__()\n",
    " \n",
    "   \n",
    "d = D()"
   ]
  },
  {
   "cell_type": "markdown",
   "id": "d1c818ac",
   "metadata": {},
   "source": [
    "## 1.3 类方法和静态方法中super的用法"
   ]
  },
  {
   "cell_type": "markdown",
   "id": "3f15d3e0",
   "metadata": {},
   "source": [
    "和实例方法的用法完全相同。只需记住：\n",
    "- super的第二个参数是实例，就可以理解为返回的是实例；第二个参数是类就可以理解为返回的是类。"
   ]
  },
  {
   "cell_type": "markdown",
   "id": "fa943933",
   "metadata": {},
   "source": [
    "例1：此处沿着类C的MRO链条，从距离B的最近的父类A开始搜索。"
   ]
  },
  {
   "cell_type": "code",
   "execution_count": 292,
   "id": "a5c96db1",
   "metadata": {},
   "outputs": [],
   "source": [
    "class A:\n",
    "    @classmethod\n",
    "    def hello(cls):\n",
    "        print(\"Hello from A\")\n",
    "class B(A):\n",
    "    @classmethod\n",
    "    def hello(cls):\n",
    "        print('Hello from B')\n",
    "class C(B):\n",
    "    @classmethod\n",
    "    def hello(cls):\n",
    "        super(B, B).hello()"
   ]
  },
  {
   "cell_type": "code",
   "execution_count": 293,
   "id": "613ad079",
   "metadata": {
    "scrolled": false
   },
   "outputs": [
    {
     "name": "stdout",
     "output_type": "stream",
     "text": [
      "Hello from A\n"
     ]
    }
   ],
   "source": [
    "C().hello()"
   ]
  },
  {
   "cell_type": "markdown",
   "id": "a7506dc2",
   "metadata": {},
   "source": [
    "例2：注意到类方法的第一个参数也可以传入实例（此时会把实例对应的类传递给类方法的第一个参数）："
   ]
  },
  {
   "cell_type": "code",
   "execution_count": 273,
   "id": "5895a870",
   "metadata": {},
   "outputs": [],
   "source": [
    "class A:\n",
    "    @classmethod\n",
    "    def hello(cls):\n",
    "        print(\"Hello from A\")\n",
    "class B(A):\n",
    "    @classmethod\n",
    "    def hello(cls):\n",
    "        print('Hello from B')\n",
    "class C(B):\n",
    "    @classmethod\n",
    "    def hello(cls):\n",
    "        super(B, C()).hello()"
   ]
  },
  {
   "cell_type": "code",
   "execution_count": 274,
   "id": "59fbde8b",
   "metadata": {
    "scrolled": true
   },
   "outputs": [
    {
     "name": "stdout",
     "output_type": "stream",
     "text": [
      "Hello from A\n"
     ]
    }
   ],
   "source": [
    "C().hello()"
   ]
  },
  {
   "cell_type": "markdown",
   "id": "4227d02e",
   "metadata": {},
   "source": [
    "静态方法同理"
   ]
  },
  {
   "cell_type": "code",
   "execution_count": 277,
   "id": "395ddc0c",
   "metadata": {},
   "outputs": [],
   "source": [
    "class A:\n",
    "    @staticmethod\n",
    "    def hello():\n",
    "        print(\"Hello from A\")\n",
    "class B(A):\n",
    "    @staticmethod\n",
    "    def hello():\n",
    "        print('Hello from B')\n",
    "class C(B):\n",
    "    @staticmethod\n",
    "    def hello():\n",
    "        super(B, C).hello()"
   ]
  },
  {
   "cell_type": "code",
   "execution_count": 278,
   "id": "fb325c69",
   "metadata": {
    "scrolled": true
   },
   "outputs": [
    {
     "name": "stdout",
     "output_type": "stream",
     "text": [
      "Hello from A\n"
     ]
    }
   ],
   "source": [
    "C().hello()"
   ]
  },
  {
   "cell_type": "code",
   "execution_count": null,
   "id": "5d265793",
   "metadata": {},
   "outputs": [],
   "source": []
  },
  {
   "cell_type": "code",
   "execution_count": null,
   "id": "77e9e3a1",
   "metadata": {},
   "outputs": [],
   "source": []
  },
  {
   "cell_type": "code",
   "execution_count": null,
   "id": "c55ecc46",
   "metadata": {},
   "outputs": [],
   "source": []
  },
  {
   "cell_type": "code",
   "execution_count": null,
   "id": "27f866c9",
   "metadata": {},
   "outputs": [],
   "source": []
  }
 ],
 "metadata": {
  "kernelspec": {
   "display_name": "Python [conda env:leoweng4.0]",
   "language": "python",
   "name": "conda-env-leoweng4.0-py"
  },
  "language_info": {
   "codemirror_mode": {
    "name": "ipython",
    "version": 3
   },
   "file_extension": ".py",
   "mimetype": "text/x-python",
   "name": "python",
   "nbconvert_exporter": "python",
   "pygments_lexer": "ipython3",
   "version": "3.9.0"
  }
 },
 "nbformat": 4,
 "nbformat_minor": 5
}

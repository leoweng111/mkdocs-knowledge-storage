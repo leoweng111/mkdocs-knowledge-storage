{
 "cells": [
  {
   "cell_type": "markdown",
   "metadata": {},
   "source": [
    "# pytorch常见损失函数"
   ]
  },
  {
   "cell_type": "code",
   "execution_count": 1,
   "metadata": {},
   "outputs": [],
   "source": [
    "import torch\n",
    "import torch.nn as nn"
   ]
  },
  {
   "cell_type": "markdown",
   "metadata": {},
   "source": [
    "## nn.MSELoss"
   ]
  },
  {
   "cell_type": "markdown",
   "metadata": {},
   "source": [
    "$$\\text{MSE} = \\frac{1}{n} \\sum_{i=1}^{n} (y_i - \\hat{y}_i)^2$$"
   ]
  },
  {
   "cell_type": "code",
   "execution_count": null,
   "metadata": {},
   "outputs": [],
   "source": [
    "# 定义输入张量\n",
    "input_tensor = torch.randn(3, 5)\n",
    "target_tensor = torch.randn(3, 5)"
   ]
  },
  {
   "cell_type": "code",
   "execution_count": null,
   "metadata": {},
   "outputs": [
    {
     "data": {
      "text/plain": [
       "tensor(0.9925)"
      ]
     },
     "metadata": {},
     "output_type": "display_data"
    }
   ],
   "source": [
    "delta = input_tensor - target_tensor\n",
    "loss_check = (delta **2).sum() / (delta.shape[0] * delta.shape[1])\n",
    "loss_check"
   ]
  },
  {
   "cell_type": "code",
   "execution_count": null,
   "metadata": {},
   "outputs": [
    {
     "data": {
      "text/plain": [
       "(tensor(0.9925), tensor(True))"
      ]
     },
     "metadata": {},
     "output_type": "display_data"
    }
   ],
   "source": [
    "# 定义损失函数\n",
    "mse = nn.MSELoss()\n",
    "\n",
    "# 计算损失\n",
    "loss = mse(input_tensor, target_tensor)\n",
    "loss, loss == loss_check"
   ]
  },
  {
   "cell_type": "markdown",
   "metadata": {},
   "source": [
    "## nn.L1Loss (MAE Loss)"
   ]
  },
  {
   "cell_type": "markdown",
   "metadata": {},
   "source": [
    "$$\\text{MAE} = \\frac{1}{n}\\sum_{i=1}^{n}\\left|y_i - \\hat{y}_i\\right|$$"
   ]
  },
  {
   "cell_type": "code",
   "execution_count": null,
   "metadata": {},
   "outputs": [],
   "source": [
    "# 定义输入张量\n",
    "input_tensor = torch.randn(3, 5)\n",
    "target_tensor = torch.randn(3, 5)"
   ]
  },
  {
   "cell_type": "code",
   "execution_count": null,
   "metadata": {},
   "outputs": [
    {
     "data": {
      "text/plain": [
       "tensor(1.1050)"
      ]
     },
     "metadata": {},
     "output_type": "display_data"
    }
   ],
   "source": [
    "delta = input_tensor - target_tensor\n",
    "loss_check = abs(delta).sum() / (delta.shape[0] * delta.shape[1])\n",
    "loss_check"
   ]
  },
  {
   "cell_type": "code",
   "execution_count": null,
   "metadata": {},
   "outputs": [
    {
     "data": {
      "text/plain": [
       "(tensor(1.1050), tensor(True))"
      ]
     },
     "metadata": {},
     "output_type": "display_data"
    }
   ],
   "source": [
    "# 定义损失函数\n",
    "mae = nn.L1Loss()\n",
    "\n",
    "# 计算损失\n",
    "loss = mae(input_tensor, target_tensor)\n",
    "loss, loss == loss_check"
   ]
  },
  {
   "cell_type": "markdown",
   "metadata": {},
   "source": [
    "## nn.CrossEntropyLoss"
   ]
  },
  {
   "cell_type": "markdown",
   "metadata": {},
   "source": [
    "$$\\text{CrossEntropyLoss}(\\mathbf{p}, \\mathbf{y}) = -\\sum_i y_i \\log(p_i)$$\n",
    "<br>其中，yi​ 是真实标签中第 i 类的概率（通常为 0 或 1），pi​ 是模型输出的概率。\n",
    "<br>[nn.CrossEntropyLoss注意点](https://blog.csdn.net/zyoung17/article/details/108430465)\n",
    "* 如果不同类别对应的权重不同，传入的权重参数应该是一个1维的tensor。\n",
    "* 输入的每一类的置信度得分（input）应该是原始的，未经过softmax或者normalized。原因是这个函数会首先对输入的原始得分进行softmax，所以必须保证输入的是每一类的原始得分。不能写成[0.2, 0.36, 0.44]这种softmax之后的或者[0, 1, 0]这种one-hot编码。\n",
    "* 输入的target也不能是one-hot标签，直接输入每个例子对应的类别编号就行了（0 < target_value < C-1），比如产生的结果数为N*C（N为个数，C为类别数），那么输入的target必须输入一个长度为N的一维tensor（指明每个结果属于哪一类，如[1, 3, 0],函数内部会自动转化为one-hot标签）。\n",
    "<br>[nn.CrossEntropyLoss](https://pytorch.org/docs/stable/generated/torch.nn.CrossEntropyLoss.html#torch.nn.CrossEntropyLoss)"
   ]
  },
  {
   "cell_type": "markdown",
   "metadata": {},
   "source": [
    "## 参考链接"
   ]
  },
  {
   "cell_type": "markdown",
   "metadata": {},
   "source": [
    "[nn.loss](https://pytorch.org/docs/stable/nn.html#loss-functions)"
   ]
  }
 ],
 "metadata": {
  "kernelspec": {
   "display_name": "pytorch",
   "language": "python",
   "name": "python3"
  },
  "language_info": {
   "codemirror_mode": {
    "name": "ipython",
    "version": 3
   },
   "file_extension": ".py",
   "mimetype": "text/x-python",
   "name": "python",
   "nbconvert_exporter": "python",
   "pygments_lexer": "ipython3",
   "version": "3.9.0"
  }
 },
 "nbformat": 4,
 "nbformat_minor": 2
}

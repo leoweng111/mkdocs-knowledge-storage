{
 "cells": [
  {
   "cell_type": "code",
   "execution_count": 60,
   "id": "1aca423d",
   "metadata": {},
   "outputs": [],
   "source": [
    "from typing import List"
   ]
  },
  {
   "cell_type": "code",
   "execution_count": 61,
   "id": "bb42e023",
   "metadata": {},
   "outputs": [],
   "source": [
    "from itertools import product"
   ]
  },
  {
   "cell_type": "code",
   "execution_count": 62,
   "id": "3536bc20",
   "metadata": {},
   "outputs": [],
   "source": [
    "def entryTime(s: str, keypad: str):\n",
    "    dc = {}\n",
    "    pointer = 0\n",
    "    for i, j in product(range(3), range(3)):\n",
    "            dc[keypad[pointer]] = [i, j]\n",
    "            pointer += 1\n",
    "\n",
    "    total_time = 0\n",
    "    for i in range(1, len(s)): \n",
    "        total_time += calculate_time(dc[s[i]], dc[s[i - 1]])\n",
    "\n",
    "    return total_time\n",
    "\n",
    "def calculate_time(pos1: List, pos2: List):\n",
    "    distance = max([abs(i - j) for i, j in list(zip(pos1, pos2))])\n",
    "    if distance == 0:\n",
    "        return 0\n",
    "    elif distance < 2:\n",
    "        return 1\n",
    "    else:\n",
    "        return 2"
   ]
  },
  {
   "cell_type": "code",
   "execution_count": 63,
   "id": "5f321587",
   "metadata": {},
   "outputs": [],
   "source": [
    "s = '423692'\n",
    "keypad = '923857614'"
   ]
  },
  {
   "cell_type": "code",
   "execution_count": 64,
   "id": "ddedae2d",
   "metadata": {
    "scrolled": true
   },
   "outputs": [
    {
     "data": {
      "text/plain": [
       "8"
      ]
     },
     "execution_count": 64,
     "metadata": {},
     "output_type": "execute_result"
    }
   ],
   "source": [
    "entryTime(s, keypad)"
   ]
  },
  {
   "cell_type": "code",
   "execution_count": null,
   "id": "8b2d904c",
   "metadata": {},
   "outputs": [],
   "source": []
  },
  {
   "cell_type": "code",
   "execution_count": null,
   "id": "9b38e0e5",
   "metadata": {},
   "outputs": [],
   "source": []
  },
  {
   "cell_type": "code",
   "execution_count": null,
   "id": "23db3295",
   "metadata": {},
   "outputs": [],
   "source": []
  },
  {
   "cell_type": "code",
   "execution_count": null,
   "id": "9d6c1667",
   "metadata": {},
   "outputs": [],
   "source": []
  },
  {
   "cell_type": "code",
   "execution_count": null,
   "id": "4d35e676",
   "metadata": {},
   "outputs": [],
   "source": []
  },
  {
   "cell_type": "code",
   "execution_count": 3,
   "id": "af64d6aa",
   "metadata": {},
   "outputs": [],
   "source": [
    "l = [[1, 2], [3, 4]]"
   ]
  },
  {
   "cell_type": "code",
   "execution_count": 33,
   "id": "dc7104af",
   "metadata": {},
   "outputs": [
    {
     "name": "stdout",
     "output_type": "stream",
     "text": [
      "8\n"
     ]
    }
   ],
   "source": [
    "dc = {}\n",
    "pointer = 0\n",
    "for i in range(3):\n",
    "    for j in range(3):\n",
    "        dc[keypad[pointer]] = [i, j]\n",
    "        pointer += 1\n",
    "\n",
    "total_time = 0\n",
    "for i in range(1, len(s)): \n",
    "    total_time += calculate_time(dc[s[i]], dc[s[i - 1]])\n",
    "\n",
    "print(total_time)\n",
    "\n"
   ]
  },
  {
   "cell_type": "code",
   "execution_count": 32,
   "id": "956dc414",
   "metadata": {},
   "outputs": [
    {
     "data": {
      "text/plain": [
       "{'9': [0, 0],\n",
       " '2': [0, 1],\n",
       " '3': [0, 2],\n",
       " '8': [1, 0],\n",
       " '5': [1, 1],\n",
       " '7': [1, 2],\n",
       " '6': [2, 0],\n",
       " '1': [2, 1],\n",
       " '4': [2, 2]}"
      ]
     },
     "execution_count": 32,
     "metadata": {},
     "output_type": "execute_result"
    }
   ],
   "source": [
    "dc"
   ]
  },
  {
   "cell_type": "code",
   "execution_count": 23,
   "id": "c4ebf20c",
   "metadata": {},
   "outputs": [
    {
     "data": {
      "text/plain": [
       "[2, 1]"
      ]
     },
     "execution_count": 23,
     "metadata": {},
     "output_type": "execute_result"
    }
   ],
   "source": [
    "dc[1]"
   ]
  },
  {
   "cell_type": "code",
   "execution_count": 25,
   "id": "2ce23551",
   "metadata": {},
   "outputs": [],
   "source": [
    "pos1 = [0, 0]\n",
    "pos2 = [0, 1]"
   ]
  },
  {
   "cell_type": "code",
   "execution_count": 28,
   "id": "beb2cd12",
   "metadata": {},
   "outputs": [
    {
     "data": {
      "text/plain": [
       "[0, 1]"
      ]
     },
     "execution_count": 28,
     "metadata": {},
     "output_type": "execute_result"
    }
   ],
   "source": [
    "[abs(i - j) for i, j in list(zip(pos1, pos2))]"
   ]
  },
  {
   "cell_type": "code",
   "execution_count": 40,
   "id": "04d1f22b",
   "metadata": {},
   "outputs": [
    {
     "name": "stdout",
     "output_type": "stream",
     "text": [
      "0 0\n",
      "0 1\n",
      "0 2\n",
      "1 0\n",
      "1 1\n",
      "1 2\n",
      "2 0\n",
      "2 1\n",
      "2 2\n"
     ]
    }
   ],
   "source": [
    "for i, j in product(range(3), range(3)):\n",
    "    print(i, j)"
   ]
  },
  {
   "cell_type": "code",
   "execution_count": 44,
   "id": "2a203f60",
   "metadata": {
    "scrolled": true
   },
   "outputs": [
    {
     "data": {
      "text/plain": [
       "{'9': [0, 0],\n",
       " '2': [0, 1],\n",
       " '3': [0, 2],\n",
       " '8': [1, 0],\n",
       " '5': [1, 1],\n",
       " '7': [1, 2],\n",
       " '6': [2, 0],\n",
       " '1': [2, 1],\n",
       " '4': [2, 2]}"
      ]
     },
     "execution_count": 44,
     "metadata": {},
     "output_type": "execute_result"
    }
   ],
   "source": [
    "dc"
   ]
  },
  {
   "cell_type": "code",
   "execution_count": 47,
   "id": "581f315b",
   "metadata": {},
   "outputs": [
    {
     "data": {
      "text/plain": [
       "False"
      ]
     },
     "execution_count": 47,
     "metadata": {},
     "output_type": "execute_result"
    }
   ],
   "source": [
    "'11' in dc"
   ]
  },
  {
   "cell_type": "code",
   "execution_count": 48,
   "id": "9dca17b3",
   "metadata": {
    "scrolled": true
   },
   "outputs": [
    {
     "data": {
      "text/plain": [
       "True"
      ]
     },
     "execution_count": 48,
     "metadata": {},
     "output_type": "execute_result"
    }
   ],
   "source": [
    "'9' in dc"
   ]
  },
  {
   "cell_type": "code",
   "execution_count": 49,
   "id": "e87ea99c",
   "metadata": {},
   "outputs": [
    {
     "data": {
      "text/plain": [
       "{'9': [0, 0],\n",
       " '2': [0, 1],\n",
       " '3': [0, 2],\n",
       " '8': [1, 0],\n",
       " '5': [1, 1],\n",
       " '7': [1, 2],\n",
       " '6': [2, 0],\n",
       " '1': [2, 1],\n",
       " '4': [2, 2]}"
      ]
     },
     "execution_count": 49,
     "metadata": {},
     "output_type": "execute_result"
    }
   ],
   "source": [
    "dc"
   ]
  },
  {
   "cell_type": "code",
   "execution_count": null,
   "id": "67f4299f",
   "metadata": {},
   "outputs": [],
   "source": []
  },
  {
   "cell_type": "code",
   "execution_count": null,
   "id": "d1fd07c6",
   "metadata": {},
   "outputs": [],
   "source": []
  },
  {
   "cell_type": "code",
   "execution_count": null,
   "id": "7ead0a67",
   "metadata": {},
   "outputs": [],
   "source": []
  }
 ],
 "metadata": {
  "kernelspec": {
   "display_name": "Python [conda env:leoweng3.0.2] *",
   "language": "python",
   "name": "conda-env-leoweng3.0.2-py"
  },
  "language_info": {
   "codemirror_mode": {
    "name": "ipython",
    "version": 3
   },
   "file_extension": ".py",
   "mimetype": "text/x-python",
   "name": "python",
   "nbconvert_exporter": "python",
   "pygments_lexer": "ipython3",
   "version": "3.9.0"
  }
 },
 "nbformat": 4,
 "nbformat_minor": 5
}

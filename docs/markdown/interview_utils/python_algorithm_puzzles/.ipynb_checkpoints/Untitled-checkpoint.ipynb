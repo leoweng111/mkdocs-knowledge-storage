{
 "cells": [
  {
   "cell_type": "code",
   "execution_count": 6,
   "id": "4e4f25f8",
   "metadata": {
    "scrolled": true
   },
   "outputs": [],
   "source": [
    "from lwpackage.lwutils import categorize_photos, log"
   ]
  },
  {
   "cell_type": "code",
   "execution_count": null,
   "id": "c625dd54",
   "metadata": {},
   "outputs": [],
   "source": [
    "categorize_photos()"
   ]
  },
  {
   "cell_type": "code",
   "execution_count": null,
   "id": "94c4471b",
   "metadata": {},
   "outputs": [],
   "source": []
  },
  {
   "cell_type": "code",
   "execution_count": 28,
   "id": "3d4a24e8",
   "metadata": {},
   "outputs": [
    {
     "data": {
      "text/plain": [
       "<Logger /Users/wenglongao/log/file_processor (INFO)>"
      ]
     },
     "execution_count": 28,
     "metadata": {},
     "output_type": "execute_result"
    }
   ],
   "source": [
    "log"
   ]
  },
  {
   "cell_type": "code",
   "execution_count": 2,
   "id": "ccde5b4e",
   "metadata": {},
   "outputs": [],
   "source": [
    "import logging\n",
    "import os\n",
    "from pathlib import Path\n",
    "LOG_PATH = Path('/Users/wenglongao/log')"
   ]
  },
  {
   "cell_type": "code",
   "execution_count": 3,
   "id": "053f41d6",
   "metadata": {},
   "outputs": [
    {
     "data": {
      "text/plain": [
       "PosixPath('/Users/wenglongao/log/log')"
      ]
     },
     "execution_count": 3,
     "metadata": {},
     "output_type": "execute_result"
    }
   ],
   "source": [
    "LOG_PATH/'log'"
   ]
  },
  {
   "cell_type": "code",
   "execution_count": 16,
   "id": "a3f4f7a9",
   "metadata": {},
   "outputs": [
    {
     "data": {
      "text/plain": [
       "'/Users/wenglongao/log/photo_processor'"
      ]
     },
     "execution_count": 16,
     "metadata": {},
     "output_type": "execute_result"
    }
   ],
   "source": [
    "path = LOG_PATH\n",
    "log_name = 'photo_processor'\n",
    "log_path = os.path.join(path, log_name)\n",
    "log_path"
   ]
  },
  {
   "cell_type": "code",
   "execution_count": 17,
   "id": "1752d33b",
   "metadata": {},
   "outputs": [],
   "source": [
    "logging.basicConfig(format='%(asctime)s - %(levelname)s - %(message)s',\n",
    "                        level=logging.INFO, filename=f'{log_path}.log')\n",
    "log = logging.getLogger(log_path)"
   ]
  },
  {
   "cell_type": "code",
   "execution_count": 18,
   "id": "46e2da34",
   "metadata": {},
   "outputs": [],
   "source": [
    "log.info('a')"
   ]
  },
  {
   "cell_type": "code",
   "execution_count": 19,
   "id": "e9a06d50",
   "metadata": {
    "scrolled": true
   },
   "outputs": [
    {
     "data": {
      "text/plain": [
       "<Logger /Users/wenglongao/log/photo_processor (INFO)>"
      ]
     },
     "execution_count": 19,
     "metadata": {},
     "output_type": "execute_result"
    }
   ],
   "source": [
    "log"
   ]
  },
  {
   "cell_type": "code",
   "execution_count": 24,
   "id": "1c839ea4",
   "metadata": {},
   "outputs": [],
   "source": [
    "initialize_log(log_name='fil_processor').info('a')"
   ]
  },
  {
   "cell_type": "code",
   "execution_count": null,
   "id": "89c7be19",
   "metadata": {},
   "outputs": [],
   "source": []
  }
 ],
 "metadata": {
  "kernelspec": {
   "display_name": "Python [conda env:leoweng4.0]",
   "language": "python",
   "name": "conda-env-leoweng4.0-py"
  },
  "language_info": {
   "codemirror_mode": {
    "name": "ipython",
    "version": 3
   },
   "file_extension": ".py",
   "mimetype": "text/x-python",
   "name": "python",
   "nbconvert_exporter": "python",
   "pygments_lexer": "ipython3",
   "version": "3.9.0"
  }
 },
 "nbformat": 4,
 "nbformat_minor": 5
}

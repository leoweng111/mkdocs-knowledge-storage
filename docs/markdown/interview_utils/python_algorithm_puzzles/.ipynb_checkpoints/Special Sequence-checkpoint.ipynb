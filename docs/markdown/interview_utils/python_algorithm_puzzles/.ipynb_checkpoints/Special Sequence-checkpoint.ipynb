{
 "cells": [
  {
   "cell_type": "code",
   "execution_count": 57,
   "id": "61a5d0ee",
   "metadata": {},
   "outputs": [],
   "source": [
    "from typing import List"
   ]
  },
  {
   "cell_type": "code",
   "execution_count": 76,
   "id": "4433c2a9",
   "metadata": {},
   "outputs": [],
   "source": [
    "def sumOfTheDIgits(q: List[int]):\n",
    "    # combined result is a list with the sum of special sequence in index order.\n",
    "    l, combined_result = [1], [1]\n",
    "    # we iterate from first sequence to the max element of q\n",
    "    for i in range(max(q) - 1):\n",
    "        count = 0\n",
    "        number = l[0]\n",
    "        result = []\n",
    "        for j in range(len(l)):\n",
    "\n",
    "            if l[j] != number:\n",
    "                result += [count, number]\n",
    "\n",
    "                count = 0\n",
    "                number = l[j]\n",
    "\n",
    "            count += 1\n",
    "\n",
    "            if j == len(l) - 1:\n",
    "                result += [count, number]\n",
    "\n",
    "        l = result\n",
    "\n",
    "        combined_result.append(sum(l))\n",
    "        \n",
    "    return [combined_result[i - 1] for i in q]"
   ]
  },
  {
   "cell_type": "code",
   "execution_count": 77,
   "id": "9c4793d5",
   "metadata": {
    "scrolled": false
   },
   "outputs": [
    {
     "data": {
      "text/plain": [
       "[1, 2, 3]"
      ]
     },
     "execution_count": 77,
     "metadata": {},
     "output_type": "execute_result"
    }
   ],
   "source": [
    "sumOfTheDIgits([1, 2, 3])"
   ]
  },
  {
   "cell_type": "code",
   "execution_count": 78,
   "id": "5f312d1f",
   "metadata": {},
   "outputs": [
    {
     "data": {
      "text/plain": [
       "[1, 2, 8]"
      ]
     },
     "execution_count": 78,
     "metadata": {},
     "output_type": "execute_result"
    }
   ],
   "source": [
    "sumOfTheDIgits([1, 2, 5])"
   ]
  },
  {
   "cell_type": "code",
   "execution_count": null,
   "id": "5bc8364e",
   "metadata": {},
   "outputs": [],
   "source": []
  },
  {
   "cell_type": "markdown",
   "id": "e1e2e75d",
   "metadata": {},
   "source": [
    "#### 有没有更快的方法？"
   ]
  },
  {
   "cell_type": "code",
   "execution_count": null,
   "id": "b1159989",
   "metadata": {},
   "outputs": [],
   "source": []
  },
  {
   "cell_type": "code",
   "execution_count": null,
   "id": "ddc1e5cc",
   "metadata": {},
   "outputs": [],
   "source": []
  },
  {
   "cell_type": "code",
   "execution_count": null,
   "id": "84c4cca4",
   "metadata": {},
   "outputs": [],
   "source": []
  },
  {
   "cell_type": "code",
   "execution_count": null,
   "id": "cd97808e",
   "metadata": {},
   "outputs": [],
   "source": []
  },
  {
   "cell_type": "code",
   "execution_count": 59,
   "id": "317c822f",
   "metadata": {},
   "outputs": [],
   "source": [
    "n = 10"
   ]
  },
  {
   "cell_type": "code",
   "execution_count": null,
   "id": "d23284e8",
   "metadata": {},
   "outputs": [],
   "source": []
  },
  {
   "cell_type": "code",
   "execution_count": 60,
   "id": "51f4f746",
   "metadata": {
    "scrolled": true
   },
   "outputs": [
    {
     "data": {
      "text/plain": [
       "[1, 2, 3, 5, 8, 10, 13, 16, 23, 32]"
      ]
     },
     "execution_count": 60,
     "metadata": {},
     "output_type": "execute_result"
    }
   ],
   "source": [
    "# l is the appearance array\n",
    "l = [1]\n",
    "combined_result = [l]\n",
    "for i in range(n - 1):\n",
    "    count = 0\n",
    "    number = l[0]\n",
    "    result = []\n",
    "    for j in range(len(l)):\n",
    "\n",
    "        if l[j] != number:\n",
    "            result += [count, number]\n",
    "\n",
    "            count = 0\n",
    "            number = l[j]\n",
    "\n",
    "        count += 1\n",
    "\n",
    "        if j == len(l) - 1:\n",
    "            result += [count, number]\n",
    "\n",
    "    l = result\n",
    "    \n",
    "    combined_result.append(l)\n",
    "\n",
    "[sum(i) for i in combined_result]\n"
   ]
  },
  {
   "cell_type": "code",
   "execution_count": 67,
   "id": "507562a3",
   "metadata": {
    "scrolled": false
   },
   "outputs": [
    {
     "name": "stdout",
     "output_type": "stream",
     "text": [
      "[1, 1]\n",
      "[2, 1]\n",
      "[1, 2, 1, 1]\n",
      "[1, 1, 1, 2, 2, 1]\n",
      "[3, 1, 2, 2, 1, 1]\n",
      "[1, 3, 1, 1, 2, 2, 2, 1]\n"
     ]
    },
    {
     "data": {
      "text/plain": [
       "[1, 3, 1, 1, 2, 2, 2, 1]"
      ]
     },
     "execution_count": 67,
     "metadata": {},
     "output_type": "execute_result"
    }
   ],
   "source": [
    "countAndSay(7)"
   ]
  },
  {
   "cell_type": "code",
   "execution_count": 68,
   "id": "a8e3b670",
   "metadata": {},
   "outputs": [],
   "source": [
    "from collections import Counter"
   ]
  },
  {
   "cell_type": "code",
   "execution_count": 70,
   "id": "b34d3a46",
   "metadata": {
    "scrolled": true
   },
   "outputs": [
    {
     "data": {
      "text/plain": [
       "Counter({3: 1, 1: 3, 2: 2})"
      ]
     },
     "execution_count": 70,
     "metadata": {},
     "output_type": "execute_result"
    }
   ],
   "source": [
    "c = Counter([3, 1, 2, 2, 1, 1])\n",
    "c"
   ]
  },
  {
   "cell_type": "code",
   "execution_count": 71,
   "id": "3fc42dfa",
   "metadata": {
    "scrolled": true
   },
   "outputs": [
    {
     "data": {
      "text/plain": [
       "13"
      ]
     },
     "execution_count": 71,
     "metadata": {},
     "output_type": "execute_result"
    }
   ],
   "source": [
    "sum([1, 3, 1, 1, 2, 2, 2, 1])"
   ]
  },
  {
   "cell_type": "code",
   "execution_count": null,
   "id": "4c1ccedf",
   "metadata": {},
   "outputs": [],
   "source": []
  },
  {
   "cell_type": "code",
   "execution_count": 44,
   "id": "e243d53a",
   "metadata": {
    "scrolled": true
   },
   "outputs": [
    {
     "name": "stdout",
     "output_type": "stream",
     "text": [
      "result [1, 1]\n",
      "seq [1, 1]\n",
      "result [2, 1]\n",
      "seq [2, 1]\n",
      "result [1, 2, 1, 1]\n",
      "seq [1, 2, 1, 1]\n",
      "result [1, 1, -1, 2, 0, 1]\n",
      "seq [1, 1, -1, 2, 0, 1]\n",
      "result [2, 1, -1, -1, -1, 2, -1, 0, 1, 1]\n",
      "seq [2, 1, -1, -1, -1, 2, -1, 0, 1, 1]\n"
     ]
    }
   ],
   "source": [
    "seq = [1]\n",
    "\n",
    "all_result = []\n",
    "\n",
    "for i in range(n):\n",
    "    result = []\n",
    "    prev = seq[0]\n",
    "    count = 1\n",
    "    for j in range(len(seq)):\n",
    "        if j == len(seq) - 1:\n",
    "            if seq[j] != prev:\n",
    "                result += [count , prev]\n",
    "                result += [1, seq[j]]\n",
    "            else:\n",
    "                result += [count, prev]\n",
    "                \n",
    "            continue\n",
    "            \n",
    "        elif seq[j] != prev:\n",
    "            result += [count - 1, prev]\n",
    "            count = 0\n",
    "            prev = seq[j]\n",
    "            \n",
    "        else:\n",
    "            count += 1\n",
    "            prev = seq[j]\n",
    "        \n",
    "    print('result', result)\n",
    "    all_result.append(result)\n",
    "    \n",
    "    seq = result\n",
    "    print('seq', seq)"
   ]
  },
  {
   "cell_type": "code",
   "execution_count": 22,
   "id": "2199f27d",
   "metadata": {},
   "outputs": [
    {
     "data": {
      "text/plain": [
       "[1, 1]"
      ]
     },
     "execution_count": 22,
     "metadata": {},
     "output_type": "execute_result"
    }
   ],
   "source": [
    "result = []\n",
    "result += [1] * 2\n",
    "result"
   ]
  },
  {
   "cell_type": "code",
   "execution_count": 24,
   "id": "382b07a1",
   "metadata": {
    "scrolled": true
   },
   "outputs": [
    {
     "data": {
      "text/plain": [
       "[]"
      ]
     },
     "execution_count": 24,
     "metadata": {},
     "output_type": "execute_result"
    }
   ],
   "source": [
    "result"
   ]
  },
  {
   "cell_type": "code",
   "execution_count": 36,
   "id": "7fb3fd04",
   "metadata": {
    "scrolled": false
   },
   "outputs": [
    {
     "data": {
      "text/plain": [
       "[[1, 1], [2, 1], [2, 2], [2, 2], [2, 2]]"
      ]
     },
     "execution_count": 36,
     "metadata": {},
     "output_type": "execute_result"
    }
   ],
   "source": [
    "all_result"
   ]
  },
  {
   "cell_type": "code",
   "execution_count": null,
   "id": "891ea5d8",
   "metadata": {},
   "outputs": [],
   "source": []
  },
  {
   "cell_type": "code",
   "execution_count": null,
   "id": "39ef0b97",
   "metadata": {},
   "outputs": [],
   "source": []
  },
  {
   "cell_type": "code",
   "execution_count": null,
   "id": "86e8b5b9",
   "metadata": {},
   "outputs": [],
   "source": []
  },
  {
   "cell_type": "code",
   "execution_count": null,
   "id": "0b074ee8",
   "metadata": {},
   "outputs": [],
   "source": []
  }
 ],
 "metadata": {
  "kernelspec": {
   "display_name": "Python [conda env:leoweng3.0.2] *",
   "language": "python",
   "name": "conda-env-leoweng3.0.2-py"
  },
  "language_info": {
   "codemirror_mode": {
    "name": "ipython",
    "version": 3
   },
   "file_extension": ".py",
   "mimetype": "text/x-python",
   "name": "python",
   "nbconvert_exporter": "python",
   "pygments_lexer": "ipython3",
   "version": "3.9.0"
  }
 },
 "nbformat": 4,
 "nbformat_minor": 5
}

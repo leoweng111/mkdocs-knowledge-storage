{
 "cells": [
  {
   "cell_type": "code",
   "execution_count": 41,
   "id": "6a4ddfd2",
   "metadata": {},
   "outputs": [],
   "source": [
    "from collections import Counter\n",
    "from functools import reduce\n",
    "from typing import List"
   ]
  },
  {
   "cell_type": "code",
   "execution_count": 42,
   "id": "dda0cc5f",
   "metadata": {},
   "outputs": [],
   "source": [
    "def itemsSort(items: List[int]):\n",
    "    ctr = Counter(items)\n",
    "    sorted_value = sorted(ctr.items(), key=lambda x: (x[1], x[0]))\n",
    "    return reduce(lambda x, y: x + y, [[x[0]] * x[1] for x in sorted_value])"
   ]
  },
  {
   "cell_type": "code",
   "execution_count": 43,
   "id": "e39fb5f8",
   "metadata": {},
   "outputs": [],
   "source": [
    "items = [8, 5, 5, 5, 5, 1, 1, 1, 4, 4]"
   ]
  },
  {
   "cell_type": "code",
   "execution_count": 44,
   "id": "af150492",
   "metadata": {
    "scrolled": true
   },
   "outputs": [
    {
     "data": {
      "text/plain": [
       "[8, 4, 4, 1, 1, 1, 5, 5, 5, 5]"
      ]
     },
     "execution_count": 44,
     "metadata": {},
     "output_type": "execute_result"
    }
   ],
   "source": [
    "itemsSort(items)"
   ]
  },
  {
   "cell_type": "code",
   "execution_count": 45,
   "id": "ab582f8a",
   "metadata": {},
   "outputs": [],
   "source": [
    "items = [3, 1, 2, 2, 4]"
   ]
  },
  {
   "cell_type": "code",
   "execution_count": 46,
   "id": "4b279fb0",
   "metadata": {
    "scrolled": true
   },
   "outputs": [
    {
     "data": {
      "text/plain": [
       "[1, 3, 4, 2, 2]"
      ]
     },
     "execution_count": 46,
     "metadata": {},
     "output_type": "execute_result"
    }
   ],
   "source": [
    "itemsSort(items)"
   ]
  },
  {
   "cell_type": "code",
   "execution_count": null,
   "id": "deec88a5",
   "metadata": {},
   "outputs": [],
   "source": []
  },
  {
   "cell_type": "code",
   "execution_count": null,
   "id": "4dda895c",
   "metadata": {},
   "outputs": [],
   "source": []
  },
  {
   "cell_type": "code",
   "execution_count": null,
   "id": "605be4d3",
   "metadata": {},
   "outputs": [],
   "source": []
  },
  {
   "cell_type": "code",
   "execution_count": null,
   "id": "be582b08",
   "metadata": {},
   "outputs": [],
   "source": []
  },
  {
   "cell_type": "code",
   "execution_count": null,
   "id": "1e534486",
   "metadata": {},
   "outputs": [],
   "source": []
  },
  {
   "cell_type": "code",
   "execution_count": 32,
   "id": "0f3e02e3",
   "metadata": {},
   "outputs": [],
   "source": [
    "ctr = Counter(items)"
   ]
  },
  {
   "cell_type": "code",
   "execution_count": 34,
   "id": "d66dcff0",
   "metadata": {},
   "outputs": [
    {
     "data": {
      "text/plain": [
       "[(1, 1), (3, 1), (4, 1), (2, 2)]"
      ]
     },
     "execution_count": 34,
     "metadata": {},
     "output_type": "execute_result"
    }
   ],
   "source": [
    "sorted_value = sorted(ctr.items(), key=lambda x: (x[1], x[0]))\n",
    "sorted_value"
   ]
  },
  {
   "cell_type": "code",
   "execution_count": 35,
   "id": "d3aa6df2",
   "metadata": {},
   "outputs": [
    {
     "data": {
      "text/plain": [
       "[1, 3, 4, 2, 2]"
      ]
     },
     "execution_count": 35,
     "metadata": {},
     "output_type": "execute_result"
    }
   ],
   "source": [
    "reduce(lambda x, y: x + y, [[x[0]] * x[1] for x in sorted_value])"
   ]
  },
  {
   "cell_type": "code",
   "execution_count": null,
   "id": "c8b941ec",
   "metadata": {},
   "outputs": [],
   "source": []
  },
  {
   "cell_type": "code",
   "execution_count": 12,
   "id": "90240ea1",
   "metadata": {},
   "outputs": [
    {
     "data": {
      "text/plain": [
       "Counter({8: 1, 5: 4, 1: 3, 4: 2})"
      ]
     },
     "execution_count": 12,
     "metadata": {},
     "output_type": "execute_result"
    }
   ],
   "source": [
    "ctr"
   ]
  },
  {
   "cell_type": "code",
   "execution_count": null,
   "id": "606e06b5",
   "metadata": {},
   "outputs": [],
   "source": []
  },
  {
   "cell_type": "code",
   "execution_count": null,
   "id": "c890c322",
   "metadata": {},
   "outputs": [],
   "source": []
  },
  {
   "cell_type": "code",
   "execution_count": null,
   "id": "9181a100",
   "metadata": {},
   "outputs": [],
   "source": []
  },
  {
   "cell_type": "code",
   "execution_count": null,
   "id": "01050722",
   "metadata": {},
   "outputs": [],
   "source": []
  }
 ],
 "metadata": {
  "kernelspec": {
   "display_name": "Python [conda env:leoweng3.0.2] *",
   "language": "python",
   "name": "conda-env-leoweng3.0.2-py"
  },
  "language_info": {
   "codemirror_mode": {
    "name": "ipython",
    "version": 3
   },
   "file_extension": ".py",
   "mimetype": "text/x-python",
   "name": "python",
   "nbconvert_exporter": "python",
   "pygments_lexer": "ipython3",
   "version": "3.9.0"
  }
 },
 "nbformat": 4,
 "nbformat_minor": 5
}

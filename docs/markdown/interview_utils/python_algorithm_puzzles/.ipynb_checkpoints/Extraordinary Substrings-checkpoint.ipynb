{
 "cells": [
  {
   "cell_type": "code",
   "execution_count": 18,
   "id": "7da3caec",
   "metadata": {},
   "outputs": [],
   "source": [
    "def countSubstrings(input_str: str):\n",
    "    # create word-to-number mapper\n",
    "    mapper = {}\n",
    "    for i in range(97, 123):\n",
    "        mapper[chr(i)] = (i - 96) // 3 + 1\n",
    "        \n",
    "    result = 0\n",
    "    for i in range(len(input_str)):\n",
    "        for j in range(i + 1, len(input_str) + 1):\n",
    "            substring = input_str[i: j]\n",
    "            # total sum of mapped value\n",
    "            value = 0\n",
    "            for x in substring:\n",
    "                value += mapper[x]\n",
    "            # check divisible or not\n",
    "            if value % len(substring) == 0:\n",
    "                result += 1\n",
    "                \n",
    "    return result"
   ]
  },
  {
   "cell_type": "code",
   "execution_count": 1,
   "id": "64bb7ca0",
   "metadata": {},
   "outputs": [],
   "source": [
    "input_str = 'asdf'"
   ]
  },
  {
   "cell_type": "code",
   "execution_count": 19,
   "id": "cd8b7565",
   "metadata": {},
   "outputs": [
    {
     "data": {
      "text/plain": [
       "6"
      ]
     },
     "execution_count": 19,
     "metadata": {},
     "output_type": "execute_result"
    }
   ],
   "source": [
    "countSubstrings(input_str)"
   ]
  },
  {
   "cell_type": "code",
   "execution_count": null,
   "id": "a4a32305",
   "metadata": {},
   "outputs": [],
   "source": []
  },
  {
   "cell_type": "code",
   "execution_count": null,
   "id": "9a53da72",
   "metadata": {},
   "outputs": [],
   "source": []
  },
  {
   "cell_type": "code",
   "execution_count": null,
   "id": "b65974b1",
   "metadata": {},
   "outputs": [],
   "source": []
  },
  {
   "cell_type": "code",
   "execution_count": null,
   "id": "fc478074",
   "metadata": {},
   "outputs": [],
   "source": []
  },
  {
   "cell_type": "code",
   "execution_count": null,
   "id": "3d22a004",
   "metadata": {},
   "outputs": [],
   "source": [
    "mapper = {}\n",
    "for i in range(97, 123):\n",
    "    mapper[chr(i)] = (i - 96) // 3 + 1"
   ]
  },
  {
   "cell_type": "code",
   "execution_count": 17,
   "id": "cf0c99d0",
   "metadata": {},
   "outputs": [
    {
     "data": {
      "text/plain": [
       "6"
      ]
     },
     "execution_count": 17,
     "metadata": {},
     "output_type": "execute_result"
    }
   ],
   "source": [
    "result = 0\n",
    "for i in range(len(input_str)):\n",
    "    for j in range(i + 1, len(input_str) + 1):\n",
    "        substring = input_str[i: j]\n",
    "        # total sum of mapped value\n",
    "        value = 0\n",
    "        for x in substring:\n",
    "            value += mapper[x]\n",
    "        if value % len(substring) == 0:\n",
    "            result += 1\n",
    "result"
   ]
  },
  {
   "cell_type": "code",
   "execution_count": null,
   "id": "5abaa2a6",
   "metadata": {},
   "outputs": [],
   "source": []
  },
  {
   "cell_type": "code",
   "execution_count": null,
   "id": "eaefbdc3",
   "metadata": {},
   "outputs": [],
   "source": []
  },
  {
   "cell_type": "code",
   "execution_count": null,
   "id": "fe42754d",
   "metadata": {},
   "outputs": [],
   "source": []
  },
  {
   "cell_type": "code",
   "execution_count": 13,
   "id": "bc5a501f",
   "metadata": {
    "scrolled": true
   },
   "outputs": [
    {
     "data": {
      "text/plain": [
       "{'a': 1,\n",
       " 'b': 1,\n",
       " 'c': 2,\n",
       " 'd': 2,\n",
       " 'e': 2,\n",
       " 'f': 3,\n",
       " 'g': 3,\n",
       " 'h': 3,\n",
       " 'i': 4,\n",
       " 'j': 4,\n",
       " 'k': 4,\n",
       " 'l': 5,\n",
       " 'm': 5,\n",
       " 'n': 5,\n",
       " 'o': 6,\n",
       " 'p': 6,\n",
       " 'q': 6,\n",
       " 'r': 7,\n",
       " 's': 7,\n",
       " 't': 7,\n",
       " 'u': 8,\n",
       " 'v': 8,\n",
       " 'w': 8,\n",
       " 'x': 9,\n",
       " 'y': 9,\n",
       " 'z': 9}"
      ]
     },
     "execution_count": 13,
     "metadata": {},
     "output_type": "execute_result"
    }
   ],
   "source": [
    "mapper = {}\n",
    "for i in range(97, 123):\n",
    "    mapper[chr(i)] = (i - 96) // 3 + 1\n",
    "mapper"
   ]
  },
  {
   "cell_type": "code",
   "execution_count": null,
   "id": "4191ac3e",
   "metadata": {},
   "outputs": [],
   "source": []
  },
  {
   "cell_type": "code",
   "execution_count": null,
   "id": "f93e5a50",
   "metadata": {},
   "outputs": [],
   "source": []
  },
  {
   "cell_type": "code",
   "execution_count": null,
   "id": "d698e19f",
   "metadata": {},
   "outputs": [],
   "source": []
  },
  {
   "cell_type": "code",
   "execution_count": null,
   "id": "67489611",
   "metadata": {},
   "outputs": [],
   "source": []
  },
  {
   "cell_type": "code",
   "execution_count": null,
   "id": "84aafb79",
   "metadata": {},
   "outputs": [],
   "source": []
  },
  {
   "cell_type": "code",
   "execution_count": null,
   "id": "7c488897",
   "metadata": {},
   "outputs": [],
   "source": []
  }
 ],
 "metadata": {
  "kernelspec": {
   "display_name": "Python [conda env:leoweng3.0.2] *",
   "language": "python",
   "name": "conda-env-leoweng3.0.2-py"
  },
  "language_info": {
   "codemirror_mode": {
    "name": "ipython",
    "version": 3
   },
   "file_extension": ".py",
   "mimetype": "text/x-python",
   "name": "python",
   "nbconvert_exporter": "python",
   "pygments_lexer": "ipython3",
   "version": "3.9.0"
  }
 },
 "nbformat": 4,
 "nbformat_minor": 5
}

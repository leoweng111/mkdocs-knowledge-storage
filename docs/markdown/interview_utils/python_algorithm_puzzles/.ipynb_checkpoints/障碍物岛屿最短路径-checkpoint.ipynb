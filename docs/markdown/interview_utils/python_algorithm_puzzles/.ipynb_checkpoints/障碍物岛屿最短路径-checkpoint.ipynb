{
 "cells": [
  {
   "cell_type": "code",
   "execution_count": 2,
   "id": "c4336949",
   "metadata": {},
   "outputs": [],
   "source": [
    "from typing import List\n",
    "from collections import deque"
   ]
  },
  {
   "cell_type": "code",
   "execution_count": 46,
   "id": "472358f1",
   "metadata": {},
   "outputs": [],
   "source": [
    "def min_path(grid: List[List[int]]) -> int:\n",
    "    # 技巧：使用bfs，并且在遍历的坐标增加一个维度，存放走过的路程\n",
    "    visited = [[False] * len(grid[0]) for _ in range(len(grid))]\n",
    "    visited[0][0] = True\n",
    "\n",
    "    directions = [[0, 1], [0, -1], [-1, 0], [1, 0]]\n",
    "    queue = deque()\n",
    "    queue.append((0, 0, 0))\n",
    "    min_step = float('inf')\n",
    "\n",
    "    while queue:\n",
    "        i, j, step = queue.popleft()\n",
    "        for k in range(4):\n",
    "            next_i = i + directions[k][0]\n",
    "            next_j = j + directions[k][1]\n",
    "\n",
    "            if next_i < 0 or next_i >= len(grid) or next_j < 0 or next_j >= len(grid[0]):\n",
    "                continue\n",
    "            if grid[next_i][next_j] == 1 or visited[next_i][next_j]:\n",
    "                continue\n",
    "            \n",
    "            step += 1\n",
    "            \n",
    "            if (next_i == len(grid) - 1) and (next_j == len(grid[0]) - 1):\n",
    "                min_step = min(min_step, step)\n",
    "    \n",
    "            visited[next_i][next_j] = True\n",
    "            queue.append((next_i, next_j, step))\n",
    "\n",
    "    return min_step\n",
    "        "
   ]
  },
  {
   "cell_type": "code",
   "execution_count": 42,
   "id": "165362c4",
   "metadata": {},
   "outputs": [],
   "source": [
    "grid = [[0, 1, 1, 0, 1], [0, 1, 0, 0, 1], [0, 0, 0, 0, 0], [1, 1, 0, 0, 0]]"
   ]
  },
  {
   "cell_type": "code",
   "execution_count": 47,
   "id": "dd595fcd",
   "metadata": {
    "scrolled": true
   },
   "outputs": [
    {
     "data": {
      "text/plain": [
       "7"
      ]
     },
     "execution_count": 47,
     "metadata": {},
     "output_type": "execute_result"
    }
   ],
   "source": [
    "min_path(grid)"
   ]
  },
  {
   "cell_type": "code",
   "execution_count": 48,
   "id": "2d8829b2",
   "metadata": {},
   "outputs": [],
   "source": [
    "grid = [[0, 1, 1, 0, 1], [0, 1, 0, 0, 0], [0, 0, 0, 1, 0], [1, 1, 0, 1, 0]]"
   ]
  },
  {
   "cell_type": "code",
   "execution_count": 49,
   "id": "32198c58",
   "metadata": {
    "scrolled": false
   },
   "outputs": [
    {
     "data": {
      "text/plain": [
       "9"
      ]
     },
     "execution_count": 49,
     "metadata": {},
     "output_type": "execute_result"
    }
   ],
   "source": [
    "min_path(grid)"
   ]
  },
  {
   "cell_type": "code",
   "execution_count": null,
   "id": "9fc02d03",
   "metadata": {},
   "outputs": [],
   "source": []
  },
  {
   "cell_type": "code",
   "execution_count": null,
   "id": "a9d8e58e",
   "metadata": {},
   "outputs": [],
   "source": []
  },
  {
   "cell_type": "markdown",
   "id": "afa36247",
   "metadata": {},
   "source": [
    "关于deque的注意点"
   ]
  },
  {
   "cell_type": "code",
   "execution_count": 13,
   "id": "28399856",
   "metadata": {},
   "outputs": [],
   "source": [
    "queue = deque((0, 0))"
   ]
  },
  {
   "cell_type": "code",
   "execution_count": 14,
   "id": "763e18df",
   "metadata": {
    "scrolled": false
   },
   "outputs": [
    {
     "ename": "TypeError",
     "evalue": "cannot unpack non-iterable int object",
     "output_type": "error",
     "traceback": [
      "\u001b[0;31m---------------------------------------------------------------------------\u001b[0m",
      "\u001b[0;31mTypeError\u001b[0m                                 Traceback (most recent call last)",
      "Cell \u001b[0;32mIn[14], line 1\u001b[0m\n\u001b[0;32m----> 1\u001b[0m i, j \u001b[38;5;241m=\u001b[39m queue\u001b[38;5;241m.\u001b[39mpopleft()\n",
      "\u001b[0;31mTypeError\u001b[0m: cannot unpack non-iterable int object"
     ]
    }
   ],
   "source": [
    "i, j = queue.popleft()"
   ]
  },
  {
   "cell_type": "code",
   "execution_count": null,
   "id": "b335103d",
   "metadata": {},
   "outputs": [],
   "source": []
  },
  {
   "cell_type": "code",
   "execution_count": 18,
   "id": "565130bb",
   "metadata": {},
   "outputs": [],
   "source": [
    "queue = deque()\n",
    "queue.append((0, 0))"
   ]
  },
  {
   "cell_type": "code",
   "execution_count": 19,
   "id": "35c98147",
   "metadata": {},
   "outputs": [
    {
     "data": {
      "text/plain": [
       "(0, 0)"
      ]
     },
     "execution_count": 19,
     "metadata": {},
     "output_type": "execute_result"
    }
   ],
   "source": [
    "i, j = queue.popleft()\n",
    "i, j"
   ]
  },
  {
   "cell_type": "code",
   "execution_count": null,
   "id": "4fd73614",
   "metadata": {},
   "outputs": [],
   "source": []
  },
  {
   "cell_type": "code",
   "execution_count": null,
   "id": "7d2a3700",
   "metadata": {},
   "outputs": [],
   "source": []
  }
 ],
 "metadata": {
  "kernelspec": {
   "display_name": "Python [conda env:leoweng3.0.2] *",
   "language": "python",
   "name": "conda-env-leoweng3.0.2-py"
  },
  "language_info": {
   "codemirror_mode": {
    "name": "ipython",
    "version": 3
   },
   "file_extension": ".py",
   "mimetype": "text/x-python",
   "name": "python",
   "nbconvert_exporter": "python",
   "pygments_lexer": "ipython3",
   "version": "3.9.0"
  }
 },
 "nbformat": 4,
 "nbformat_minor": 5
}

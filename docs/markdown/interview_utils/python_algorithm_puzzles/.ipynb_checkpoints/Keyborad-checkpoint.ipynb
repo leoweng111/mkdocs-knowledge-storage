{
 "cells": [
  {
   "cell_type": "code",
   "execution_count": 24,
   "id": "ecb1ac0c",
   "metadata": {},
   "outputs": [],
   "source": [
    "from typing import List"
   ]
  },
  {
   "cell_type": "code",
   "execution_count": 38,
   "id": "2fe12c87",
   "metadata": {},
   "outputs": [],
   "source": [
    "from itertools import product"
   ]
  },
  {
   "cell_type": "code",
   "execution_count": 41,
   "id": "a1b92b56",
   "metadata": {},
   "outputs": [],
   "source": [
    "def entryTime(s: str, keypad: str):\n",
    "    dc = {}\n",
    "    pointer = 0\n",
    "    for i, j in product(range(3), range(3)):\n",
    "            dc[keypad[pointer]] = [i, j]\n",
    "            pointer += 1\n",
    "\n",
    "    total_time = 0\n",
    "    for i in range(1, len(s)): \n",
    "        total_time += calculate_time(dc[s[i]], dc[s[i - 1]])\n",
    "\n",
    "    return total_time\n",
    "\n",
    "def calculate_time(pos1: List, pos2: List):\n",
    "    distance = max([abs(i - j) for i, j in list(zip(pos1, pos2))])\n",
    "    if distance == 0:\n",
    "        return 0\n",
    "    elif distance < 2:\n",
    "        return 1\n",
    "    else:\n",
    "        return 2"
   ]
  },
  {
   "cell_type": "code",
   "execution_count": null,
   "id": "94142aa9",
   "metadata": {},
   "outputs": [],
   "source": []
  },
  {
   "cell_type": "code",
   "execution_count": null,
   "id": "3d33c60b",
   "metadata": {},
   "outputs": [],
   "source": []
  },
  {
   "cell_type": "code",
   "execution_count": null,
   "id": "140b337f",
   "metadata": {},
   "outputs": [],
   "source": []
  },
  {
   "cell_type": "code",
   "execution_count": null,
   "id": "dad409b0",
   "metadata": {},
   "outputs": [],
   "source": []
  },
  {
   "cell_type": "code",
   "execution_count": 42,
   "id": "9ee70023",
   "metadata": {},
   "outputs": [],
   "source": [
    "s = '423692'\n",
    "keypad = '923857614'"
   ]
  },
  {
   "cell_type": "code",
   "execution_count": 43,
   "id": "7829720a",
   "metadata": {
    "scrolled": true
   },
   "outputs": [
    {
     "data": {
      "text/plain": [
       "8"
      ]
     },
     "execution_count": 43,
     "metadata": {},
     "output_type": "execute_result"
    }
   ],
   "source": [
    "entryTime(s, keypad)"
   ]
  },
  {
   "cell_type": "code",
   "execution_count": 3,
   "id": "6408ce4d",
   "metadata": {},
   "outputs": [],
   "source": [
    "l = [[1, 2], [3, 4]]"
   ]
  },
  {
   "cell_type": "code",
   "execution_count": 33,
   "id": "5a8387d4",
   "metadata": {},
   "outputs": [
    {
     "name": "stdout",
     "output_type": "stream",
     "text": [
      "8\n"
     ]
    }
   ],
   "source": [
    "dc = {}\n",
    "pointer = 0\n",
    "for i in range(3):\n",
    "    for j in range(3):\n",
    "        dc[keypad[pointer]] = [i, j]\n",
    "        pointer += 1\n",
    "\n",
    "total_time = 0\n",
    "for i in range(1, len(s)): \n",
    "    total_time += calculate_time(dc[s[i]], dc[s[i - 1]])\n",
    "\n",
    "print(total_time)\n",
    "\n"
   ]
  },
  {
   "cell_type": "code",
   "execution_count": 32,
   "id": "08d4fb51",
   "metadata": {},
   "outputs": [
    {
     "data": {
      "text/plain": [
       "{'9': [0, 0],\n",
       " '2': [0, 1],\n",
       " '3': [0, 2],\n",
       " '8': [1, 0],\n",
       " '5': [1, 1],\n",
       " '7': [1, 2],\n",
       " '6': [2, 0],\n",
       " '1': [2, 1],\n",
       " '4': [2, 2]}"
      ]
     },
     "execution_count": 32,
     "metadata": {},
     "output_type": "execute_result"
    }
   ],
   "source": [
    "dc"
   ]
  },
  {
   "cell_type": "code",
   "execution_count": 23,
   "id": "124b3291",
   "metadata": {},
   "outputs": [
    {
     "data": {
      "text/plain": [
       "[2, 1]"
      ]
     },
     "execution_count": 23,
     "metadata": {},
     "output_type": "execute_result"
    }
   ],
   "source": [
    "dc[1]"
   ]
  },
  {
   "cell_type": "code",
   "execution_count": 25,
   "id": "4e5f9b74",
   "metadata": {},
   "outputs": [],
   "source": [
    "pos1 = [0, 0]\n",
    "pos2 = [0, 1]"
   ]
  },
  {
   "cell_type": "code",
   "execution_count": 28,
   "id": "367ce930",
   "metadata": {},
   "outputs": [
    {
     "data": {
      "text/plain": [
       "[0, 1]"
      ]
     },
     "execution_count": 28,
     "metadata": {},
     "output_type": "execute_result"
    }
   ],
   "source": [
    "[abs(i - j) for i, j in list(zip(pos1, pos2))]"
   ]
  },
  {
   "cell_type": "code",
   "execution_count": 40,
   "id": "73876872",
   "metadata": {},
   "outputs": [
    {
     "name": "stdout",
     "output_type": "stream",
     "text": [
      "0 0\n",
      "0 1\n",
      "0 2\n",
      "1 0\n",
      "1 1\n",
      "1 2\n",
      "2 0\n",
      "2 1\n",
      "2 2\n"
     ]
    }
   ],
   "source": [
    "for i, j in product(range(3), range(3)):\n",
    "    print(i, j)"
   ]
  },
  {
   "cell_type": "code",
   "execution_count": null,
   "id": "9622ceb2",
   "metadata": {},
   "outputs": [],
   "source": []
  }
 ],
 "metadata": {
  "kernelspec": {
   "display_name": "Python [conda env:leoweng3.0.2] *",
   "language": "python",
   "name": "conda-env-leoweng3.0.2-py"
  },
  "language_info": {
   "codemirror_mode": {
    "name": "ipython",
    "version": 3
   },
   "file_extension": ".py",
   "mimetype": "text/x-python",
   "name": "python",
   "nbconvert_exporter": "python",
   "pygments_lexer": "ipython3",
   "version": "3.9.0"
  }
 },
 "nbformat": 4,
 "nbformat_minor": 5
}

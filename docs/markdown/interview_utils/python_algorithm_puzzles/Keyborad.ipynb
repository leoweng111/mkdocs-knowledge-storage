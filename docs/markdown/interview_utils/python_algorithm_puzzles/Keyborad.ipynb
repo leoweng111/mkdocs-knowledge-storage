{
 "cells": [
  {
   "cell_type": "code",
   "execution_count": 24,
   "id": "274cf7ba",
   "metadata": {},
   "outputs": [],
   "source": [
    "from typing import List"
   ]
  },
  {
   "cell_type": "code",
   "execution_count": 38,
   "id": "3f2f753a",
   "metadata": {},
   "outputs": [],
   "source": [
    "from itertools import product"
   ]
  },
  {
   "cell_type": "code",
   "execution_count": 41,
   "id": "bcb373a9",
   "metadata": {},
   "outputs": [],
   "source": [
    "def entryTime(s: str, keypad: str):\n",
    "    dc = {}\n",
    "    pointer = 0\n",
    "    for i, j in product(range(3), range(3)):\n",
    "            dc[keypad[pointer]] = [i, j]\n",
    "            pointer += 1\n",
    "\n",
    "    total_time = 0\n",
    "    for i in range(1, len(s)): \n",
    "        total_time += calculate_time(dc[s[i]], dc[s[i - 1]])\n",
    "\n",
    "    return total_time\n",
    "\n",
    "def calculate_time(pos1: List, pos2: List):\n",
    "    distance = max([abs(i - j) for i, j in list(zip(pos1, pos2))])\n",
    "    if distance == 0:\n",
    "        return 0\n",
    "    elif distance < 2:\n",
    "        return 1\n",
    "    else:\n",
    "        return 2"
   ]
  },
  {
   "cell_type": "code",
   "execution_count": null,
   "id": "ad828f06",
   "metadata": {},
   "outputs": [],
   "source": []
  },
  {
   "cell_type": "code",
   "execution_count": null,
   "id": "010f3be2",
   "metadata": {},
   "outputs": [],
   "source": []
  },
  {
   "cell_type": "code",
   "execution_count": null,
   "id": "2a9160b3",
   "metadata": {},
   "outputs": [],
   "source": []
  },
  {
   "cell_type": "code",
   "execution_count": null,
   "id": "676c3f43",
   "metadata": {},
   "outputs": [],
   "source": []
  },
  {
   "cell_type": "code",
   "execution_count": 42,
   "id": "23d153e6",
   "metadata": {},
   "outputs": [],
   "source": [
    "s = '423692'\n",
    "keypad = '923857614'"
   ]
  },
  {
   "cell_type": "code",
   "execution_count": 43,
   "id": "0295a1cf",
   "metadata": {
    "scrolled": true
   },
   "outputs": [
    {
     "data": {
      "text/plain": [
       "8"
      ]
     },
     "execution_count": 43,
     "metadata": {},
     "output_type": "execute_result"
    }
   ],
   "source": [
    "entryTime(s, keypad)"
   ]
  },
  {
   "cell_type": "code",
   "execution_count": 3,
   "id": "0629aab0",
   "metadata": {},
   "outputs": [],
   "source": [
    "l = [[1, 2], [3, 4]]"
   ]
  },
  {
   "cell_type": "code",
   "execution_count": 33,
   "id": "30d3513e",
   "metadata": {},
   "outputs": [
    {
     "name": "stdout",
     "output_type": "stream",
     "text": [
      "8\n"
     ]
    }
   ],
   "source": [
    "dc = {}\n",
    "pointer = 0\n",
    "for i in range(3):\n",
    "    for j in range(3):\n",
    "        dc[keypad[pointer]] = [i, j]\n",
    "        pointer += 1\n",
    "\n",
    "total_time = 0\n",
    "for i in range(1, len(s)): \n",
    "    total_time += calculate_time(dc[s[i]], dc[s[i - 1]])\n",
    "\n",
    "print(total_time)\n",
    "\n"
   ]
  },
  {
   "cell_type": "code",
   "execution_count": 32,
   "id": "0df6aba1",
   "metadata": {},
   "outputs": [
    {
     "data": {
      "text/plain": [
       "{'9': [0, 0],\n",
       " '2': [0, 1],\n",
       " '3': [0, 2],\n",
       " '8': [1, 0],\n",
       " '5': [1, 1],\n",
       " '7': [1, 2],\n",
       " '6': [2, 0],\n",
       " '1': [2, 1],\n",
       " '4': [2, 2]}"
      ]
     },
     "execution_count": 32,
     "metadata": {},
     "output_type": "execute_result"
    }
   ],
   "source": [
    "dc"
   ]
  },
  {
   "cell_type": "code",
   "execution_count": 23,
   "id": "f9454e8d",
   "metadata": {},
   "outputs": [
    {
     "data": {
      "text/plain": [
       "[2, 1]"
      ]
     },
     "execution_count": 23,
     "metadata": {},
     "output_type": "execute_result"
    }
   ],
   "source": [
    "dc[1]"
   ]
  },
  {
   "cell_type": "code",
   "execution_count": 25,
   "id": "0fcf7476",
   "metadata": {},
   "outputs": [],
   "source": [
    "pos1 = [0, 0]\n",
    "pos2 = [0, 1]"
   ]
  },
  {
   "cell_type": "code",
   "execution_count": 28,
   "id": "a09267e2",
   "metadata": {},
   "outputs": [
    {
     "data": {
      "text/plain": [
       "[0, 1]"
      ]
     },
     "execution_count": 28,
     "metadata": {},
     "output_type": "execute_result"
    }
   ],
   "source": [
    "[abs(i - j) for i, j in list(zip(pos1, pos2))]"
   ]
  },
  {
   "cell_type": "code",
   "execution_count": 40,
   "id": "51474d60",
   "metadata": {},
   "outputs": [
    {
     "name": "stdout",
     "output_type": "stream",
     "text": [
      "0 0\n",
      "0 1\n",
      "0 2\n",
      "1 0\n",
      "1 1\n",
      "1 2\n",
      "2 0\n",
      "2 1\n",
      "2 2\n"
     ]
    }
   ],
   "source": [
    "for i, j in product(range(3), range(3)):\n",
    "    print(i, j)"
   ]
  },
  {
   "cell_type": "code",
   "execution_count": 44,
   "id": "849b8ab6",
   "metadata": {
    "scrolled": true
   },
   "outputs": [
    {
     "data": {
      "text/plain": [
       "{'9': [0, 0],\n",
       " '2': [0, 1],\n",
       " '3': [0, 2],\n",
       " '8': [1, 0],\n",
       " '5': [1, 1],\n",
       " '7': [1, 2],\n",
       " '6': [2, 0],\n",
       " '1': [2, 1],\n",
       " '4': [2, 2]}"
      ]
     },
     "execution_count": 44,
     "metadata": {},
     "output_type": "execute_result"
    }
   ],
   "source": [
    "dc"
   ]
  },
  {
   "cell_type": "code",
   "execution_count": 47,
   "id": "b8c93641",
   "metadata": {},
   "outputs": [
    {
     "data": {
      "text/plain": [
       "False"
      ]
     },
     "execution_count": 47,
     "metadata": {},
     "output_type": "execute_result"
    }
   ],
   "source": [
    "'1' in dc"
   ]
  },
  {
   "cell_type": "code",
   "execution_count": 45,
   "id": "b0486a3d",
   "metadata": {},
   "outputs": [
    {
     "ename": "AttributeError",
     "evalue": "'dict' object has no attribute 'has_key'",
     "output_type": "error",
     "traceback": [
      "\u001b[0;31m---------------------------------------------------------------------------\u001b[0m",
      "\u001b[0;31mAttributeError\u001b[0m                            Traceback (most recent call last)",
      "Cell \u001b[0;32mIn[45], line 1\u001b[0m\n\u001b[0;32m----> 1\u001b[0m \u001b[43mdc\u001b[49m\u001b[38;5;241;43m.\u001b[39;49m\u001b[43mhas_key\u001b[49m(\u001b[38;5;124m'\u001b[39m\u001b[38;5;124m11\u001b[39m\u001b[38;5;124m'\u001b[39m)\n",
      "\u001b[0;31mAttributeError\u001b[0m: 'dict' object has no attribute 'has_key'"
     ]
    }
   ],
   "source": [
    "dc.has_key('11')"
   ]
  },
  {
   "cell_type": "code",
   "execution_count": null,
   "id": "eca10bb1",
   "metadata": {},
   "outputs": [],
   "source": []
  }
 ],
 "metadata": {
  "kernelspec": {
   "display_name": "Python [conda env:leoweng3.0.2] *",
   "language": "python",
   "name": "conda-env-leoweng3.0.2-py"
  },
  "language_info": {
   "codemirror_mode": {
    "name": "ipython",
    "version": 3
   },
   "file_extension": ".py",
   "mimetype": "text/x-python",
   "name": "python",
   "nbconvert_exporter": "python",
   "pygments_lexer": "ipython3",
   "version": "3.9.0"
  }
 },
 "nbformat": 4,
 "nbformat_minor": 5
}

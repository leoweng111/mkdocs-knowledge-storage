{
 "cells": [
  {
   "cell_type": "markdown",
   "id": "20bb9a45",
   "metadata": {},
   "source": [
    "思路很简单，直接计算质数和非质数的个数，然后计算质数或者非质数中需要减去的数字个数，排序后取出最小的几个就可"
   ]
  },
  {
   "cell_type": "code",
   "execution_count": 1,
   "id": "84195121",
   "metadata": {},
   "outputs": [],
   "source": [
    "from typing import List"
   ]
  },
  {
   "cell_type": "code",
   "execution_count": 44,
   "id": "f8fedc5b",
   "metadata": {},
   "outputs": [],
   "source": [
    "def minPenalty(arr: List[int]):\n",
    "    prime_subseq = [i for i in arr if is_prime(i)]\n",
    "    non_prime_subseq = [i for i in arr if not is_prime(i)]\n",
    "    \n",
    "    if abs(len(non_prime_subseq) - len(prime_subseq)) <= 1:\n",
    "        return 0\n",
    "    \n",
    "    if len(prime_subseq) > len(non_prime_subseq):\n",
    "        longer = prime_subseq\n",
    "        num_drop = len(prime_subseq) - len(non_prime_subseq) - 1\n",
    "    else:\n",
    "        longer = non_prime_subseq\n",
    "        num_drop = len(non_prime_subseq) - len(prime_subseq) - 1\n",
    "    \n",
    "    return sum(sorted(longer)[:num_drop])"
   ]
  },
  {
   "cell_type": "code",
   "execution_count": 45,
   "id": "cf6b805a",
   "metadata": {},
   "outputs": [],
   "source": [
    "def is_prime(n: int):\n",
    "    if n < 2:\n",
    "        return False\n",
    "    \n",
    "    for i in range(2, int(n ** 0.5) + 1):\n",
    "        if n % i == 0:\n",
    "            return False\n",
    "        \n",
    "    return True"
   ]
  },
  {
   "cell_type": "code",
   "execution_count": 46,
   "id": "28c29f47",
   "metadata": {},
   "outputs": [],
   "source": [
    "arr = [3, 7, 1, 4, 6, 6]"
   ]
  },
  {
   "cell_type": "code",
   "execution_count": 47,
   "id": "c750d7b5",
   "metadata": {
    "scrolled": true
   },
   "outputs": [
    {
     "data": {
      "text/plain": [
       "1"
      ]
     },
     "execution_count": 47,
     "metadata": {},
     "output_type": "execute_result"
    }
   ],
   "source": [
    "minPenalty(arr)"
   ]
  },
  {
   "cell_type": "code",
   "execution_count": 51,
   "id": "7a928f71",
   "metadata": {},
   "outputs": [
    {
     "data": {
      "text/plain": [
       "2"
      ]
     },
     "execution_count": 51,
     "metadata": {},
     "output_type": "execute_result"
    }
   ],
   "source": [
    "arr =  [1, 2, 4, 3, 6, 5, 7, 7]\n",
    "minPenalty(arr)"
   ]
  },
  {
   "cell_type": "code",
   "execution_count": 50,
   "id": "d9e4f477",
   "metadata": {},
   "outputs": [
    {
     "data": {
      "text/plain": [
       "24"
      ]
     },
     "execution_count": 50,
     "metadata": {},
     "output_type": "execute_result"
    }
   ],
   "source": [
    "arr =  [1, 2, 4, 3, 6, 5, 7, 7, 7, 7, 7, 7]\n",
    "minPenalty(arr)"
   ]
  },
  {
   "cell_type": "code",
   "execution_count": null,
   "id": "979bdf99",
   "metadata": {},
   "outputs": [],
   "source": []
  },
  {
   "cell_type": "code",
   "execution_count": null,
   "id": "de534cd1",
   "metadata": {},
   "outputs": [],
   "source": []
  },
  {
   "cell_type": "code",
   "execution_count": null,
   "id": "a2b0169b",
   "metadata": {},
   "outputs": [],
   "source": []
  },
  {
   "cell_type": "code",
   "execution_count": null,
   "id": "3a0bb040",
   "metadata": {},
   "outputs": [],
   "source": []
  },
  {
   "cell_type": "code",
   "execution_count": 6,
   "id": "79f33045",
   "metadata": {
    "scrolled": true
   },
   "outputs": [
    {
     "data": {
      "text/plain": [
       "True"
      ]
     },
     "execution_count": 6,
     "metadata": {},
     "output_type": "execute_result"
    }
   ],
   "source": [
    "is_prime(7)"
   ]
  },
  {
   "cell_type": "code",
   "execution_count": 8,
   "id": "d6af0167",
   "metadata": {},
   "outputs": [],
   "source": [
    "arr = [3, 7, 1, 4, 6, 6]"
   ]
  },
  {
   "cell_type": "code",
   "execution_count": 10,
   "id": "67f03ad8",
   "metadata": {},
   "outputs": [
    {
     "data": {
      "text/plain": [
       "[3, 7]"
      ]
     },
     "execution_count": 10,
     "metadata": {},
     "output_type": "execute_result"
    }
   ],
   "source": [
    "prime_subseq = [i for i in arr if is_prime(i)]\n",
    "prime_subseq"
   ]
  },
  {
   "cell_type": "code",
   "execution_count": 11,
   "id": "c879934e",
   "metadata": {},
   "outputs": [
    {
     "data": {
      "text/plain": [
       "[1, 4, 6, 6]"
      ]
     },
     "execution_count": 11,
     "metadata": {},
     "output_type": "execute_result"
    }
   ],
   "source": [
    "non_prime_subseq = [i for i in arr if not is_prime(i)]\n",
    "non_prime_subseq"
   ]
  },
  {
   "cell_type": "code",
   "execution_count": 12,
   "id": "64f452ac",
   "metadata": {},
   "outputs": [
    {
     "data": {
      "text/plain": [
       "1"
      ]
     },
     "execution_count": 12,
     "metadata": {},
     "output_type": "execute_result"
    }
   ],
   "source": [
    "abs(-1)"
   ]
  },
  {
   "cell_type": "code",
   "execution_count": 14,
   "id": "66cc459e",
   "metadata": {},
   "outputs": [
    {
     "data": {
      "text/plain": [
       "[1, 2, 3, 6, 7]"
      ]
     },
     "execution_count": 14,
     "metadata": {},
     "output_type": "execute_result"
    }
   ],
   "source": [
    "sorted([1, 3, 2, 7, 6])"
   ]
  },
  {
   "cell_type": "code",
   "execution_count": 15,
   "id": "763e9ed5",
   "metadata": {},
   "outputs": [
    {
     "data": {
      "text/plain": [
       "[1, 2, 3]"
      ]
     },
     "execution_count": 15,
     "metadata": {},
     "output_type": "execute_result"
    }
   ],
   "source": [
    "sorted([1, 3, 2, 7, 6])[:3]"
   ]
  },
  {
   "cell_type": "code",
   "execution_count": null,
   "id": "a42ea3ee",
   "metadata": {},
   "outputs": [],
   "source": []
  },
  {
   "cell_type": "code",
   "execution_count": null,
   "id": "c822251c",
   "metadata": {},
   "outputs": [],
   "source": []
  },
  {
   "cell_type": "code",
   "execution_count": null,
   "id": "2aed1110",
   "metadata": {},
   "outputs": [],
   "source": []
  },
  {
   "cell_type": "code",
   "execution_count": null,
   "id": "4a644d97",
   "metadata": {},
   "outputs": [],
   "source": []
  }
 ],
 "metadata": {
  "kernelspec": {
   "display_name": "Python [conda env:leoweng3.0.2] *",
   "language": "python",
   "name": "conda-env-leoweng3.0.2-py"
  },
  "language_info": {
   "codemirror_mode": {
    "name": "ipython",
    "version": 3
   },
   "file_extension": ".py",
   "mimetype": "text/x-python",
   "name": "python",
   "nbconvert_exporter": "python",
   "pygments_lexer": "ipython3",
   "version": "3.9.0"
  }
 },
 "nbformat": 4,
 "nbformat_minor": 5
}

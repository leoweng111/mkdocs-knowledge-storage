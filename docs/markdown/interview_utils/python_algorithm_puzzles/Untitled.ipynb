{
 "cells": [
  {
   "cell_type": "code",
   "execution_count": 6,
   "id": "40a10de3",
   "metadata": {
    "scrolled": true
   },
   "outputs": [],
   "source": [
    "from lwpackage.lwutils import categorize_photos, log"
   ]
  },
  {
   "cell_type": "code",
   "execution_count": 7,
   "id": "5bec8c55",
   "metadata": {},
   "outputs": [
    {
     "ename": "IndexError",
     "evalue": "list index out of range",
     "output_type": "error",
     "traceback": [
      "\u001b[0;31m---------------------------------------------------------------------------\u001b[0m",
      "\u001b[0;31mIndexError\u001b[0m                                Traceback (most recent call last)",
      "Cell \u001b[0;32mIn[7], line 1\u001b[0m\n\u001b[0;32m----> 1\u001b[0m \u001b[43mcategorize_photos\u001b[49m\u001b[43m(\u001b[49m\u001b[43m)\u001b[49m\n",
      "File \u001b[0;32m~/anaconda3/envs/leoweng4.0/lib/python3.9/site-packages/lwpackage/lwutils/photo_processor.py:165\u001b[0m, in \u001b[0;36mcategorize_photos\u001b[0;34m(preprocess_photo_path, postprocess_photo_path)\u001b[0m\n\u001b[1;32m    160\u001b[0m             total_photo_number \u001b[38;5;241m+\u001b[39m\u001b[38;5;241m=\u001b[39m \u001b[38;5;241m1\u001b[39m\n\u001b[1;32m    162\u001b[0m log\u001b[38;5;241m.\u001b[39minfo(\u001b[38;5;124mf\u001b[39m\u001b[38;5;124m'\u001b[39m\u001b[38;5;124mTotal number of processed photos is \u001b[39m\u001b[38;5;132;01m{\u001b[39;00mtotal_photo_number\u001b[38;5;132;01m}\u001b[39;00m\u001b[38;5;124m, \u001b[39m\u001b[38;5;124m'\u001b[39m\n\u001b[1;32m    163\u001b[0m          \u001b[38;5;124mf\u001b[39m\u001b[38;5;124m'\u001b[39m\u001b[38;5;124mthe number of newly-added photos is \u001b[39m\u001b[38;5;132;01m{\u001b[39;00mnew_photo_number\u001b[38;5;132;01m}\u001b[39;00m\u001b[38;5;124m.\u001b[39m\u001b[38;5;124m'\u001b[39m)\n\u001b[0;32m--> 165\u001b[0m \u001b[43m_check_camera_photo_name\u001b[49m\u001b[43m(\u001b[49m\u001b[43m)\u001b[49m\n\u001b[1;32m    167\u001b[0m \u001b[38;5;28;01mreturn\u001b[39;00m total_photo_number, new_photo_number\n",
      "File \u001b[0;32m~/anaconda3/envs/leoweng4.0/lib/python3.9/site-packages/lwpackage/lwutils/photo_processor.py:66\u001b[0m, in \u001b[0;36m_check_camera_photo_name\u001b[0;34m(postprocess_photo_path)\u001b[0m\n\u001b[1;32m     64\u001b[0m prefix \u001b[38;5;241m=\u001b[39m photo\u001b[38;5;241m.\u001b[39msplit(\u001b[38;5;124m'\u001b[39m\u001b[38;5;124m.\u001b[39m\u001b[38;5;124m'\u001b[39m)[\u001b[38;5;241m0\u001b[39m]\n\u001b[1;32m     65\u001b[0m e \u001b[38;5;241m=\u001b[39m \u001b[38;5;124mf\u001b[39m\u001b[38;5;124m'\u001b[39m\u001b[38;5;132;01m{\u001b[39;00mphoto\u001b[38;5;132;01m}\u001b[39;00m\u001b[38;5;124m in Camera folder with wrong type\u001b[39m\u001b[38;5;124m'\u001b[39m\n\u001b[0;32m---> 66\u001b[0m \u001b[38;5;28;01massert\u001b[39;00m prefix\u001b[38;5;241m.\u001b[39msplit(\u001b[38;5;124m'\u001b[39m\u001b[38;5;124m_\u001b[39m\u001b[38;5;124m'\u001b[39m)[\u001b[38;5;241m0\u001b[39m]\u001b[38;5;241m.\u001b[39misdigit() \u001b[38;5;129;01mand\u001b[39;00m \u001b[43mprefix\u001b[49m\u001b[38;5;241;43m.\u001b[39;49m\u001b[43msplit\u001b[49m\u001b[43m(\u001b[49m\u001b[38;5;124;43m'\u001b[39;49m\u001b[38;5;124;43m_\u001b[39;49m\u001b[38;5;124;43m'\u001b[39;49m\u001b[43m)\u001b[49m\u001b[43m[\u001b[49m\u001b[38;5;241;43m1\u001b[39;49m\u001b[43m]\u001b[49m\u001b[38;5;241m.\u001b[39misdigit(), e\n\u001b[1;32m     67\u001b[0m \u001b[38;5;28;01massert\u001b[39;00m (\u001b[38;5;28mlen\u001b[39m(prefix\u001b[38;5;241m.\u001b[39msplit(\u001b[38;5;124m'\u001b[39m\u001b[38;5;124m_\u001b[39m\u001b[38;5;124m'\u001b[39m)[\u001b[38;5;241m0\u001b[39m]) \u001b[38;5;241m==\u001b[39m \u001b[38;5;241m8\u001b[39m) \u001b[38;5;129;01mand\u001b[39;00m (\u001b[38;5;28mlen\u001b[39m(prefix\u001b[38;5;241m.\u001b[39msplit(\u001b[38;5;124m'\u001b[39m\u001b[38;5;124m_\u001b[39m\u001b[38;5;124m'\u001b[39m)[\u001b[38;5;241m0\u001b[39m]) \u001b[38;5;241m==\u001b[39m \u001b[38;5;241m8\u001b[39m), e\n",
      "\u001b[0;31mIndexError\u001b[0m: list index out of range"
     ]
    }
   ],
   "source": [
    "categorize_photos()"
   ]
  },
  {
   "cell_type": "code",
   "execution_count": null,
   "id": "aabfcb1e",
   "metadata": {},
   "outputs": [],
   "source": []
  },
  {
   "cell_type": "code",
   "execution_count": 28,
   "id": "1be02cdd",
   "metadata": {},
   "outputs": [
    {
     "data": {
      "text/plain": [
       "<Logger /Users/wenglongao/log/file_processor (INFO)>"
      ]
     },
     "execution_count": 28,
     "metadata": {},
     "output_type": "execute_result"
    }
   ],
   "source": [
    "log"
   ]
  },
  {
   "cell_type": "code",
   "execution_count": 2,
   "id": "063c5b98",
   "metadata": {},
   "outputs": [],
   "source": [
    "import logging\n",
    "import os\n",
    "from pathlib import Path\n",
    "LOG_PATH = Path('/Users/wenglongao/log')"
   ]
  },
  {
   "cell_type": "code",
   "execution_count": 3,
   "id": "8ee8140b",
   "metadata": {},
   "outputs": [
    {
     "data": {
      "text/plain": [
       "PosixPath('/Users/wenglongao/log/log')"
      ]
     },
     "execution_count": 3,
     "metadata": {},
     "output_type": "execute_result"
    }
   ],
   "source": [
    "LOG_PATH/'log'"
   ]
  },
  {
   "cell_type": "code",
   "execution_count": 16,
   "id": "180395b3",
   "metadata": {},
   "outputs": [
    {
     "data": {
      "text/plain": [
       "'/Users/wenglongao/log/photo_processor'"
      ]
     },
     "execution_count": 16,
     "metadata": {},
     "output_type": "execute_result"
    }
   ],
   "source": [
    "path = LOG_PATH\n",
    "log_name = 'photo_processor'\n",
    "log_path = os.path.join(path, log_name)\n",
    "log_path"
   ]
  },
  {
   "cell_type": "code",
   "execution_count": 17,
   "id": "ea93788c",
   "metadata": {},
   "outputs": [],
   "source": [
    "logging.basicConfig(format='%(asctime)s - %(levelname)s - %(message)s',\n",
    "                        level=logging.INFO, filename=f'{log_path}.log')\n",
    "log = logging.getLogger(log_path)"
   ]
  },
  {
   "cell_type": "code",
   "execution_count": 18,
   "id": "80ed2363",
   "metadata": {},
   "outputs": [],
   "source": [
    "log.info('a')"
   ]
  },
  {
   "cell_type": "code",
   "execution_count": 19,
   "id": "069916ab",
   "metadata": {
    "scrolled": true
   },
   "outputs": [
    {
     "data": {
      "text/plain": [
       "<Logger /Users/wenglongao/log/photo_processor (INFO)>"
      ]
     },
     "execution_count": 19,
     "metadata": {},
     "output_type": "execute_result"
    }
   ],
   "source": [
    "log"
   ]
  },
  {
   "cell_type": "code",
   "execution_count": 24,
   "id": "f2cedd68",
   "metadata": {},
   "outputs": [],
   "source": [
    "initialize_log(log_name='fil_processor').info('a')"
   ]
  },
  {
   "cell_type": "code",
   "execution_count": null,
   "id": "fa90588e",
   "metadata": {},
   "outputs": [],
   "source": []
  }
 ],
 "metadata": {
  "kernelspec": {
   "display_name": "Python [conda env:leoweng4.0]",
   "language": "python",
   "name": "conda-env-leoweng4.0-py"
  },
  "language_info": {
   "codemirror_mode": {
    "name": "ipython",
    "version": 3
   },
   "file_extension": ".py",
   "mimetype": "text/x-python",
   "name": "python",
   "nbconvert_exporter": "python",
   "pygments_lexer": "ipython3",
   "version": "3.9.0"
  }
 },
 "nbformat": 4,
 "nbformat_minor": 5
}

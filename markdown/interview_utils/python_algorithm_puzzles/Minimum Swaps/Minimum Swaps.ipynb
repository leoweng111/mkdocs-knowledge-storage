{
 "cells": [
  {
   "cell_type": "code",
   "execution_count": 24,
   "id": "7596273e",
   "metadata": {},
   "outputs": [],
   "source": [
    "from typing import List"
   ]
  },
  {
   "cell_type": "markdown",
   "id": "cfc6e664",
   "metadata": {},
   "source": [
    "### version1"
   ]
  },
  {
   "cell_type": "code",
   "execution_count": 91,
   "id": "909f3394",
   "metadata": {},
   "outputs": [],
   "source": [
    "def minimumSwaps(popularity: List):\n",
    "    # using cycle sort\n",
    "    num_swaps = 0\n",
    "    for i in range(len(popularity)):\n",
    "        count = 0\n",
    "        for j in range(len(popularity)):\n",
    "            if popularity[j] > popularity[i]:\n",
    "                count += 1\n",
    "\n",
    "        while count != i:\n",
    "            if popularity.index(popularity[i]) == count:\n",
    "                continue\n",
    "            else:\n",
    "                popularity[i], popularity[count] = popularity[count], popularity[i]\n",
    "                num_swaps += 1\n",
    "\n",
    "            count = 0\n",
    "            for j in range(len(popularity)):\n",
    "                if popularity[j] > popularity[i]:\n",
    "                    count += 1\n",
    "    return num_swaps"
   ]
  },
  {
   "cell_type": "markdown",
   "id": "c1f73179",
   "metadata": {},
   "source": [
    "### version2"
   ]
  },
  {
   "cell_type": "code",
   "execution_count": 70,
   "id": "b1178a7b",
   "metadata": {},
   "outputs": [],
   "source": [
    "def minimumSwaps(popularity: List):\n",
    "    # using cycle sort\n",
    "    num_swaps = 0\n",
    "    for i in range(len(popularity)):\n",
    "        \n",
    "        t_index = true_index(i, popularity)\n",
    "        while t_index != i:\n",
    "            \n",
    "            if popularity.index(popularity[i]) == t_index:\n",
    "                continue\n",
    "            else:\n",
    "                popularity[i], popularity[t_index] = popularity[t_index], popularity[i]\n",
    "                num_swaps += 1\n",
    "                \n",
    "            t_index = true_index(i, popularity)\n",
    "            \n",
    "    return num_swaps"
   ]
  },
  {
   "cell_type": "code",
   "execution_count": 84,
   "id": "bfaaf91e",
   "metadata": {},
   "outputs": [],
   "source": [
    "def true_index(idx: int, arr: List):\n",
    "    \"\"\"\n",
    "    find the true index of the element with index idx in arr\n",
    "    \"\"\"\n",
    "    count = 0\n",
    "    for j in range(len(popularity)):\n",
    "        if popularity[j] > popularity[idx]:\n",
    "            count += 1\n",
    "            \n",
    "    return count"
   ]
  },
  {
   "cell_type": "code",
   "execution_count": null,
   "id": "71392a7c",
   "metadata": {},
   "outputs": [],
   "source": []
  },
  {
   "cell_type": "code",
   "execution_count": 92,
   "id": "482adb93",
   "metadata": {},
   "outputs": [],
   "source": [
    "popularity = [6, 2, 4, 1, 5, 9]"
   ]
  },
  {
   "cell_type": "code",
   "execution_count": 93,
   "id": "d328d5fc",
   "metadata": {
    "scrolled": true
   },
   "outputs": [
    {
     "data": {
      "text/plain": [
       "5"
      ]
     },
     "execution_count": 93,
     "metadata": {},
     "output_type": "execute_result"
    }
   ],
   "source": [
    "minimumSwaps(popularity)"
   ]
  },
  {
   "cell_type": "code",
   "execution_count": 94,
   "id": "afbdeb29",
   "metadata": {},
   "outputs": [],
   "source": [
    "popularity = [3, 1, 2]"
   ]
  },
  {
   "cell_type": "code",
   "execution_count": 95,
   "id": "e4b605e5",
   "metadata": {
    "scrolled": true
   },
   "outputs": [
    {
     "data": {
      "text/plain": [
       "1"
      ]
     },
     "execution_count": 95,
     "metadata": {},
     "output_type": "execute_result"
    }
   ],
   "source": [
    "minimumSwaps(popularity)"
   ]
  },
  {
   "cell_type": "code",
   "execution_count": 96,
   "id": "afcd9557",
   "metadata": {},
   "outputs": [],
   "source": [
    "popularity = [3, 4, 1, 2]"
   ]
  },
  {
   "cell_type": "code",
   "execution_count": 97,
   "id": "27acbd52",
   "metadata": {
    "scrolled": true
   },
   "outputs": [
    {
     "data": {
      "text/plain": [
       "2"
      ]
     },
     "execution_count": 97,
     "metadata": {},
     "output_type": "execute_result"
    }
   ],
   "source": [
    "minimumSwaps(popularity)"
   ]
  },
  {
   "cell_type": "code",
   "execution_count": null,
   "id": "5da1133c",
   "metadata": {},
   "outputs": [],
   "source": []
  },
  {
   "cell_type": "code",
   "execution_count": null,
   "id": "9b813acf",
   "metadata": {},
   "outputs": [],
   "source": []
  },
  {
   "cell_type": "code",
   "execution_count": null,
   "id": "e10b8d67",
   "metadata": {},
   "outputs": [],
   "source": []
  },
  {
   "cell_type": "code",
   "execution_count": null,
   "id": "586c8dd7",
   "metadata": {},
   "outputs": [],
   "source": []
  },
  {
   "cell_type": "code",
   "execution_count": null,
   "id": "5a965a00",
   "metadata": {},
   "outputs": [],
   "source": []
  },
  {
   "cell_type": "code",
   "execution_count": null,
   "id": "8f49068b",
   "metadata": {},
   "outputs": [],
   "source": []
  },
  {
   "cell_type": "code",
   "execution_count": 49,
   "id": "b342c8fb",
   "metadata": {},
   "outputs": [
    {
     "name": "stdout",
     "output_type": "stream",
     "text": [
      "hello\n",
      "hello\n",
      "hello\n",
      "hello\n",
      "hello\n"
     ]
    }
   ],
   "source": [
    "num_swap = 0\n",
    "for i in range(len(popularity)):\n",
    "    count = 0\n",
    "    for j in range(len(popularity)):\n",
    "        if popularity[j] > popularity[i]:\n",
    "            count += 1\n",
    "    \n",
    "    while count != i:\n",
    "        if popularity.index(popularity[i]) == count:\n",
    "            continue\n",
    "        else:\n",
    "            popularity[i], popularity[count] = popularity[count], popularity[i]\n",
    "            print('hello')\n",
    "            num_swap += 1\n",
    "        \n",
    "        count = 0\n",
    "        for j in range(len(popularity)):\n",
    "            if popularity[j] > popularity[i]:\n",
    "                count += 1\n",
    "    \n",
    "    \n",
    "    \n"
   ]
  },
  {
   "cell_type": "code",
   "execution_count": null,
   "id": "ed38eeb0",
   "metadata": {},
   "outputs": [],
   "source": []
  },
  {
   "cell_type": "code",
   "execution_count": null,
   "id": "32f3ae61",
   "metadata": {},
   "outputs": [],
   "source": []
  },
  {
   "cell_type": "code",
   "execution_count": null,
   "id": "ca7f2d4e",
   "metadata": {},
   "outputs": [],
   "source": []
  }
 ],
 "metadata": {
  "kernelspec": {
   "display_name": "Python [conda env:leoweng3.0.2] *",
   "language": "python",
   "name": "conda-env-leoweng3.0.2-py"
  },
  "language_info": {
   "codemirror_mode": {
    "name": "ipython",
    "version": 3
   },
   "file_extension": ".py",
   "mimetype": "text/x-python",
   "name": "python",
   "nbconvert_exporter": "python",
   "pygments_lexer": "ipython3",
   "version": "3.9.0"
  }
 },
 "nbformat": 4,
 "nbformat_minor": 5
}

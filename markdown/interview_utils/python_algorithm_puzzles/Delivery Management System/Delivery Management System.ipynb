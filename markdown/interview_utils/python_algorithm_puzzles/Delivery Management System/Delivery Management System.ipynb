{
 "cells": [
  {
   "cell_type": "code",
   "execution_count": 121,
   "id": "4b331d6f",
   "metadata": {},
   "outputs": [],
   "source": [
    "from typing import List\n",
    "from collections import deque"
   ]
  },
  {
   "cell_type": "code",
   "execution_count": 169,
   "id": "f761f51d",
   "metadata": {},
   "outputs": [],
   "source": [
    "def order(cityNodes: int, cityFrom: List[int], cityTo: List[int], company: int):\n",
    "    \n",
    "    # initialize dc which contains the neighborhood cities of every city\n",
    "    dc = {}\n",
    "    for i in range(1, cityNodes + 1):\n",
    "        dc[i] = []\n",
    "        \n",
    "    for x, y in list(zip(cityFrom, cityTo)):\n",
    "        if y not in dc[x]:\n",
    "           dc[x].append(y)\n",
    "        if x not in dc[y]:\n",
    "            dc[y].append(x)\n",
    "\n",
    "    # bfs\n",
    "    # initialize\n",
    "    result = []\n",
    "    delivered = [False] * cityNodes\n",
    "    delivered[company - 1] = True\n",
    "    for city in dc[company]:\n",
    "        delivered[city - 1] = True\n",
    "    d = deque(sorted(dc[company]))\n",
    "    result += sorted(dc[company])\n",
    "    while d:\n",
    "        # 队列用于bfs\n",
    "        current = d.popleft()\n",
    "\n",
    "        # 对于当前节点的相邻城市，都是下一圈deliver的城市\n",
    "        next_delivery_series = []\n",
    "        for city in dc[current]:\n",
    "            if not delivered[city - 1]:\n",
    "                next_delivery_series.append(city)\n",
    "                delivered[city - 1] = True\n",
    "        ## 加上这一圈的结果\n",
    "        result += sorted(next_delivery_series)\n",
    "\n",
    "        ## 将这一圈城市加入队列\n",
    "        for city in next_delivery_series:\n",
    "            d.append(city)\n",
    "            \n",
    "    return result"
   ]
  },
  {
   "cell_type": "code",
   "execution_count": 170,
   "id": "cf138d22",
   "metadata": {},
   "outputs": [],
   "source": [
    "cityNodes = 7\n",
    "company = 1\n",
    "cityFrom = [1, 1, 2, 1, 2, 2, 3, 4]\n",
    "cityTo = [3, 2, 3, 4, 4, 5, 6, 7]"
   ]
  },
  {
   "cell_type": "code",
   "execution_count": 171,
   "id": "b955c73f",
   "metadata": {
    "scrolled": false
   },
   "outputs": [
    {
     "data": {
      "text/plain": [
       "[2, 3, 4, 5, 6, 7]"
      ]
     },
     "execution_count": 171,
     "metadata": {},
     "output_type": "execute_result"
    }
   ],
   "source": [
    "result = order(cityNodes, cityFrom, cityTo, company)\n",
    "result"
   ]
  },
  {
   "cell_type": "code",
   "execution_count": 172,
   "id": "d9530e03",
   "metadata": {},
   "outputs": [],
   "source": [
    "cityNodes = 4\n",
    "company = 1\n",
    "cityFrom = [1, 2, 2]\n",
    "cityTo = [2, 3, 4]"
   ]
  },
  {
   "cell_type": "code",
   "execution_count": 173,
   "id": "d3934e75",
   "metadata": {
    "scrolled": true
   },
   "outputs": [
    {
     "data": {
      "text/plain": [
       "[2, 3, 4]"
      ]
     },
     "execution_count": 173,
     "metadata": {},
     "output_type": "execute_result"
    }
   ],
   "source": [
    "result = order(cityNodes, cityFrom, cityTo, company)\n",
    "result"
   ]
  },
  {
   "cell_type": "code",
   "execution_count": null,
   "id": "cee2fcc4",
   "metadata": {},
   "outputs": [],
   "source": []
  },
  {
   "cell_type": "code",
   "execution_count": null,
   "id": "ff7ba932",
   "metadata": {},
   "outputs": [],
   "source": []
  },
  {
   "cell_type": "code",
   "execution_count": null,
   "id": "a7999a7d",
   "metadata": {},
   "outputs": [],
   "source": []
  },
  {
   "cell_type": "code",
   "execution_count": null,
   "id": "8377ca2e",
   "metadata": {},
   "outputs": [],
   "source": []
  },
  {
   "cell_type": "code",
   "execution_count": null,
   "id": "a07f2adf",
   "metadata": {},
   "outputs": [],
   "source": []
  },
  {
   "cell_type": "code",
   "execution_count": null,
   "id": "79a2b446",
   "metadata": {},
   "outputs": [],
   "source": []
  },
  {
   "cell_type": "code",
   "execution_count": null,
   "id": "e3b602d9",
   "metadata": {},
   "outputs": [],
   "source": []
  },
  {
   "cell_type": "code",
   "execution_count": 18,
   "id": "ca4aaa12",
   "metadata": {},
   "outputs": [],
   "source": [
    "delivered = [False] * cityNodes"
   ]
  },
  {
   "cell_type": "code",
   "execution_count": 19,
   "id": "586a94c1",
   "metadata": {},
   "outputs": [],
   "source": [
    "delivered[company - 1] = True"
   ]
  },
  {
   "cell_type": "code",
   "execution_count": null,
   "id": "82597222",
   "metadata": {},
   "outputs": [],
   "source": [
    "for i in range(len(cityFrom)):\n",
    "    current = cityFrom[i]\n",
    "    \n",
    "    if not delivered[cityFrom[i]]"
   ]
  },
  {
   "cell_type": "code",
   "execution_count": null,
   "id": "cc576cd1",
   "metadata": {},
   "outputs": [],
   "source": []
  },
  {
   "cell_type": "code",
   "execution_count": 21,
   "id": "3aee5e38",
   "metadata": {},
   "outputs": [],
   "source": [
    "# 知道思路但是代码写不出来。。。"
   ]
  },
  {
   "cell_type": "code",
   "execution_count": null,
   "id": "04f29fe6",
   "metadata": {},
   "outputs": [],
   "source": []
  },
  {
   "cell_type": "code",
   "execution_count": 48,
   "id": "87970faa",
   "metadata": {},
   "outputs": [],
   "source": [
    "delivered = [False] * cityNodes\n",
    "result = []"
   ]
  },
  {
   "cell_type": "code",
   "execution_count": 47,
   "id": "e53cf7d6",
   "metadata": {
    "scrolled": true
   },
   "outputs": [
    {
     "data": {
      "text/plain": [
       "[False, False, False, False, False, False, False]"
      ]
     },
     "execution_count": 47,
     "metadata": {},
     "output_type": "execute_result"
    }
   ],
   "source": [
    "delivered"
   ]
  },
  {
   "cell_type": "code",
   "execution_count": 40,
   "id": "a3c1da53",
   "metadata": {},
   "outputs": [
    {
     "data": {
      "text/plain": [
       "{1: [], 2: [], 3: [], 4: [], 5: [], 6: [], 7: []}"
      ]
     },
     "execution_count": 40,
     "metadata": {},
     "output_type": "execute_result"
    }
   ],
   "source": [
    "dc = {}\n",
    "for i in range(1, cityNodes + 1):\n",
    "    dc[i] = []\n",
    "dc"
   ]
  },
  {
   "cell_type": "code",
   "execution_count": 41,
   "id": "d48ca2cd",
   "metadata": {},
   "outputs": [],
   "source": [
    "for x, y in list(zip(cityFrom, cityTo)):\n",
    "    if y not in dc[x]:\n",
    "       dc[x].append(y)\n",
    "    if x not in dc[y]:\n",
    "        dc[y].append(x)"
   ]
  },
  {
   "cell_type": "code",
   "execution_count": 119,
   "id": "63aa11cd",
   "metadata": {},
   "outputs": [
    {
     "name": "stdout",
     "output_type": "stream",
     "text": [
      "result_before [2, 3, 4]\n",
      "nds [5]\n",
      "hello [5]\n",
      "result [2, 3, 4, 5]\n",
      "d: deque([3, 4, 5])\n",
      "nds [6]\n",
      "hello [6]\n",
      "result [2, 3, 4, 5, 6]\n",
      "d: deque([4, 5, 6])\n",
      "nds [7]\n",
      "hello [7]\n",
      "result [2, 3, 4, 5, 6, 7]\n",
      "d: deque([5, 6, 7])\n",
      "nds []\n",
      "hello []\n",
      "result [2, 3, 4, 5, 6, 7]\n",
      "d: deque([6, 7])\n",
      "nds []\n",
      "hello []\n",
      "result [2, 3, 4, 5, 6, 7]\n",
      "d: deque([7])\n",
      "nds []\n",
      "hello []\n",
      "result [2, 3, 4, 5, 6, 7]\n",
      "d: deque([])\n"
     ]
    }
   ],
   "source": [
    "# initialize\n",
    "result = []\n",
    "delivered = [False] * cityNodes\n",
    "delivered[company - 1] = True\n",
    "for city in dc[company]:\n",
    "    delivered[city - 1] = True\n",
    "d = deque(sorted(dc[company]))\n",
    "result += sorted(dc[company])\n",
    "print('result_before', result)\n",
    "while d:\n",
    "    # 队列用于bfs\n",
    "    current = d.popleft()\n",
    "    \n",
    "    # 对于当前节点的相邻城市，都是下一圈deliver的城市\n",
    "    next_delivery_series = []\n",
    "#     print(dc[current])\n",
    "    for city in dc[current]:\n",
    "        if not delivered[city - 1]:\n",
    "            next_delivery_series.append(city)\n",
    "            delivered[city - 1] = True\n",
    "    ## 加上这一圈的结果\n",
    "    print('nds', next_delivery_series)\n",
    "    print('hello', sorted(next_delivery_series))\n",
    "    result += sorted(next_delivery_series)\n",
    "    \n",
    "    print('result', result)\n",
    "    ## 将这一圈城市加入队列\n",
    "    for city in next_delivery_series:\n",
    "        d.append(city)\n",
    "    print('d:', d)\n",
    "    \n",
    "    \n",
    "         "
   ]
  },
  {
   "cell_type": "code",
   "execution_count": 117,
   "id": "ded8bb04",
   "metadata": {},
   "outputs": [
    {
     "data": {
      "text/plain": [
       "[2, 3, 4, 5]"
      ]
     },
     "execution_count": 117,
     "metadata": {},
     "output_type": "execute_result"
    }
   ],
   "source": [
    "result = [2, 3, 4]\n",
    "result += sorted([5])\n",
    "result"
   ]
  },
  {
   "cell_type": "code",
   "execution_count": 120,
   "id": "9004aa09",
   "metadata": {
    "scrolled": true
   },
   "outputs": [
    {
     "data": {
      "text/plain": [
       "[2, 3, 4, 5, 6, 7]"
      ]
     },
     "execution_count": 120,
     "metadata": {},
     "output_type": "execute_result"
    }
   ],
   "source": [
    "result"
   ]
  },
  {
   "cell_type": "code",
   "execution_count": 67,
   "id": "4631b85a",
   "metadata": {},
   "outputs": [
    {
     "data": {
      "text/plain": [
       "[True, True, True, True, False, False, False]"
      ]
     },
     "execution_count": 67,
     "metadata": {},
     "output_type": "execute_result"
    }
   ],
   "source": [
    "delivered"
   ]
  },
  {
   "cell_type": "code",
   "execution_count": 62,
   "id": "63bf3b09",
   "metadata": {
    "scrolled": true
   },
   "outputs": [
    {
     "data": {
      "text/plain": [
       "deque([2, 3, 4])"
      ]
     },
     "execution_count": 62,
     "metadata": {},
     "output_type": "execute_result"
    }
   ],
   "source": [
    "d"
   ]
  },
  {
   "cell_type": "code",
   "execution_count": 53,
   "id": "845d89b3",
   "metadata": {},
   "outputs": [
    {
     "data": {
      "text/plain": [
       "[2, 3, 4]"
      ]
     },
     "execution_count": 53,
     "metadata": {},
     "output_type": "execute_result"
    }
   ],
   "source": [
    "sorted(dc[company])"
   ]
  },
  {
   "cell_type": "code",
   "execution_count": null,
   "id": "d0d89f0a",
   "metadata": {},
   "outputs": [],
   "source": []
  },
  {
   "cell_type": "code",
   "execution_count": 45,
   "id": "b547444e",
   "metadata": {},
   "outputs": [
    {
     "name": "stdout",
     "output_type": "stream",
     "text": [
      "1 [3, 2, 4]\n",
      "2 [1, 3, 4, 5]\n",
      "3 [1, 2, 6]\n",
      "4 [1, 2, 7]\n",
      "5 [2]\n",
      "6 [3]\n",
      "7 [4]\n"
     ]
    }
   ],
   "source": [
    "for key, value in dc.items():\n",
    "    print(key, value)"
   ]
  },
  {
   "cell_type": "code",
   "execution_count": 42,
   "id": "d79bd58a",
   "metadata": {},
   "outputs": [
    {
     "data": {
      "text/plain": [
       "{1: [3, 2, 4],\n",
       " 2: [1, 3, 4, 5],\n",
       " 3: [1, 2, 6],\n",
       " 4: [1, 2, 7],\n",
       " 5: [2],\n",
       " 6: [3],\n",
       " 7: [4]}"
      ]
     },
     "execution_count": 42,
     "metadata": {},
     "output_type": "execute_result"
    }
   ],
   "source": [
    "dc"
   ]
  },
  {
   "cell_type": "code",
   "execution_count": null,
   "id": "83d2234e",
   "metadata": {},
   "outputs": [],
   "source": []
  },
  {
   "cell_type": "code",
   "execution_count": null,
   "id": "b4dec628",
   "metadata": {},
   "outputs": [],
   "source": []
  }
 ],
 "metadata": {
  "kernelspec": {
   "display_name": "Python [conda env:leoweng3.0.2] *",
   "language": "python",
   "name": "conda-env-leoweng3.0.2-py"
  },
  "language_info": {
   "codemirror_mode": {
    "name": "ipython",
    "version": 3
   },
   "file_extension": ".py",
   "mimetype": "text/x-python",
   "name": "python",
   "nbconvert_exporter": "python",
   "pygments_lexer": "ipython3",
   "version": "3.9.0"
  }
 },
 "nbformat": 4,
 "nbformat_minor": 5
}

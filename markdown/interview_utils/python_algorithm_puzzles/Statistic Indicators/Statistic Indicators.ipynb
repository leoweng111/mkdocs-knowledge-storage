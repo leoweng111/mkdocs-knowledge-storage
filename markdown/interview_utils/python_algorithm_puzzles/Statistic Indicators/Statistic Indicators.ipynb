{
 "cells": [
  {
   "cell_type": "code",
   "execution_count": 1,
   "id": "24deaf94",
   "metadata": {},
   "outputs": [],
   "source": [
    "from typing import List"
   ]
  },
  {
   "cell_type": "code",
   "execution_count": 87,
   "id": "978d2014",
   "metadata": {},
   "outputs": [],
   "source": [
    "def difference_calculator(N: int, arr: List):\n",
    "    return abs(calculator_indicator_1(arr, N) - calculate_indicator_2(arr))"
   ]
  },
  {
   "cell_type": "code",
   "execution_count": 88,
   "id": "9cf5dfc1",
   "metadata": {},
   "outputs": [],
   "source": [
    "def calculator_indicator_1(arr, N):\n",
    "    pointer = 0\n",
    "    dc = {}\n",
    "    indicator_1 = 0\n",
    "    while pointer < N:\n",
    "\n",
    "        # current group\n",
    "        if (pointer == 0) or (arr[pointer - 1] == arr[pointer]):\n",
    "            if arr[pointer] not in dc:\n",
    "                dc[arr[pointer]] = 1\n",
    "            else:\n",
    "                dc[arr[pointer]] += 1\n",
    "\n",
    "        # next group\n",
    "        else: # (pointer > 0) and arr[pointer - 1] != arr[pointer]\n",
    "\n",
    "            # every time entering into next group, we calculate the number of indicator1 in current dc and \n",
    "            # initialize dc\n",
    "            indicator_1 += sum([1 for i, j in dc.items() if i == j])\n",
    "            dc = {}\n",
    "\n",
    "            # add a new key\n",
    "            dc[arr[pointer]] = 1\n",
    "\n",
    "        pointer += 1\n",
    "\n",
    "    indicator_1 += calculate_indicator_1(dc)\n",
    "\n",
    "    return indicator_1"
   ]
  },
  {
   "cell_type": "code",
   "execution_count": 89,
   "id": "03f4ec0a",
   "metadata": {},
   "outputs": [],
   "source": [
    "def calculate_indicator_2(arr: List):\n",
    "    indicator_2 = 0\n",
    "    for number in list(set(arr)):\n",
    "        check = True\n",
    "        for i in range(number - 1, 2 * number - 1):\n",
    "            if arr[i] != number:\n",
    "                check = False\n",
    "                break\n",
    "\n",
    "        if check and (2 * number - 1 == N or arr[2 * number - 1] != number):\n",
    "            indicator_2 += 1\n",
    "            \n",
    "    return indicator_2"
   ]
  },
  {
   "cell_type": "code",
   "execution_count": 98,
   "id": "f3198c97",
   "metadata": {},
   "outputs": [],
   "source": [
    "arr = [3, 3, 2, 2, 5, 5, 5, 5, 5, 3, 3, 3, 2, 2]\n",
    "N = 14"
   ]
  },
  {
   "cell_type": "code",
   "execution_count": 99,
   "id": "879b0279",
   "metadata": {
    "scrolled": true
   },
   "outputs": [
    {
     "data": {
      "text/plain": [
       "3"
      ]
     },
     "execution_count": 99,
     "metadata": {},
     "output_type": "execute_result"
    }
   ],
   "source": [
    "difference_calculator(N, arr)"
   ]
  },
  {
   "cell_type": "code",
   "execution_count": 100,
   "id": "e172fdde",
   "metadata": {},
   "outputs": [],
   "source": [
    "arr = [1, 2, 2, 2, 2, 3, 3, 3, 1, 1, 2, 2]\n",
    "N = 12"
   ]
  },
  {
   "cell_type": "code",
   "execution_count": 101,
   "id": "6939c2fb",
   "metadata": {
    "scrolled": false
   },
   "outputs": [
    {
     "data": {
      "text/plain": [
       "2"
      ]
     },
     "execution_count": 101,
     "metadata": {},
     "output_type": "execute_result"
    }
   ],
   "source": [
    "difference_calculator(N, arr)"
   ]
  },
  {
   "cell_type": "code",
   "execution_count": null,
   "id": "6294b04e",
   "metadata": {},
   "outputs": [],
   "source": []
  },
  {
   "cell_type": "code",
   "execution_count": null,
   "id": "7b422b81",
   "metadata": {},
   "outputs": [],
   "source": []
  },
  {
   "cell_type": "code",
   "execution_count": null,
   "id": "32d02092",
   "metadata": {},
   "outputs": [],
   "source": []
  },
  {
   "cell_type": "code",
   "execution_count": null,
   "id": "84a83c6c",
   "metadata": {},
   "outputs": [],
   "source": []
  },
  {
   "cell_type": "code",
   "execution_count": null,
   "id": "e0bce85d",
   "metadata": {},
   "outputs": [],
   "source": []
  },
  {
   "cell_type": "code",
   "execution_count": null,
   "id": "cbd9db91",
   "metadata": {},
   "outputs": [],
   "source": []
  },
  {
   "cell_type": "code",
   "execution_count": 96,
   "id": "580db00f",
   "metadata": {},
   "outputs": [],
   "source": [
    "arr = [1, 2, 2, 4, 4, 4, 4, 3, 4, 4, 4]\n",
    "N = 11"
   ]
  },
  {
   "cell_type": "code",
   "execution_count": null,
   "id": "5d6e67ac",
   "metadata": {},
   "outputs": [],
   "source": []
  },
  {
   "cell_type": "code",
   "execution_count": 46,
   "id": "cc9809ed",
   "metadata": {},
   "outputs": [
    {
     "data": {
      "text/plain": [
       "3"
      ]
     },
     "execution_count": 46,
     "metadata": {},
     "output_type": "execute_result"
    }
   ],
   "source": [
    "indicator_1"
   ]
  },
  {
   "cell_type": "code",
   "execution_count": 50,
   "id": "943af1c4",
   "metadata": {},
   "outputs": [
    {
     "data": {
      "text/plain": [
       "[1, 2, 3, 4]"
      ]
     },
     "execution_count": 50,
     "metadata": {},
     "output_type": "execute_result"
    }
   ],
   "source": [
    "list(set(arr))"
   ]
  },
  {
   "cell_type": "code",
   "execution_count": 61,
   "id": "f69843f8",
   "metadata": {},
   "outputs": [],
   "source": [
    "number = 3"
   ]
  },
  {
   "cell_type": "code",
   "execution_count": 63,
   "id": "92e47541",
   "metadata": {},
   "outputs": [
    {
     "name": "stdout",
     "output_type": "stream",
     "text": [
      "2\n",
      "3\n",
      "4\n"
     ]
    }
   ],
   "source": [
    "for i in range(number - 1, 2 * number - 1):\n",
    "    print(i)"
   ]
  },
  {
   "cell_type": "code",
   "execution_count": 64,
   "id": "499349a5",
   "metadata": {},
   "outputs": [
    {
     "data": {
      "text/plain": [
       "True"
      ]
     },
     "execution_count": 64,
     "metadata": {},
     "output_type": "execute_result"
    }
   ],
   "source": [
    "arr[2] != number"
   ]
  },
  {
   "cell_type": "code",
   "execution_count": 79,
   "id": "0dda73a8",
   "metadata": {},
   "outputs": [],
   "source": [
    "dc = {1: 1, 2: 3, 4: 4}"
   ]
  },
  {
   "cell_type": "code",
   "execution_count": 84,
   "id": "9da230a2",
   "metadata": {},
   "outputs": [
    {
     "data": {
      "text/plain": [
       "2"
      ]
     },
     "execution_count": 84,
     "metadata": {},
     "output_type": "execute_result"
    }
   ],
   "source": [
    "sum([1 for i, j in dc.items() if i == j])"
   ]
  },
  {
   "cell_type": "code",
   "execution_count": null,
   "id": "bd392ccb",
   "metadata": {},
   "outputs": [],
   "source": []
  }
 ],
 "metadata": {
  "kernelspec": {
   "display_name": "Python [conda env:leoweng3.0.2] *",
   "language": "python",
   "name": "conda-env-leoweng3.0.2-py"
  },
  "language_info": {
   "codemirror_mode": {
    "name": "ipython",
    "version": 3
   },
   "file_extension": ".py",
   "mimetype": "text/x-python",
   "name": "python",
   "nbconvert_exporter": "python",
   "pygments_lexer": "ipython3",
   "version": "3.9.0"
  }
 },
 "nbformat": 4,
 "nbformat_minor": 5
}

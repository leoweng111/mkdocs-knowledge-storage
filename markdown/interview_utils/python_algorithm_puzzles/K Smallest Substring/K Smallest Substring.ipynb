{
 "cells": [
  {
   "cell_type": "markdown",
   "id": "d88ab4db",
   "metadata": {},
   "source": [
    "### two pointer method"
   ]
  },
  {
   "cell_type": "code",
   "execution_count": 68,
   "id": "9ebd76d6",
   "metadata": {},
   "outputs": [],
   "source": [
    "def getSubstring(input_str: str, k: int):\n",
    "    count = 0\n",
    "    left_pointer, right_pointer = 0, 0\n",
    "    min_length = float('inf')\n",
    "    result = None\n",
    "    while right_pointer < len(input_str):\n",
    "        if input_str[right_pointer] == '1':\n",
    "            count += 1\n",
    "\n",
    "        if count == k:\n",
    "            while left_pointer < len(input_str):\n",
    "                if input_str[left_pointer] == '1' and (left_pointer == 0 or left_pointer == len(input_str) - 1):\n",
    "                    break\n",
    "                left_pointer += 1\n",
    "                if input_str[left_pointer] == '1':\n",
    "                    break\n",
    "            count -= 1\n",
    "\n",
    "            if (right_pointer - left_pointer) < min_length:\n",
    "                result = input_str[left_pointer: right_pointer + 1]\n",
    "            min_length = right_pointer - left_pointer\n",
    "\n",
    "        right_pointer += 1\n",
    "    \n",
    "    if result:\n",
    "        return result"
   ]
  },
  {
   "cell_type": "code",
   "execution_count": 80,
   "id": "44b697fc",
   "metadata": {},
   "outputs": [],
   "source": [
    "input_str = '0101101'\n",
    "k = 1"
   ]
  },
  {
   "cell_type": "code",
   "execution_count": 76,
   "id": "758bea42",
   "metadata": {},
   "outputs": [],
   "source": [
    "input_str = '10101'\n",
    "k = 2"
   ]
  },
  {
   "cell_type": "code",
   "execution_count": 72,
   "id": "59a29667",
   "metadata": {},
   "outputs": [],
   "source": [
    "input_str = '010100011'\n",
    "k = 2"
   ]
  },
  {
   "cell_type": "code",
   "execution_count": 81,
   "id": "d01916c8",
   "metadata": {
    "scrolled": true
   },
   "outputs": [
    {
     "data": {
      "text/plain": [
       "'1'"
      ]
     },
     "execution_count": 81,
     "metadata": {},
     "output_type": "execute_result"
    }
   ],
   "source": [
    "getSubstring(input_str, k)"
   ]
  },
  {
   "cell_type": "code",
   "execution_count": null,
   "id": "808c8175",
   "metadata": {},
   "outputs": [],
   "source": []
  },
  {
   "cell_type": "code",
   "execution_count": null,
   "id": "fb95e923",
   "metadata": {},
   "outputs": [],
   "source": []
  },
  {
   "cell_type": "code",
   "execution_count": null,
   "id": "ab41de3f",
   "metadata": {},
   "outputs": [],
   "source": []
  },
  {
   "cell_type": "code",
   "execution_count": null,
   "id": "1a26b235",
   "metadata": {},
   "outputs": [],
   "source": []
  },
  {
   "cell_type": "code",
   "execution_count": 48,
   "id": "a122fdc5",
   "metadata": {},
   "outputs": [],
   "source": [
    "input_str = '0101101'\n",
    "k = 1"
   ]
  },
  {
   "cell_type": "code",
   "execution_count": 51,
   "id": "a456e1b5",
   "metadata": {},
   "outputs": [],
   "source": [
    "input_str = '10101'\n",
    "k = 2"
   ]
  },
  {
   "cell_type": "code",
   "execution_count": 65,
   "id": "2d464a0e",
   "metadata": {},
   "outputs": [],
   "source": [
    "input_str = '010100011'\n",
    "k = 2"
   ]
  },
  {
   "cell_type": "code",
   "execution_count": 67,
   "id": "06e7417d",
   "metadata": {},
   "outputs": [
    {
     "data": {
      "text/plain": [
       "'11'"
      ]
     },
     "execution_count": 67,
     "metadata": {},
     "output_type": "execute_result"
    }
   ],
   "source": [
    "count = 0\n",
    "left_pointer, right_pointer = 0, 0\n",
    "min_length = float('inf')\n",
    "while right_pointer < len(input_str):\n",
    "    if input_str[right_pointer] == '1':\n",
    "        count += 1\n",
    "        \n",
    "    if count == k:\n",
    "        while left_pointer < len(input_str):\n",
    "            if input_str[left_pointer] == '1' and (left_pointer == 0 or left_pointer == len(input_str) - 1):\n",
    "                break\n",
    "            left_pointer += 1\n",
    "            if input_str[left_pointer] == '1':\n",
    "                break\n",
    "        count -= 1\n",
    "        \n",
    "        if (right_pointer - left_pointer) < min_length:\n",
    "            result = input_str[left_pointer: right_pointer + 1]\n",
    "        min_length = right_pointer - left_pointer\n",
    "        \n",
    "    right_pointer += 1\n",
    "    \n",
    "result"
   ]
  },
  {
   "cell_type": "code",
   "execution_count": null,
   "id": "ef8b4d67",
   "metadata": {},
   "outputs": [],
   "source": []
  },
  {
   "cell_type": "code",
   "execution_count": null,
   "id": "716878fa",
   "metadata": {},
   "outputs": [],
   "source": []
  },
  {
   "cell_type": "code",
   "execution_count": 18,
   "id": "f3f4146c",
   "metadata": {},
   "outputs": [],
   "source": [
    "def find_subarray_with_sum(arr, k):\n",
    "    prefix_sum = 0\n",
    "    prefix_sum_map = {}\n",
    "    for i in range(len(arr)):\n",
    "        prefix_sum += arr[i]\n",
    "        if prefix_sum == k:\n",
    "            return arr[:i+1]\n",
    "        if prefix_sum - k in prefix_sum_map:\n",
    "            return arr[prefix_sum_map[prefix_sum - k] + 1:i+1]\n",
    "        prefix_sum_map[prefix_sum] = i\n",
    "    return None"
   ]
  },
  {
   "cell_type": "code",
   "execution_count": null,
   "id": "d4095e94",
   "metadata": {},
   "outputs": [],
   "source": []
  },
  {
   "cell_type": "code",
   "execution_count": 29,
   "id": "452ccff6",
   "metadata": {},
   "outputs": [],
   "source": [
    "arr = [0, 1, 0, 1, 1, 0, 1]\n",
    "k = 3"
   ]
  },
  {
   "cell_type": "code",
   "execution_count": 28,
   "id": "3c4ca426",
   "metadata": {},
   "outputs": [
    {
     "data": {
      "text/plain": [
       "[0, 0, 0, 1, 1, 0, 1]"
      ]
     },
     "execution_count": 28,
     "metadata": {},
     "output_type": "execute_result"
    }
   ],
   "source": [
    "find_subarray_with_sum(arr, k)"
   ]
  },
  {
   "cell_type": "code",
   "execution_count": null,
   "id": "5e6766b9",
   "metadata": {},
   "outputs": [],
   "source": []
  },
  {
   "cell_type": "code",
   "execution_count": null,
   "id": "26b9259b",
   "metadata": {},
   "outputs": [],
   "source": []
  },
  {
   "cell_type": "code",
   "execution_count": null,
   "id": "39d55f43",
   "metadata": {},
   "outputs": [],
   "source": []
  }
 ],
 "metadata": {
  "kernelspec": {
   "display_name": "Python [conda env:leoweng3.0.2] *",
   "language": "python",
   "name": "conda-env-leoweng3.0.2-py"
  },
  "language_info": {
   "codemirror_mode": {
    "name": "ipython",
    "version": 3
   },
   "file_extension": ".py",
   "mimetype": "text/x-python",
   "name": "python",
   "nbconvert_exporter": "python",
   "pygments_lexer": "ipython3",
   "version": "3.9.0"
  }
 },
 "nbformat": 4,
 "nbformat_minor": 5
}

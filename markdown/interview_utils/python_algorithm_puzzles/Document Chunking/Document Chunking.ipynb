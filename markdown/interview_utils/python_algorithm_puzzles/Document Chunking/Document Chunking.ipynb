{
 "cells": [
  {
   "cell_type": "code",
   "execution_count": 71,
   "id": "2280d77e",
   "metadata": {},
   "outputs": [],
   "source": [
    "import math\n",
    "from typing import List\n",
    "from functools import reduce"
   ]
  },
  {
   "cell_type": "code",
   "execution_count": 72,
   "id": "778bd7b9",
   "metadata": {},
   "outputs": [],
   "source": [
    "def minimumChunkRequired(totalPackets: int, uploadedChunk: List[List[int]]):\n",
    "    result = 0\n",
    "    uploaded_number = reduce(lambda x, y: x + y, [list(range(i[0], i[-1] + 1)) for i in uploadedChunk])\n",
    "    continuous_packets = extract_continuous_packets(list(range(1, totalPackets + 1)), uploaded_number)\n",
    "    \n",
    "    for packets in continuous_packets:\n",
    "        result += minimum_number_of_chunks(len(packets))\n",
    "        \n",
    "    return result"
   ]
  },
  {
   "cell_type": "code",
   "execution_count": 70,
   "id": "a25bed8c",
   "metadata": {},
   "outputs": [],
   "source": [
    "def extract_continuous_packets(lst, uploaded_number):\n",
    "    result = []\n",
    "    seq = []\n",
    "    for i in lst:\n",
    "        if i not in uploaded_number:\n",
    "            if not seq:\n",
    "                seq.append(i)\n",
    "            elif i == seq[-1] + 1:\n",
    "                seq.append(i)\n",
    "            else:\n",
    "                result.append(seq)\n",
    "                seq = [i]\n",
    "    if seq:\n",
    "        result.append(seq)\n",
    "        \n",
    "    return result"
   ]
  },
  {
   "cell_type": "code",
   "execution_count": 63,
   "id": "8668a7f8",
   "metadata": {},
   "outputs": [],
   "source": [
    "def minimum_number_of_chunks(l: int):\n",
    "    \"\"\"\n",
    "    calculate the minimum number of chunks that a document of length l can be divided into.\n",
    "    \"\"\"\n",
    "    remain_length = l\n",
    "    number_chunks = 0\n",
    "    while remain_length > 0:\n",
    "        n = math.floor(math.log(remain_length, 2))\n",
    "        remain_length -= pow(2, n)\n",
    "        number_chunks += 1\n",
    "    \n",
    "    return number_chunks"
   ]
  },
  {
   "cell_type": "code",
   "execution_count": 64,
   "id": "5e3ee397",
   "metadata": {},
   "outputs": [
    {
     "data": {
      "text/plain": [
       "3"
      ]
     },
     "execution_count": 64,
     "metadata": {},
     "output_type": "execute_result"
    }
   ],
   "source": [
    "minimumChunkRequired(totalPackets=10, uploadedChunk = [[1, 2], [4, 4], [7, 8]])"
   ]
  },
  {
   "cell_type": "code",
   "execution_count": 67,
   "id": "b12ff55e",
   "metadata": {},
   "outputs": [
    {
     "data": {
      "text/plain": [
       "2"
      ]
     },
     "execution_count": 67,
     "metadata": {},
     "output_type": "execute_result"
    }
   ],
   "source": [
    "minimumChunkRequired(totalPackets=5, uploadedChunk = [[1, 2]])"
   ]
  },
  {
   "cell_type": "code",
   "execution_count": 68,
   "id": "8ea46ef3",
   "metadata": {
    "scrolled": true
   },
   "outputs": [
    {
     "data": {
      "text/plain": [
       "2"
      ]
     },
     "execution_count": 68,
     "metadata": {},
     "output_type": "execute_result"
    }
   ],
   "source": [
    "minimumChunkRequired(totalPackets=10, uploadedChunk = [[1, 2], [9, 10]])"
   ]
  },
  {
   "cell_type": "code",
   "execution_count": 69,
   "id": "1565ca6e",
   "metadata": {
    "scrolled": true
   },
   "outputs": [
    {
     "data": {
      "text/plain": [
       "2"
      ]
     },
     "execution_count": 69,
     "metadata": {},
     "output_type": "execute_result"
    }
   ],
   "source": [
    "minimumChunkRequired(totalPackets=18, uploadedChunk = [[9, 17]])"
   ]
  },
  {
   "cell_type": "code",
   "execution_count": null,
   "id": "9d328465",
   "metadata": {},
   "outputs": [],
   "source": []
  },
  {
   "cell_type": "code",
   "execution_count": null,
   "id": "926e36e8",
   "metadata": {},
   "outputs": [],
   "source": []
  },
  {
   "cell_type": "code",
   "execution_count": null,
   "id": "b3e199db",
   "metadata": {},
   "outputs": [],
   "source": []
  },
  {
   "cell_type": "code",
   "execution_count": 55,
   "id": "06b99c02",
   "metadata": {},
   "outputs": [],
   "source": [
    "totalPackets = 10\n",
    "uploadedChunk = [[1, 2], [9, 10]]"
   ]
  },
  {
   "cell_type": "code",
   "execution_count": 60,
   "id": "364fa4d0",
   "metadata": {
    "scrolled": true
   },
   "outputs": [
    {
     "data": {
      "text/plain": [
       "[[3, 4, 5, 6, 7, 8]]"
      ]
     },
     "execution_count": 60,
     "metadata": {},
     "output_type": "execute_result"
    }
   ],
   "source": [
    "extract_continuous_sequences(list(range(1, 11)), uploaded_number)"
   ]
  },
  {
   "cell_type": "code",
   "execution_count": null,
   "id": "b750c78b",
   "metadata": {},
   "outputs": [],
   "source": []
  },
  {
   "cell_type": "code",
   "execution_count": 56,
   "id": "6f9e7a61",
   "metadata": {},
   "outputs": [],
   "source": [
    "uploaded_number = [list(range(i[0], i[-1] + 1)) for i in uploadedChunk]"
   ]
  },
  {
   "cell_type": "code",
   "execution_count": 57,
   "id": "fc96ab50",
   "metadata": {},
   "outputs": [],
   "source": [
    "uploaded_number = reduce(lambda x, y: x + y, uploaded_number)"
   ]
  },
  {
   "cell_type": "code",
   "execution_count": 58,
   "id": "6ebec6a3",
   "metadata": {
    "scrolled": true
   },
   "outputs": [
    {
     "data": {
      "text/plain": [
       "[1, 2, 9, 10]"
      ]
     },
     "execution_count": 58,
     "metadata": {},
     "output_type": "execute_result"
    }
   ],
   "source": [
    "uploaded_number"
   ]
  },
  {
   "cell_type": "code",
   "execution_count": null,
   "id": "f11cdd00",
   "metadata": {},
   "outputs": [],
   "source": []
  },
  {
   "cell_type": "code",
   "execution_count": 22,
   "id": "c3c7fa35",
   "metadata": {},
   "outputs": [
    {
     "data": {
      "text/plain": [
       "[0, 1, 2, 3, 4]"
      ]
     },
     "execution_count": 22,
     "metadata": {},
     "output_type": "execute_result"
    }
   ],
   "source": [
    "document"
   ]
  },
  {
   "cell_type": "code",
   "execution_count": 19,
   "id": "0624846d",
   "metadata": {},
   "outputs": [
    {
     "data": {
      "text/plain": [
       "[0, 1, 2, 3, 4]"
      ]
     },
     "execution_count": 19,
     "metadata": {},
     "output_type": "execute_result"
    }
   ],
   "source": [
    "document = list(range(totalPackets))\n",
    "chunks = []\n",
    "for i in range(totalPackets):\n",
    "    "
   ]
  },
  {
   "cell_type": "code",
   "execution_count": null,
   "id": "f4a5ba3e",
   "metadata": {},
   "outputs": [],
   "source": []
  },
  {
   "cell_type": "code",
   "execution_count": 21,
   "id": "ef6167b9",
   "metadata": {},
   "outputs": [
    {
     "data": {
      "text/plain": [
       "True"
      ]
     },
     "execution_count": 21,
     "metadata": {},
     "output_type": "execute_result"
    }
   ],
   "source": [
    "5 in range(1, 10)"
   ]
  },
  {
   "cell_type": "code",
   "execution_count": null,
   "id": "74b34660",
   "metadata": {},
   "outputs": [],
   "source": []
  },
  {
   "cell_type": "code",
   "execution_count": 2,
   "id": "b22c285a",
   "metadata": {
    "scrolled": false
   },
   "outputs": [
    {
     "data": {
      "text/plain": [
       "6.643856189774725"
      ]
     },
     "execution_count": 2,
     "metadata": {},
     "output_type": "execute_result"
    }
   ],
   "source": [
    "math.log(100, 2)"
   ]
  },
  {
   "cell_type": "code",
   "execution_count": 5,
   "id": "304370af",
   "metadata": {},
   "outputs": [
    {
     "data": {
      "text/plain": [
       "7"
      ]
     },
     "execution_count": 5,
     "metadata": {},
     "output_type": "execute_result"
    }
   ],
   "source": [
    "math.ceil(math.log(100, 2))"
   ]
  },
  {
   "cell_type": "code",
   "execution_count": 6,
   "id": "ea68c5e3",
   "metadata": {},
   "outputs": [
    {
     "data": {
      "text/plain": [
       "6"
      ]
     },
     "execution_count": 6,
     "metadata": {},
     "output_type": "execute_result"
    }
   ],
   "source": [
    "math.floor(math.log(100, 2))"
   ]
  },
  {
   "cell_type": "code",
   "execution_count": 10,
   "id": "37a2b5ee",
   "metadata": {},
   "outputs": [
    {
     "data": {
      "text/plain": [
       "2"
      ]
     },
     "execution_count": 10,
     "metadata": {},
     "output_type": "execute_result"
    }
   ],
   "source": [
    "math.floor(math.log(4, 2))"
   ]
  },
  {
   "cell_type": "code",
   "execution_count": 9,
   "id": "a662373c",
   "metadata": {},
   "outputs": [
    {
     "data": {
      "text/plain": [
       "64"
      ]
     },
     "execution_count": 9,
     "metadata": {},
     "output_type": "execute_result"
    }
   ],
   "source": [
    "pow(2, 6)"
   ]
  },
  {
   "cell_type": "code",
   "execution_count": 8,
   "id": "9804f4e4",
   "metadata": {
    "scrolled": true
   },
   "outputs": [
    {
     "data": {
      "text/plain": [
       "1.0"
      ]
     },
     "execution_count": 8,
     "metadata": {},
     "output_type": "execute_result"
    }
   ],
   "source": [
    "math.log(2, 2)"
   ]
  },
  {
   "cell_type": "code",
   "execution_count": null,
   "id": "3a68970a",
   "metadata": {},
   "outputs": [],
   "source": []
  },
  {
   "cell_type": "code",
   "execution_count": null,
   "id": "e5ea81b7",
   "metadata": {},
   "outputs": [],
   "source": []
  },
  {
   "cell_type": "code",
   "execution_count": null,
   "id": "4b2be490",
   "metadata": {},
   "outputs": [],
   "source": []
  }
 ],
 "metadata": {
  "kernelspec": {
   "display_name": "Python [conda env:leoweng3.0.2] *",
   "language": "python",
   "name": "conda-env-leoweng3.0.2-py"
  },
  "language_info": {
   "codemirror_mode": {
    "name": "ipython",
    "version": 3
   },
   "file_extension": ".py",
   "mimetype": "text/x-python",
   "name": "python",
   "nbconvert_exporter": "python",
   "pygments_lexer": "ipython3",
   "version": "3.9.0"
  }
 },
 "nbformat": 4,
 "nbformat_minor": 5
}

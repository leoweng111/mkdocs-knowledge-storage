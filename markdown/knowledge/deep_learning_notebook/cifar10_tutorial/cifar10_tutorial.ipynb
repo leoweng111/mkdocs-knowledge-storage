{
 "cells": [
  {
   "cell_type": "code",
   "execution_count": null,
   "metadata": {},
   "outputs": [],
   "source": [
    "%matplotlib inline\n",
    "import torch\n",
    "import torchvision\n",
    "import torchvision.transforms as transforms\n",
    "import torch.nn as nn"
   ]
  },
  {
   "cell_type": "markdown",
   "metadata": {},
   "source": [
    "\n",
    "# Training a Classifier\n",
    "\n",
    "This is it. You have seen how to define neural networks, compute loss and make\n",
    "updates to the weights of the network.\n",
    "\n",
    "Now you might be thinking,\n",
    "\n",
    "## What about data?\n",
    "\n",
    "Generally, when you have to deal with image, text, audio or video data,\n",
    "you can use standard python packages that load data into a numpy array.\n",
    "Then you can convert this array into a ``torch.*Tensor``.\n",
    "\n",
    "-  For images, packages such as Pillow, OpenCV are useful\n",
    "-  For audio, packages such as scipy and librosa\n",
    "-  For text, either raw Python or Cython based loading, or NLTK and\n",
    "   SpaCy are useful\n",
    "\n",
    "Specifically for vision, we have created a package called\n",
    "``torchvision``, that has data loaders for common datasets such as\n",
    "ImageNet, CIFAR10, MNIST, etc. and data transformers for images, viz.,\n",
    "``torchvision.datasets`` and ``torch.utils.data.DataLoader``.\n",
    "\n",
    "This provides a huge convenience and avoids writing boilerplate code.\n",
    "\n",
    "For this tutorial, we will use the CIFAR10 dataset.\n",
    "It has the classes: ‘airplane’, ‘automobile’, ‘bird’, ‘cat’, ‘deer’,\n",
    "‘dog’, ‘frog’, ‘horse’, ‘ship’, ‘truck’. The images in CIFAR-10 are of\n",
    "size 3x32x32, i.e. 3-channel color images of 32x32 pixels in size.\n",
    "\n",
    ".. figure:: /_static/img/cifar10.png\n",
    "   :alt: cifar10\n",
    "\n",
    "   cifar10\n",
    "\n",
    "\n",
    "## Training an image classifier\n",
    "\n",
    "We will do the following steps in order:\n",
    "\n",
    "1. Load and normalize the CIFAR10 training and test datasets using\n",
    "   ``torchvision``\n",
    "2. Define a Convolutional Neural Network\n",
    "3. Define a loss function\n",
    "4. Train the network on the training data\n",
    "5. Test the network on the test data\n",
    "\n",
    "### 1. Load and normalize CIFAR10\n",
    "\n",
    "Using ``torchvision``, it’s extremely easy to load CIFAR10.\n"
   ]
  },
  {
   "cell_type": "code",
   "execution_count": 1,
   "metadata": {},
   "outputs": [],
   "source": []
  },
  {
   "cell_type": "markdown",
   "metadata": {},
   "source": [
    "The output of torchvision datasets are PILImage images of range [0, 1].\n",
    "We transform them to Tensors of normalized range [-1, 1].\n",
    "\n"
   ]
  },
  {
   "cell_type": "markdown",
   "metadata": {},
   "source": [
    "<div class=\"alert alert-info\"><h4>Note</h4><p>If running on Windows and you get a BrokenPipeError, try setting\n",
    "    the num_worker of torch.utils.data.DataLoader() to 0.</p></div>\n",
    "\n"
   ]
  },
  {
   "cell_type": "code",
   "execution_count": 261,
   "metadata": {
    "scrolled": true
   },
   "outputs": [
    {
     "name": "stdout",
     "output_type": "stream",
     "text": [
      "Files already downloaded and verified\n",
      "Files already downloaded and verified\n"
     ]
    }
   ],
   "source": [
    "transform = transforms.Compose(\n",
    "    [transforms.ToTensor(),\n",
    "     transforms.Normalize((0.5, 0.5, 0.5), (0.5, 0.5, 0.5))])\n",
    "\n",
    "batch_size = 4\n",
    "\n",
    "trainset = torchvision.datasets.CIFAR10(root='./data', train=True,\n",
    "                                        download=True, transform=transform)\n",
    "trainloader = torch.utils.data.DataLoader(trainset, batch_size=batch_size,\n",
    "                                          shuffle=True, num_workers=2)\n",
    "\n",
    "testset = torchvision.datasets.CIFAR10(root='./data', train=False,\n",
    "                                       download=True, transform=transform)\n",
    "testloader = torch.utils.data.DataLoader(testset, batch_size=batch_size,\n",
    "                                         shuffle=False, num_workers=2)\n",
    "\n",
    "classes = ('plane', 'car', 'bird', 'cat',\n",
    "           'deer', 'dog', 'frog', 'horse', 'ship', 'truck')"
   ]
  },
  {
   "cell_type": "markdown",
   "metadata": {},
   "source": [
    "Let us show some of the training images, for fun.\n",
    "\n"
   ]
  },
  {
   "cell_type": "code",
   "execution_count": 262,
   "metadata": {
    "scrolled": false
   },
   "outputs": [
    {
     "data": {
      "image/png": "[encoded data removed]",
      "text/plain": [
       "<Figure size 640x480 with 1 Axes>"
      ]
     },
     "metadata": {},
     "output_type": "display_data"
    },
    {
     "name": "stdout",
     "output_type": "stream",
     "text": [
      "frog  cat   car   ship \n"
     ]
    }
   ],
   "source": [
    "import matplotlib.pyplot as plt\n",
    "import numpy as np\n",
    "\n",
    "# functions to show an image\n",
    "\n",
    "\n",
    "def imshow(img):\n",
    "    img = img / 2 + 0.5     # unnormalize\n",
    "    npimg = img.numpy()\n",
    "    plt.imshow(np.transpose(npimg, (1, 2, 0)))\n",
    "    plt.show()\n",
    "\n",
    "\n",
    "# get some random training images\n",
    "dataiter = iter(trainloader)\n",
    "images, labels = next(dataiter)\n",
    "\n",
    "# show images\n",
    "imshow(torchvision.utils.make_grid(images))\n",
    "# print labels\n",
    "print(' '.join(f'{classes[labels[j]]:5s}' for j in range(batch_size)))"
   ]
  },
  {
   "cell_type": "code",
   "execution_count": 263,
   "metadata": {},
   "outputs": [
    {
     "data": {
      "text/plain": [
       "12500"
      ]
     },
     "execution_count": 263,
     "metadata": {},
     "output_type": "execute_result"
    }
   ],
   "source": [
    "# 总共的小批量个数，每个小批量包含四个样本\n",
    "len(dataiter)"
   ]
  },
  {
   "cell_type": "code",
   "execution_count": 110,
   "metadata": {
    "collapsed": true
   },
   "outputs": [
    {
     "name": "stdout",
     "output_type": "stream",
     "text": [
      "[tensor([[[[ 1.0000,  0.8039,  0.5294,  ...,  0.4196,  0.6314,  0.9686],\n",
      "          [ 0.7882,  0.5922,  0.2706,  ...,  0.0431,  0.4431,  0.7255],\n",
      "          [ 0.5529,  0.3490,  0.0745,  ..., -0.1216,  0.1529,  0.3804],\n",
      "          ...,\n",
      "          [ 0.7961,  0.5843,  0.4275,  ...,  0.2078,  0.3882,  0.6000],\n",
      "          [ 0.8667,  0.7255,  0.5686,  ...,  0.4353,  0.6235,  0.7804],\n",
      "          [ 0.9922,  0.8510,  0.6863,  ...,  0.6471,  0.7725,  0.9451]],\n",
      "\n",
      "         [[ 1.0000,  0.8431,  0.5922,  ...,  0.4902,  0.6784,  1.0000],\n",
      "          [ 0.8275,  0.6706,  0.3804,  ...,  0.1608,  0.5294,  0.7804],\n",
      "          [ 0.6157,  0.4588,  0.2392,  ...,  0.0588,  0.2863,  0.4588],\n",
      "          ...,\n",
      "          [ 0.8745,  0.7412,  0.6784,  ...,  0.5137,  0.6078,  0.7333],\n",
      "          [ 0.9216,  0.8431,  0.7490,  ...,  0.6549,  0.7882,  0.8745],\n",
      "          [ 1.0000,  0.9137,  0.7961,  ...,  0.7804,  0.8667,  0.9765]],\n",
      "\n",
      "         [[ 1.0000,  0.7961,  0.5137,  ...,  0.4275,  0.6392,  0.9765],\n",
      "          [ 0.7804,  0.5843,  0.2549,  ...,  0.0353,  0.4431,  0.7333],\n",
      "          [ 0.5451,  0.3333,  0.0431,  ..., -0.1373,  0.1529,  0.3882],\n",
      "          ...,\n",
      "          [ 0.6627,  0.3882,  0.1686,  ..., -0.0667,  0.1922,  0.4902],\n",
      "          [ 0.7804,  0.5922,  0.3804,  ...,  0.2471,  0.4824,  0.7020],\n",
      "          [ 0.9686,  0.7882,  0.5843,  ...,  0.5608,  0.7098,  0.8980]]],\n",
      "\n",
      "\n",
      "        [[[-0.7412, -0.5451, -0.2784,  ..., -0.6941, -0.8667, -0.9294],\n",
      "          [-0.8745, -0.7176, -0.5216,  ..., -0.9137, -0.9451, -0.9843],\n",
      "          [-0.8196, -0.8039, -0.6627,  ..., -0.8353, -0.9529, -1.0000],\n",
      "          ...,\n",
      "          [-0.3333, -0.3725, -0.3490,  ..., -0.3020, -0.3098, -0.3098],\n",
      "          [-0.4431, -0.4510, -0.3961,  ..., -0.2941, -0.3176, -0.3098],\n",
      "          [-0.5451, -0.5451, -0.4039,  ..., -0.0902, -0.1922, -0.2863]],\n",
      "\n",
      "         [[-0.7255, -0.5843, -0.3725,  ..., -0.7255, -0.8980, -0.9373],\n",
      "          [-0.8980, -0.7804, -0.6157,  ..., -0.9451, -0.9765, -0.9922],\n",
      "          [-0.8510, -0.8510, -0.7333,  ..., -0.8667, -0.9843, -1.0000],\n",
      "          ...,\n",
      "          [-0.2549, -0.2863, -0.2627,  ..., -0.2157, -0.2314, -0.2235],\n",
      "          [-0.4196, -0.4118, -0.3412,  ..., -0.2392, -0.2627, -0.2392],\n",
      "          [-0.5294, -0.5216, -0.3647,  ..., -0.1765, -0.2314, -0.2784]],\n",
      "\n",
      "         [[-0.7412, -0.6706, -0.5216,  ..., -0.7725, -0.9137, -0.9294],\n",
      "          [-0.9373, -0.9059, -0.8275,  ..., -0.9843, -0.9843, -0.9843],\n",
      "          [-0.9137, -0.9686, -0.9137,  ..., -0.9137, -0.9922, -1.0000],\n",
      "          ...,\n",
      "          [-0.6078, -0.6784, -0.6863,  ..., -0.7098, -0.7176, -0.7255],\n",
      "          [-0.6941, -0.7176, -0.7098,  ..., -0.7020, -0.7255, -0.7255],\n",
      "          [-0.7412, -0.7961, -0.6706,  ..., -0.5843, -0.6784, -0.6941]]],\n",
      "\n",
      "\n",
      "        [[[-0.8510, -0.8588, -0.9137,  ..., -0.6627, -0.6314, -0.6863],\n",
      "          [-0.9137, -0.8588, -0.8431,  ..., -0.5137, -0.6157, -0.5451],\n",
      "          [-0.9451, -0.7804, -0.7176,  ..., -0.3725, -0.5059, -0.4118],\n",
      "          ...,\n",
      "          [ 0.3882,  0.3882,  0.3882,  ...,  0.0824,  0.0667,  0.0431],\n",
      "          [ 0.3725,  0.3725,  0.3804,  ...,  0.3333,  0.3020,  0.2627],\n",
      "          [ 0.3490,  0.3490,  0.3412,  ...,  0.3569,  0.3412,  0.3412]],\n",
      "\n",
      "         [[-0.8510, -0.8588, -0.9059,  ..., -0.6784, -0.6235, -0.6784],\n",
      "          [-0.9216, -0.8745, -0.8588,  ..., -0.5843, -0.6627, -0.5843],\n",
      "          [-0.9686, -0.8196, -0.7725,  ..., -0.5059, -0.6078, -0.5059],\n",
      "          ...,\n",
      "          [ 0.3176,  0.3176,  0.3176,  ..., -0.4196, -0.4667, -0.4980],\n",
      "          [ 0.3098,  0.3098,  0.3176,  ...,  0.0510, -0.0039, -0.0510],\n",
      "          [ 0.2863,  0.2863,  0.2863,  ...,  0.2549,  0.2392,  0.2157]],\n",
      "\n",
      "         [[-0.8510, -0.8588, -0.9059,  ..., -0.7176, -0.6627, -0.7098],\n",
      "          [-0.9216, -0.8745, -0.8588,  ..., -0.6314, -0.7176, -0.6314],\n",
      "          [-0.9765, -0.8275, -0.7725,  ..., -0.5686, -0.6941, -0.5843],\n",
      "          ...,\n",
      "          [ 0.0353,  0.0353,  0.0431,  ..., -0.4824, -0.5059, -0.5294],\n",
      "          [ 0.0196,  0.0118,  0.0118,  ..., -0.1608, -0.1765, -0.2157],\n",
      "          [ 0.0039, -0.0118, -0.0353,  ..., -0.0667, -0.0431, -0.0353]]],\n",
      "\n",
      "\n",
      "        [[[-0.2078, -0.2627, -0.3255,  ..., -0.2549, -0.2706, -0.2157],\n",
      "          [-0.1608, -0.2000, -0.2941,  ..., -0.1608, -0.2235, -0.2314],\n",
      "          [-0.1843, -0.2157, -0.2314,  ...,  0.0039, -0.0353, -0.1922],\n",
      "          ...,\n",
      "          [-0.3490, -0.3333, -0.4667,  ..., -0.3804, -0.4196, -0.5137],\n",
      "          [-0.4275, -0.4588, -0.4902,  ..., -0.4353, -0.4431, -0.5059],\n",
      "          [-0.5059, -0.5216, -0.5686,  ..., -0.4510, -0.4039, -0.4588]],\n",
      "\n",
      "         [[-0.3961, -0.3882, -0.4039,  ..., -0.2863, -0.2863, -0.2392],\n",
      "          [-0.2784, -0.2784, -0.3412,  ..., -0.1451, -0.2078, -0.2157],\n",
      "          [-0.2549, -0.2627, -0.2706,  ..., -0.0431, -0.0902, -0.2549],\n",
      "          ...,\n",
      "          [-0.4275, -0.4275, -0.4510,  ..., -0.4353, -0.4902, -0.5843],\n",
      "          [-0.4980, -0.5294, -0.4588,  ..., -0.4902, -0.5059, -0.5529],\n",
      "          [-0.5451, -0.5216, -0.5137,  ..., -0.5059, -0.4510, -0.4745]],\n",
      "\n",
      "         [[-0.4196, -0.4588, -0.5137,  ..., -0.4118, -0.4275, -0.3882],\n",
      "          [-0.3804, -0.4039, -0.4824,  ..., -0.3490, -0.3882, -0.3725],\n",
      "          [-0.4118, -0.4196, -0.4275,  ..., -0.2235, -0.2392, -0.3569],\n",
      "          ...,\n",
      "          [-0.5059, -0.4980, -0.5608,  ..., -0.4588, -0.4824, -0.5451],\n",
      "          [-0.5765, -0.6078, -0.5765,  ..., -0.5294, -0.5294, -0.5686],\n",
      "          [-0.6157, -0.6235, -0.6471,  ..., -0.5608, -0.5137, -0.5608]]]]), tensor([7, 7, 7, 5])]\n"
     ]
    }
   ],
   "source": [
    "for i in dataiter:\n",
    "    x = i\n",
    "    print(x)\n",
    "    break\n",
    "    "
   ]
  },
  {
   "cell_type": "code",
   "execution_count": 264,
   "metadata": {
    "scrolled": true
   },
   "outputs": [
    {
     "data": {
      "text/plain": [
       "(torch.Size([4, 3, 32, 32]), torch.Size([4]))"
      ]
     },
     "execution_count": 264,
     "metadata": {},
     "output_type": "execute_result"
    }
   ],
   "source": [
    "x[0].shape, x[1].shape"
   ]
  },
  {
   "cell_type": "code",
   "execution_count": 265,
   "metadata": {
    "scrolled": false
   },
   "outputs": [
    {
     "data": {
      "text/plain": [
       "tensor([7, 7, 7, 5])"
      ]
     },
     "execution_count": 265,
     "metadata": {},
     "output_type": "execute_result"
    }
   ],
   "source": [
    "x[1]"
   ]
  },
  {
   "cell_type": "code",
   "execution_count": 266,
   "metadata": {
    "scrolled": true
   },
   "outputs": [
    {
     "data": {
      "text/plain": [
       "(torch.Size([4, 3, 32, 32]), torch.Size([4]))"
      ]
     },
     "execution_count": 266,
     "metadata": {},
     "output_type": "execute_result"
    }
   ],
   "source": [
    "# images是四维张量，这也是图像数据的一般形式，表示(批量大小，通道数，高度，宽度)。\n",
    "# 通道数为3代表了RGB三原色，高度宽度均为32代表了每个图像是由32*32个像素点构成的\n",
    "images.shape, labels.shape"
   ]
  },
  {
   "cell_type": "code",
   "execution_count": 267,
   "metadata": {
    "scrolled": false
   },
   "outputs": [
    {
     "data": {
      "text/plain": [
       "torch.Size([3, 32, 32])"
      ]
     },
     "execution_count": 267,
     "metadata": {},
     "output_type": "execute_result"
    }
   ],
   "source": [
    "images[0].shape"
   ]
  },
  {
   "cell_type": "code",
   "execution_count": 268,
   "metadata": {
    "scrolled": true
   },
   "outputs": [
    {
     "data": {
      "text/plain": [
       "tensor([6, 3, 1, 8])"
      ]
     },
     "execution_count": 268,
     "metadata": {},
     "output_type": "execute_result"
    }
   ],
   "source": [
    "# labels代表classes中对应索引的类别\n",
    "labels"
   ]
  },
  {
   "cell_type": "code",
   "execution_count": 269,
   "metadata": {},
   "outputs": [
    {
     "data": {
      "text/plain": [
       "('plane',\n",
       " 'car',\n",
       " 'bird',\n",
       " 'cat',\n",
       " 'deer',\n",
       " 'dog',\n",
       " 'frog',\n",
       " 'horse',\n",
       " 'ship',\n",
       " 'truck')"
      ]
     },
     "execution_count": 269,
     "metadata": {},
     "output_type": "execute_result"
    }
   ],
   "source": [
    "classes"
   ]
  },
  {
   "cell_type": "markdown",
   "metadata": {},
   "source": [
    "### 2. Define a Convolutional Neural Network\n",
    "Copy the neural network from the Neural Networks section before and modify it to\n",
    "take 3-channel images (instead of 1-channel images as it was defined).\n",
    "\n"
   ]
  },
  {
   "cell_type": "code",
   "execution_count": 184,
   "metadata": {},
   "outputs": [],
   "source": [
    "import torch.nn as nn\n",
    "import torch.nn.functional as F\n",
    "\n",
    "\n",
    "class Net(nn.Module):\n",
    "    def __init__(self):\n",
    "        super().__init__()\n",
    "        # 输入通道为3，输出通道为6，\n",
    "        self.conv1 = nn.Conv2d(3, 6, 5)\n",
    "        self.pool = nn.MaxPool2d(2, 2)\n",
    "        self.conv2 = nn.Conv2d(6, 16, 5)\n",
    "        self.fc1 = nn.Linear(16 * 5 * 5, 120)\n",
    "        self.fc2 = nn.Linear(120, 84)\n",
    "        self.fc3 = nn.Linear(84, 10)\n",
    "\n",
    "    def forward(self, x):\n",
    "        x = self.pool(F.relu(self.conv1(x)))\n",
    "        x = self.pool(F.relu(self.conv2(x)))\n",
    "        x = torch.flatten(x, 1) # flatten all dimensions except batch\n",
    "        x = F.relu(self.fc1(x))\n",
    "        x = F.relu(self.fc2(x))\n",
    "        x = self.fc3(x)  # 最终的输出的形状：(样本数, 10)\n",
    "        return x\n",
    "\n",
    "\n",
    "net = Net()"
   ]
  },
  {
   "cell_type": "markdown",
   "metadata": {},
   "source": [
    "#### 测试一下卷积核的形状"
   ]
  },
  {
   "cell_type": "code",
   "execution_count": 183,
   "metadata": {
    "scrolled": false
   },
   "outputs": [
    {
     "data": {
      "text/plain": [
       "tensor([[[[ 0.6225, -0.8113, -1.8838, -0.2240,  0.2866],\n",
       "          [-0.0669, -1.4303, -2.9979, -1.2393, -1.6159],\n",
       "          [-1.2844, -0.4319,  0.9939, -0.2550,  0.1937],\n",
       "          [-3.0341, -0.6222,  0.3282,  2.5938,  0.0217]],\n",
       "\n",
       "         [[-1.0176,  1.6110, -0.2397, -0.9023,  1.4768],\n",
       "          [-0.6748,  0.0756, -0.6852,  0.6152, -0.1683],\n",
       "          [-0.2232, -0.7124, -0.5200, -1.3011, -0.7381],\n",
       "          [ 0.6417, -0.2909, -0.4589, -0.6818, -1.8558]],\n",
       "\n",
       "         [[ 0.4817, -0.6089, -1.0552,  1.6166, -0.7537],\n",
       "          [-0.3851, -1.6183,  0.4431, -0.1010,  2.1800],\n",
       "          [-0.0835,  1.1149,  0.4344,  0.9962, -1.9566],\n",
       "          [ 1.6456,  0.0948,  0.0496, -0.6095, -0.6063]]],\n",
       "\n",
       "\n",
       "        [[[ 0.2601,  1.8444, -1.4860,  2.1580,  0.0430],\n",
       "          [ 0.5619, -0.7727,  1.4346,  0.5709,  1.8412],\n",
       "          [-0.4810, -2.0775, -1.0071,  0.9915,  0.2114],\n",
       "          [-0.7517, -1.1980, -2.1478, -0.0142,  0.1597]],\n",
       "\n",
       "         [[-0.2679,  0.1812,  0.6679, -1.1643, -0.1946],\n",
       "          [-0.2755,  0.3408, -0.9709,  0.0666,  0.7944],\n",
       "          [ 1.3179,  0.0302,  0.1058, -0.6762, -0.1141],\n",
       "          [ 0.3910,  0.2609,  0.6954, -0.6243, -1.0048]],\n",
       "\n",
       "         [[ 0.0591, -0.7116, -1.2806, -0.5320, -0.5194],\n",
       "          [-0.7971,  1.1928, -0.3057,  0.0704, -1.5506],\n",
       "          [ 0.0448, -1.1057, -1.1935,  1.4112, -0.7906],\n",
       "          [ 1.1410, -0.1199, -0.2434,  0.2573,  0.7855]]]])"
      ]
     },
     "execution_count": 183,
     "metadata": {},
     "output_type": "execute_result"
    }
   ],
   "source": [
    "input = torch.randn(2, 3, 4, 5)\n",
    "input"
   ]
  },
  {
   "cell_type": "code",
   "execution_count": 184,
   "metadata": {
    "scrolled": false
   },
   "outputs": [
    {
     "data": {
      "text/plain": [
       "torch.Size([2, 3, 4, 5])"
      ]
     },
     "execution_count": 184,
     "metadata": {},
     "output_type": "execute_result"
    }
   ],
   "source": [
    "input.shape"
   ]
  },
  {
   "cell_type": "markdown",
   "metadata": {},
   "source": [
    "[tutorial](https://pytorch.org/docs/stable/generated/torch.nn.Conv2d.html#torch.nn.Conv2d)"
   ]
  },
  {
   "cell_type": "markdown",
   "metadata": {},
   "source": [
    "1. 对于四维张量的输入，in_channels代表输入的通道数，在此例中输入的通道数为3，则in_channel参数必须由输入的形状确定，否则会报错。即：我们需要保证 in_channels = input.shape[1]"
   ]
  },
  {
   "cell_type": "markdown",
   "metadata": {},
   "source": [
    "2. out_channels代表输出的通道数，对于四维张量，核函数有几个矩阵组，就有几个输出通道，则输出通道数量可以指定"
   ]
  },
  {
   "cell_type": "markdown",
   "metadata": {},
   "source": [
    "3. 如果输入样本的批量大小大于1，则对于每一个输入的样本，都会进行一次卷积。即输出的批量数 = 输入的批量数\n",
    "output.shape[0] = input.shape[0]"
   ]
  },
  {
   "cell_type": "markdown",
   "metadata": {},
   "source": [
    "4. 可以看出，Conv2d定义的核函数最多就是一个四维张量，形状为(输出通道数, 输入通道数，卷积核高度，卷积核跨度)"
   ]
  },
  {
   "cell_type": "code",
   "execution_count": 185,
   "metadata": {
    "scrolled": false
   },
   "outputs": [
    {
     "data": {
      "text/plain": [
       "Conv2d(3, 4, kernel_size=(3, 5), stride=(1, 1))"
      ]
     },
     "execution_count": 185,
     "metadata": {},
     "output_type": "execute_result"
    }
   ],
   "source": [
    "m = nn.Conv2d(in_channels=3, out_channels=4, kernel_size=(3, 5), stride=1)\n",
    "m"
   ]
  },
  {
   "cell_type": "code",
   "execution_count": 186,
   "metadata": {},
   "outputs": [],
   "source": [
    "for name, param in m.named_parameters():\n",
    "    x = param.data\n",
    "    break\n",
    "    print(name, param.data)"
   ]
  },
  {
   "cell_type": "markdown",
   "metadata": {},
   "source": [
    "卷积层的形状:(out_channels, in_channels, kernel_size[0], kernel_size[1])"
   ]
  },
  {
   "cell_type": "code",
   "execution_count": 187,
   "metadata": {
    "scrolled": true
   },
   "outputs": [
    {
     "data": {
      "text/plain": [
       "torch.Size([4, 3, 3, 5])"
      ]
     },
     "execution_count": 187,
     "metadata": {},
     "output_type": "execute_result"
    }
   ],
   "source": [
    "x.shape"
   ]
  },
  {
   "cell_type": "code",
   "execution_count": 188,
   "metadata": {
    "scrolled": false
   },
   "outputs": [
    {
     "data": {
      "text/plain": [
       "torch.Size([2, 4, 2, 1])"
      ]
     },
     "execution_count": 188,
     "metadata": {},
     "output_type": "execute_result"
    }
   ],
   "source": [
    "# (batch_size, channel, height, width)\n",
    "output = m(input)\n",
    "output.shape"
   ]
  },
  {
   "cell_type": "code",
   "execution_count": 141,
   "metadata": {},
   "outputs": [
    {
     "data": {
      "text/plain": [
       "tensor([[[[ 8.9423e-01,  1.5068e+00],\n",
       "          [ 2.5219e-01, -1.1022e+00]],\n",
       "\n",
       "         [[ 7.8779e-01, -9.8146e-01],\n",
       "          [-1.8985e-01, -6.0783e-01]],\n",
       "\n",
       "         [[ 6.5202e-02, -3.3441e-01],\n",
       "          [-7.2188e-01,  1.1952e-02]],\n",
       "\n",
       "         [[ 2.9757e-01, -1.4567e+00],\n",
       "          [-4.0437e-01,  1.5513e-01]]],\n",
       "\n",
       "\n",
       "        [[[-6.5894e-01,  6.8088e-01],\n",
       "          [ 3.3791e-01, -4.1992e-01]],\n",
       "\n",
       "         [[ 2.3165e-04,  3.3204e-02],\n",
       "          [ 4.3622e-01, -9.0894e-01]],\n",
       "\n",
       "         [[ 6.0523e-01, -9.0314e-01],\n",
       "          [-1.1732e+00,  3.2243e-01]],\n",
       "\n",
       "         [[ 7.8821e-01, -1.0278e-01],\n",
       "          [ 6.2431e-01, -2.5323e-01]]]], grad_fn=<ConvolutionBackward0>)"
      ]
     },
     "execution_count": 141,
     "metadata": {},
     "output_type": "execute_result"
    }
   ],
   "source": [
    "output"
   ]
  },
  {
   "cell_type": "code",
   "execution_count": 142,
   "metadata": {
    "scrolled": true
   },
   "outputs": [
    {
     "data": {
      "text/plain": [
       "torch.Size([4, 3, 3, 3])"
      ]
     },
     "execution_count": 142,
     "metadata": {},
     "output_type": "execute_result"
    }
   ],
   "source": [
    "x.shape"
   ]
  },
  {
   "cell_type": "markdown",
   "metadata": {},
   "source": [
    "#### 看一看3D卷积核"
   ]
  },
  {
   "cell_type": "markdown",
   "metadata": {},
   "source": [
    "input：<br>\n",
    "batch_size = 2<br>\n",
    "channel = 3<br>\n",
    "length = 4<br>\n",
    "width = 4<br>\n",
    "height = 6"
   ]
  },
  {
   "cell_type": "code",
   "execution_count": 143,
   "metadata": {},
   "outputs": [],
   "source": [
    "input = torch.randn(2, 3, 4, 4, 6)"
   ]
  },
  {
   "cell_type": "code",
   "execution_count": 144,
   "metadata": {
    "scrolled": false
   },
   "outputs": [
    {
     "data": {
      "text/plain": [
       "Conv3d(3, 4, kernel_size=(3, 3, 2), stride=(1, 1, 1))"
      ]
     },
     "execution_count": 144,
     "metadata": {},
     "output_type": "execute_result"
    }
   ],
   "source": [
    "m = nn.Conv3d(in_channels=3, out_channels=4, kernel_size=(3, 3, 2), stride=1)\n",
    "m"
   ]
  },
  {
   "cell_type": "code",
   "execution_count": 145,
   "metadata": {
    "scrolled": false
   },
   "outputs": [
    {
     "data": {
      "text/plain": [
       "torch.Size([2, 4, 2, 2, 5])"
      ]
     },
     "execution_count": 145,
     "metadata": {},
     "output_type": "execute_result"
    }
   ],
   "source": [
    "output = m(input)\n",
    "output.shape"
   ]
  },
  {
   "cell_type": "markdown",
   "metadata": {},
   "source": [
    "思考一下为什么output的最后一个阶的维度是5：因为input最后一个阶是6，卷积核kernel的最后一个阶是2，将2在6长度上卷积，则结果是5维"
   ]
  },
  {
   "cell_type": "code",
   "execution_count": 146,
   "metadata": {
    "scrolled": true
   },
   "outputs": [
    {
     "data": {
      "text/plain": [
       "tensor([[[[[ 0.2995, -0.2516,  0.0781, -0.5229, -0.6305],\n",
       "           [ 0.5272,  1.0944,  0.6250, -0.3257,  0.5574]],\n",
       "\n",
       "          [[-0.0381,  0.0107, -0.3247, -0.3197, -0.2873],\n",
       "           [ 1.1302,  1.1678, -0.4066,  0.9155,  1.3612]]],\n",
       "\n",
       "\n",
       "         [[[-0.6991, -0.3981, -0.8287,  0.3560, -0.7797],\n",
       "           [ 1.0538,  1.2710,  1.0157, -0.4563, -1.0284]],\n",
       "\n",
       "          [[-1.2038,  0.4122, -0.4734,  0.2056, -0.3488],\n",
       "           [ 0.1822, -0.2392,  0.6679, -0.0028, -0.2663]]],\n",
       "\n",
       "\n",
       "         [[[-0.3069, -0.2013,  0.6086, -0.8995, -0.4334],\n",
       "           [-1.0282,  0.3515,  0.1661, -0.5898, -0.0159]],\n",
       "\n",
       "          [[-0.0258, -0.8679,  0.3484, -1.2534,  0.3699],\n",
       "           [ 0.9861, -1.8515,  0.9079, -0.5061,  0.0106]]],\n",
       "\n",
       "\n",
       "         [[[-0.3252, -0.6444, -0.1278, -0.0578, -1.1351],\n",
       "           [-0.1810,  0.5004, -0.5404,  1.1136, -0.0860]],\n",
       "\n",
       "          [[ 0.0237,  0.0198, -0.7980, -0.8286,  0.1473],\n",
       "           [ 0.1368, -0.8457, -0.4680, -0.1043, -0.4395]]]],\n",
       "\n",
       "\n",
       "\n",
       "        [[[[ 1.4744, -0.5146,  0.6787,  0.6548, -0.1079],\n",
       "           [-0.3460, -0.3200, -0.2586, -0.7955, -0.6110]],\n",
       "\n",
       "          [[ 0.6880, -0.6771, -0.1918, -0.3200,  0.0926],\n",
       "           [ 0.3409, -1.3889, -0.3480,  0.6266, -0.4243]]],\n",
       "\n",
       "\n",
       "         [[[ 0.0470, -0.3401, -0.2308,  0.0931, -0.0423],\n",
       "           [-0.1369, -1.3137,  0.6834, -0.7008, -0.3649]],\n",
       "\n",
       "          [[ 0.9235,  0.9452,  0.7471, -0.5918, -0.2309],\n",
       "           [ 0.5110, -0.7049,  1.2927, -0.1430, -0.4591]]],\n",
       "\n",
       "\n",
       "         [[[ 0.0571,  0.4529,  0.0979, -1.0744, -0.1449],\n",
       "           [ 0.6290,  0.2879,  0.2546, -0.5385, -0.7998]],\n",
       "\n",
       "          [[-0.6644,  0.0671, -1.2095,  0.2371,  0.0020],\n",
       "           [ 0.1292, -0.3297, -0.1390, -0.5129,  0.0350]]],\n",
       "\n",
       "\n",
       "         [[[-0.8882,  0.6642,  0.0890, -0.2276, -1.0358],\n",
       "           [-0.1055,  1.0595,  0.5567,  0.0592,  0.0972]],\n",
       "\n",
       "          [[-0.8411, -0.0732, -0.5441,  0.6652, -1.1740],\n",
       "           [-0.1027,  0.3413, -0.6674,  0.3260, -0.7745]]]]],\n",
       "       grad_fn=<ConvolutionBackward0>)"
      ]
     },
     "execution_count": 146,
     "metadata": {},
     "output_type": "execute_result"
    }
   ],
   "source": [
    "output"
   ]
  },
  {
   "cell_type": "markdown",
   "metadata": {},
   "source": [
    "关于pytorch的默认填补"
   ]
  },
  {
   "cell_type": "markdown",
   "metadata": {},
   "source": [
    "对于3D卷积核，如果输入是四阶（unbatched），则pytorch会在第一个维度填补batch_size = 1。此时输入中，input的第一个维度代表channel，则这里的cahnnel同理需要等于Conv3D的参数in_channels"
   ]
  },
  {
   "cell_type": "markdown",
   "metadata": {},
   "source": [
    "对于3D卷积核，输入一定要大于等于4阶，否则会报错：RuntimeError: Expected 4D (unbatched) or 5D (batched) input to conv3d, but got input of size: [4, 4, 6]"
   ]
  },
  {
   "cell_type": "code",
   "execution_count": 147,
   "metadata": {},
   "outputs": [],
   "source": [
    "input = torch.randn(3, 4, 4, 6)"
   ]
  },
  {
   "cell_type": "code",
   "execution_count": 148,
   "metadata": {
    "scrolled": true
   },
   "outputs": [
    {
     "data": {
      "text/plain": [
       "Conv3d(3, 4, kernel_size=(3, 3, 2), stride=(1, 1, 1))"
      ]
     },
     "execution_count": 148,
     "metadata": {},
     "output_type": "execute_result"
    }
   ],
   "source": [
    "m = nn.Conv3d(in_channels=3, out_channels=4, kernel_size=(3, 3, 2), stride=1)\n",
    "m"
   ]
  },
  {
   "cell_type": "code",
   "execution_count": 149,
   "metadata": {},
   "outputs": [
    {
     "data": {
      "text/plain": [
       "torch.Size([4, 2, 2, 5])"
      ]
     },
     "execution_count": 149,
     "metadata": {},
     "output_type": "execute_result"
    }
   ],
   "source": [
    "# 此时我们可以理解为我们只输入了一个样本进行，则输入和输出中batch所在的那个维度就没有必要存在了。\n",
    "# 此时output.shape: (channel, length, width, height)\n",
    "output = m(input)\n",
    "output.shape"
   ]
  },
  {
   "cell_type": "markdown",
   "metadata": {},
   "source": [
    "结论\n",
    "1. 用3D卷积核，理论上应该输入五阶\n",
    " - 如果输入是四阶，那么默认输入数据是unbatched, 会自动填充batch_size 这个阶为1\n",
    " - 如果输入小于四阶，那么会报错\n",
    "2. 用2D卷积核，同理理论上应该输入四阶\n",
    " - 如果输入是三阶，那么自动填充batch_size\n",
    " - 如果输入小于三阶，报错。"
   ]
  },
  {
   "cell_type": "markdown",
   "metadata": {},
   "source": [
    "### 3. Define a Loss function and optimizer\n",
    "Let's use a Classification Cross-Entropy loss and SGD with momentum.\n",
    "\n"
   ]
  },
  {
   "cell_type": "code",
   "execution_count": 158,
   "metadata": {},
   "outputs": [],
   "source": [
    "import torch.optim as optim\n",
    "\n",
    "criterion = nn.CrossEntropyLoss()\n",
    "optimizer = optim.SGD(net.parameters(), lr=0.001, momentum=0.9)"
   ]
  },
  {
   "cell_type": "markdown",
   "metadata": {},
   "source": [
    "### 4. Train the network\n",
    "\n",
    "This is when things start to get interesting.\n",
    "We simply have to loop over our data iterator, and feed the inputs to the\n",
    "network and optimize.\n",
    "\n"
   ]
  },
  {
   "cell_type": "code",
   "execution_count": 170,
   "metadata": {
    "scrolled": true
   },
   "outputs": [
    {
     "name": "stdout",
     "output_type": "stream",
     "text": [
      "3 0\n",
      "2 1\n",
      "7 2\n"
     ]
    }
   ],
   "source": [
    "for iter_times, iter_element in enumerate([3, 2, 7], 0):\n",
    "    print(iter_element, iter_times)"
   ]
  },
  {
   "cell_type": "code",
   "execution_count": 171,
   "metadata": {
    "scrolled": true
   },
   "outputs": [
    {
     "name": "stdout",
     "output_type": "stream",
     "text": [
      "[1,  2000] loss: 2.235\n",
      "[1,  4000] loss: 1.917\n",
      "[1,  6000] loss: 1.718\n",
      "[1,  8000] loss: 1.615\n",
      "[1, 10000] loss: 1.539\n",
      "[1, 12000] loss: 1.471\n",
      "[2,  2000] loss: 1.419\n",
      "[2,  4000] loss: 1.387\n",
      "[2,  6000] loss: 1.372\n",
      "[2,  8000] loss: 1.328\n",
      "[2, 10000] loss: 1.303\n",
      "[2, 12000] loss: 1.312\n",
      "Finished Training\n"
     ]
    }
   ],
   "source": [
    "for epoch in range(2):  # loop over the dataset multiple times\n",
    "\n",
    "    running_loss = 0.0\n",
    "    for i, data in enumerate(trainloader, 0):\n",
    "        # get the inputs; data is a list of [inputs, labels]\n",
    "        inputs, labels = data\n",
    "\n",
    "        # zero the parameter gradients\n",
    "        optimizer.zero_grad()\n",
    "\n",
    "        # forward + backward + optimize\n",
    "        outputs = net(inputs)\n",
    "        loss = criterion(outputs, labels)\n",
    "        loss.backward()\n",
    "        optimizer.step()\n",
    "\n",
    "        # print statistics\n",
    "        # 2000次的损失函数的累加，注意每次的损失都会减少，相当于对一个递减数列每隔2000项输出一个数列和\n",
    "        running_loss += loss.item()\n",
    "        if i % 2000 == 1999:    # print every 2000 mini-batches\n",
    "            print(f'[{epoch + 1}, {i + 1:5d}] loss: {running_loss / 2000:.3f}')\n",
    "            running_loss = 0.0\n",
    "\n",
    "print('Finished Training')"
   ]
  },
  {
   "cell_type": "markdown",
   "metadata": {},
   "source": [
    "#### 看一看细节"
   ]
  },
  {
   "cell_type": "code",
   "execution_count": 270,
   "metadata": {
    "scrolled": true
   },
   "outputs": [
    {
     "data": {
      "text/plain": [
       "(torch.Size([4, 3, 32, 32]), tensor([6, 3, 1, 8]))"
      ]
     },
     "execution_count": 270,
     "metadata": {},
     "output_type": "execute_result"
    }
   ],
   "source": [
    "inputs.shape, labels"
   ]
  },
  {
   "cell_type": "code",
   "execution_count": 271,
   "metadata": {},
   "outputs": [
    {
     "data": {
      "text/plain": [
       "(tensor([[-2.1512,  0.1529,  1.6479,  1.5444,  1.5035,  0.9052,  6.7240, -2.6738,\n",
       "          -4.6282, -1.3235],\n",
       "         [-1.7226, -3.4159,  1.3129,  2.7902,  1.6486,  2.6387,  1.1697,  0.7477,\n",
       "          -2.6952, -3.3751],\n",
       "         [ 2.3464,  0.8334, -0.8974, -0.6976, -0.9966, -1.8850, -1.0086, -2.1002,\n",
       "           2.9898,  2.0452],\n",
       "         [ 0.0157,  1.2160,  0.1687, -0.1456, -0.2955, -0.8466, -0.7482, -0.7036,\n",
       "          -0.0135,  0.4391]], grad_fn=<AddmmBackward0>),\n",
       " torch.Size([4, 10]))"
      ]
     },
     "execution_count": 271,
     "metadata": {},
     "output_type": "execute_result"
    }
   ],
   "source": [
    "outputs = net(inputs)\n",
    "outputs, outputs.shape"
   ]
  },
  {
   "cell_type": "code",
   "execution_count": 272,
   "metadata": {},
   "outputs": [
    {
     "data": {
      "text/plain": [
       "tensor([ 1.7013, -0.9010,  0.6294, -0.9134], grad_fn=<SumBackward1>)"
      ]
     },
     "execution_count": 272,
     "metadata": {},
     "output_type": "execute_result"
    }
   ],
   "source": [
    "outputs.sum(axis=1)"
   ]
  },
  {
   "cell_type": "markdown",
   "metadata": {},
   "source": [
    "Let's quickly save our trained model:\n",
    "\n"
   ]
  },
  {
   "cell_type": "code",
   "execution_count": 172,
   "metadata": {},
   "outputs": [],
   "source": [
    "PATH = './cifar_net.pth'\n",
    "torch.save(net.state_dict(), PATH)"
   ]
  },
  {
   "cell_type": "markdown",
   "metadata": {},
   "source": [
    "See [here](https://pytorch.org/docs/stable/notes/serialization.html)\n",
    "for more details on saving PyTorch models.\n",
    "\n",
    "### 5. Test the network on the test data\n",
    "\n",
    "We have trained the network for 2 passes over the training dataset.\n",
    "But we need to check if the network has learnt anything at all.\n",
    "\n",
    "We will check this by predicting the class label that the neural network\n",
    "outputs, and checking it against the ground-truth. If the prediction is\n",
    "correct, we add the sample to the list of correct predictions.\n",
    "\n",
    "Okay, first step. Let us display an image from the test set to get familiar.\n",
    "\n"
   ]
  },
  {
   "cell_type": "code",
   "execution_count": 204,
   "metadata": {},
   "outputs": [
    {
     "data": {
      "image/png": "[encoded data removed]",
      "text/plain": [
       "<Figure size 640x480 with 1 Axes>"
      ]
     },
     "metadata": {},
     "output_type": "display_data"
    },
    {
     "name": "stdout",
     "output_type": "stream",
     "text": [
      "GroundTruth:  cat   ship  ship  plane\n"
     ]
    }
   ],
   "source": [
    "dataiter = iter(testloader)\n",
    "images, labels = next(dataiter)\n",
    "\n",
    "# print images\n",
    "imshow(torchvision.utils.make_grid(images))\n",
    "print('GroundTruth: ', ' '.join(f'{classes[labels[j]]:5s}' for j in range(4)))"
   ]
  },
  {
   "cell_type": "markdown",
   "metadata": {},
   "source": [
    "Next, let's load back in our saved model (note: saving and re-loading the model\n",
    "wasn't necessary here, we only did it to illustrate how to do so):\n",
    "\n"
   ]
  },
  {
   "cell_type": "markdown",
   "metadata": {},
   "source": [
    "#### 这步将之前训练好的参数导入模型"
   ]
  },
  {
   "cell_type": "code",
   "execution_count": 205,
   "metadata": {
    "scrolled": false
   },
   "outputs": [
    {
     "data": {
      "text/plain": [
       "<All keys matched successfully>"
      ]
     },
     "execution_count": 205,
     "metadata": {},
     "output_type": "execute_result"
    }
   ],
   "source": [
    "net = Net()\n",
    "net.load_state_dict(torch.load(PATH))"
   ]
  },
  {
   "cell_type": "markdown",
   "metadata": {},
   "source": [
    "Okay, now let us see what the neural network thinks these examples above are:\n",
    "\n"
   ]
  },
  {
   "cell_type": "code",
   "execution_count": 206,
   "metadata": {
    "scrolled": true
   },
   "outputs": [
    {
     "data": {
      "text/plain": [
       "tensor([[-0.8840, -1.9322,  0.7545,  2.3560, -0.2670,  0.7243,  1.7412, -1.6958,\n",
       "          0.4516, -2.0219],\n",
       "        [ 4.3044,  5.7241, -2.2412, -2.3598, -3.0835, -4.0123, -4.4979, -3.6283,\n",
       "          7.0589,  3.9774],\n",
       "        [ 1.8818,  2.6752, -0.7233, -0.9703, -1.5518, -2.3249, -3.1088, -1.6351,\n",
       "          3.2967,  2.4530],\n",
       "        [ 4.4465, -0.6558,  0.4437, -0.9582,  0.0508, -2.8245, -2.4236, -1.9248,\n",
       "          3.2848, -0.1935]], grad_fn=<AddmmBackward0>)"
      ]
     },
     "execution_count": 206,
     "metadata": {},
     "output_type": "execute_result"
    }
   ],
   "source": [
    "outputs = net(images)\n",
    "outputs"
   ]
  },
  {
   "cell_type": "markdown",
   "metadata": {},
   "source": [
    "The outputs are energies for the 10 classes.\n",
    "The higher the energy for a class, the more the network\n",
    "thinks that the image is of the particular class.\n",
    "So, let's get the index of the highest energy:\n",
    "\n"
   ]
  },
  {
   "cell_type": "markdown",
   "metadata": {},
   "source": [
    "[torch.max](https://pytorch.org/docs/stable/generated/torch.max.html#torch-max)"
   ]
  },
  {
   "cell_type": "code",
   "execution_count": 230,
   "metadata": {
    "scrolled": true
   },
   "outputs": [
    {
     "name": "stdout",
     "output_type": "stream",
     "text": [
      "Predicted:  cat   ship  ship  plane\n"
     ]
    }
   ],
   "source": [
    "_, predicted = torch.max(outputs, 1)\n",
    "\n",
    "print('Predicted: ', ' '.join(f'{classes[predicted[j]]:5s}'\n",
    "                              for j in range(4)))"
   ]
  },
  {
   "cell_type": "code",
   "execution_count": 231,
   "metadata": {
    "scrolled": false
   },
   "outputs": [
    {
     "data": {
      "text/plain": [
       "tensor([3, 8, 8, 0])"
      ]
     },
     "execution_count": 231,
     "metadata": {},
     "output_type": "execute_result"
    }
   ],
   "source": [
    "predicted"
   ]
  },
  {
   "cell_type": "code",
   "execution_count": 232,
   "metadata": {},
   "outputs": [
    {
     "data": {
      "text/plain": [
       "tensor([2.3560, 7.0589, 3.2967, 4.4465], grad_fn=<MaxBackward0>)"
      ]
     },
     "execution_count": 232,
     "metadata": {},
     "output_type": "execute_result"
    }
   ],
   "source": [
    "_"
   ]
  },
  {
   "cell_type": "code",
   "execution_count": 235,
   "metadata": {
    "scrolled": false
   },
   "outputs": [
    {
     "data": {
      "text/plain": [
       "(tensor([2.3560, 7.0589, 3.2967, 4.4465], grad_fn=<MaxBackward0>),\n",
       " tensor([3, 8, 8, 0]))"
      ]
     },
     "execution_count": 235,
     "metadata": {},
     "output_type": "execute_result"
    }
   ],
   "source": [
    "torch.max(outputs, 1)[0], torch.max(outputs, 1)[1]"
   ]
  },
  {
   "cell_type": "markdown",
   "metadata": {},
   "source": [
    "The results seem pretty good.\n",
    "\n",
    "Let us look at how the network performs on the whole dataset.\n",
    "\n"
   ]
  },
  {
   "cell_type": "code",
   "execution_count": 195,
   "metadata": {},
   "outputs": [
    {
     "name": "stdout",
     "output_type": "stream",
     "text": [
      "Accuracy of the network on the 10000 test images: 55 %\n"
     ]
    }
   ],
   "source": [
    "correct = 0\n",
    "total = 0\n",
    "# since we're not training, we don't need to calculate the gradients for our outputs\n",
    "with torch.no_grad():\n",
    "    for data in testloader:\n",
    "        images, labels = data\n",
    "        # calculate outputs by running images through the network\n",
    "        outputs = net(images)\n",
    "        # the class with the highest energy is what we choose as prediction\n",
    "        _, predicted = torch.max(outputs.data, 1)\n",
    "        total += labels.size(0)\n",
    "        correct += (predicted == labels).sum().item()\n",
    "\n",
    "print(f'Accuracy of the network on the 10000 test images: {100 * correct // total} %')"
   ]
  },
  {
   "cell_type": "code",
   "execution_count": 241,
   "metadata": {
    "scrolled": true
   },
   "outputs": [
    {
     "data": {
      "text/plain": [
       "4"
      ]
     },
     "execution_count": 241,
     "metadata": {},
     "output_type": "execute_result"
    }
   ],
   "source": [
    "(predicted == predicted).sum().item()"
   ]
  },
  {
   "cell_type": "markdown",
   "metadata": {},
   "source": [
    "#### 将只包含一个元素的tensor转换为标量，无论维数多少都可以转换"
   ]
  },
  {
   "cell_type": "code",
   "execution_count": 256,
   "metadata": {},
   "outputs": [
    {
     "data": {
      "text/plain": [
       "3"
      ]
     },
     "execution_count": 256,
     "metadata": {},
     "output_type": "execute_result"
    }
   ],
   "source": [
    "predicted[0].item()"
   ]
  },
  {
   "cell_type": "code",
   "execution_count": 257,
   "metadata": {},
   "outputs": [
    {
     "data": {
      "text/plain": [
       "1"
      ]
     },
     "execution_count": 257,
     "metadata": {},
     "output_type": "execute_result"
    }
   ],
   "source": [
    "torch.tensor([[1]]).item()"
   ]
  },
  {
   "cell_type": "markdown",
   "metadata": {},
   "source": [
    "That looks way better than chance, which is 10% accuracy (randomly picking\n",
    "a class out of 10 classes).\n",
    "Seems like the network learnt something.\n",
    "\n",
    "Hmmm, what are the classes that performed well, and the classes that did\n",
    "not perform well:\n",
    "\n"
   ]
  },
  {
   "cell_type": "code",
   "execution_count": null,
   "metadata": {},
   "outputs": [],
   "source": [
    "# prepare to count predictions for each class\n",
    "correct_pred = {classname: 0 for classname in classes}\n",
    "total_pred = {classname: 0 for classname in classes}\n",
    "\n",
    "# again no gradients needed\n",
    "with torch.no_grad():\n",
    "    for data in testloader:\n",
    "        images, labels = data\n",
    "        outputs = net(images)\n",
    "        _, predictions = torch.max(outputs, 1)\n",
    "        # collect the correct predictions for each class\n",
    "        for label, prediction in zip(labels, predictions):\n",
    "            if label == prediction:\n",
    "                correct_pred[classes[label]] += 1\n",
    "            total_pred[classes[label]] += 1\n",
    "\n",
    "\n",
    "# print accuracy for each class\n",
    "for classname, correct_count in correct_pred.items():\n",
    "    accuracy = 100 * float(correct_count) / total_pred[classname]\n",
    "    print(f'Accuracy for class: {classname:5s} is {accuracy:.1f} %')"
   ]
  },
  {
   "cell_type": "markdown",
   "metadata": {},
   "source": [
    "Okay, so what next?\n",
    "\n",
    "How do we run these neural networks on the GPU?\n",
    "\n",
    "## Training on GPU\n",
    "Just like how you transfer a Tensor onto the GPU, you transfer the neural\n",
    "net onto the GPU.\n",
    "\n",
    "Let's first define our device as the first visible cuda device if we have\n",
    "CUDA available:\n",
    "\n"
   ]
  },
  {
   "cell_type": "code",
   "execution_count": null,
   "metadata": {},
   "outputs": [],
   "source": [
    "device = torch.device('cuda:0' if torch.cuda.is_available() else 'cpu')\n",
    "\n",
    "# Assuming that we are on a CUDA machine, this should print a CUDA device:\n",
    "\n",
    "print(device)"
   ]
  },
  {
   "cell_type": "markdown",
   "metadata": {},
   "source": [
    "The rest of this section assumes that ``device`` is a CUDA device.\n",
    "\n",
    "Then these methods will recursively go over all modules and convert their\n",
    "parameters and buffers to CUDA tensors:\n",
    "\n",
    ".. code:: python\n",
    "\n",
    "    net.to(device)\n",
    "\n",
    "\n",
    "Remember that you will have to send the inputs and targets at every step\n",
    "to the GPU too:\n",
    "\n",
    ".. code:: python\n",
    "\n",
    "        inputs, labels = data[0].to(device), data[1].to(device)\n",
    "\n",
    "Why don't I notice MASSIVE speedup compared to CPU? Because your network\n",
    "is really small.\n",
    "\n",
    "**Exercise:** Try increasing the width of your network (argument 2 of\n",
    "the first ``nn.Conv2d``, and argument 1 of the second ``nn.Conv2d`` –\n",
    "they need to be the same number), see what kind of speedup you get.\n",
    "\n",
    "**Goals achieved**:\n",
    "\n",
    "- Understanding PyTorch's Tensor library and neural networks at a high level.\n",
    "- Train a small neural network to classify images\n",
    "\n",
    "## Training on multiple GPUs\n",
    "If you want to see even more MASSIVE speedup using all of your GPUs,\n",
    "please check out :doc:`data_parallel_tutorial`.\n",
    "\n",
    "## Where do I go next?\n",
    "\n",
    "-  :doc:`Train neural nets to play video games </intermediate/reinforcement_q_learning>`\n",
    "-  `Train a state-of-the-art ResNet network on imagenet`_\n",
    "-  `Train a face generator using Generative Adversarial Networks`_\n",
    "-  `Train a word-level language model using Recurrent LSTM networks`_\n",
    "-  `More examples`_\n",
    "-  `More tutorials`_\n",
    "-  `Discuss PyTorch on the Forums`_\n",
    "-  `Chat with other users on Slack`_\n",
    "\n",
    "\n"
   ]
  },
  {
   "cell_type": "code",
   "execution_count": null,
   "metadata": {},
   "outputs": [],
   "source": [
    "del dataiter"
   ]
  }
 ],
 "metadata": {
  "kernelspec": {
   "display_name": "leoweng4.0",
   "language": "python",
   "name": "python3"
  },
  "language_info": {
   "codemirror_mode": {
    "name": "ipython",
    "version": 3
   },
   "file_extension": ".py",
   "mimetype": "text/x-python",
   "name": "python",
   "nbconvert_exporter": "python",
   "pygments_lexer": "ipython3",
   "version": "3.9.0"
  }
 },
 "nbformat": 4,
 "nbformat_minor": 1
}

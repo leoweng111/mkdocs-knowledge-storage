{
 "cells": [
  {
   "cell_type": "markdown",
   "id": "eb7f108a",
   "metadata": {},
   "source": [
    "# 堆"
   ]
  },
  {
   "cell_type": "markdown",
   "id": "3b459998",
   "metadata": {},
   "source": [
    "### 堆是一种完全二叉树。\n",
    "### python中可以用heapify实现小顶堆和大顶堆，参考[heapq介绍](https://cloud.tencent.com/developer/article/1794191)。"
   ]
  },
  {
   "cell_type": "markdown",
   "id": "97cd3a5d",
   "metadata": {},
   "source": [
    "### 堆排序的复杂度为O(nlogn)，解释如下：<br>\n",
    "### 1. 排序需要遍历n次，每次取出堆顶元素后将堆尾元素放到之前堆顶的位置，然后对剩下的元素进行重排。\n",
    "### 2. 对每一次重排，除了第一次以外复杂度为O(logn)，因为只需要将堆顶元素向下遍历二叉树的深度即可。第一次重排因为要遍历所有的元素，所以复杂度为O(n)\n",
    "### 因此，总体复杂度为n * logn"
   ]
  },
  {
   "cell_type": "code",
   "execution_count": 1,
   "id": "f0e16fc3",
   "metadata": {},
   "outputs": [],
   "source": [
    "import heapq"
   ]
  },
  {
   "cell_type": "code",
   "execution_count": 3,
   "id": "29c3c155",
   "metadata": {},
   "outputs": [
    {
     "data": {
      "text/plain": [
       "[5, 7, 21, 15, 10, 24, 27, 45, 17, 30, 36, 50]"
      ]
     },
     "execution_count": 3,
     "metadata": {},
     "output_type": "execute_result"
    }
   ],
   "source": [
    "heap"
   ]
  },
  {
   "cell_type": "code",
   "execution_count": 4,
   "id": "cd7ffb95",
   "metadata": {},
   "outputs": [
    {
     "data": {
      "text/plain": [
       "[5, 7, 21, 10, 17, 24, 27, 45, 15, 30, 36, 50]"
      ]
     },
     "execution_count": 4,
     "metadata": {},
     "output_type": "execute_result"
    }
   ],
   "source": [
    "array"
   ]
  },
  {
   "cell_type": "code",
   "execution_count": 2,
   "id": "036018b6",
   "metadata": {
    "scrolled": false
   },
   "outputs": [
    {
     "name": "stdout",
     "output_type": "stream",
     "text": [
      "推入的元素是: 10\n",
      "推入元素后的列表是: [10]\n",
      "------------------------\n",
      "推入的元素是: 17\n",
      "推入元素后的列表是: [10, 17]\n",
      "------------------------\n",
      "推入的元素是: 50\n",
      "推入元素后的列表是: [10, 17, 50]\n",
      "------------------------\n",
      "推入的元素是: 7\n",
      "推入元素后的列表是: [7, 10, 50, 17]\n",
      "------------------------\n",
      "推入的元素是: 30\n",
      "推入元素后的列表是: [7, 10, 50, 17, 30]\n",
      "------------------------\n",
      "推入的元素是: 24\n",
      "推入元素后的列表是: [7, 10, 24, 17, 30, 50]\n",
      "------------------------\n",
      "推入的元素是: 27\n",
      "推入元素后的列表是: [7, 10, 24, 17, 30, 50, 27]\n",
      "------------------------\n",
      "推入的元素是: 45\n",
      "推入元素后的列表是: [7, 10, 24, 17, 30, 50, 27, 45]\n",
      "------------------------\n",
      "推入的元素是: 15\n",
      "推入元素后的列表是: [7, 10, 24, 15, 30, 50, 27, 45, 17]\n",
      "------------------------\n",
      "推入的元素是: 5\n",
      "推入元素后的列表是: [5, 7, 24, 15, 10, 50, 27, 45, 17, 30]\n",
      "------------------------\n",
      "推入的元素是: 36\n",
      "推入元素后的列表是: [5, 7, 24, 15, 10, 50, 27, 45, 17, 30, 36]\n",
      "------------------------\n",
      "推入的元素是: 21\n",
      "推入元素后的列表是: [5, 7, 21, 15, 10, 24, 27, 45, 17, 30, 36, 50]\n",
      "------------------------\n",
      "array: [10, 17, 50, 7, 30, 24, 27, 45, 15, 5, 36, 21]\n",
      "heap:  [5, 7, 21, 15, 10, 24, 27, 45, 17, 30, 36, 50]\n",
      "array: [5, 7, 21, 10, 17, 24, 27, 45, 15, 30, 36, 50]\n"
     ]
    }
   ],
   "source": [
    "array = [10, 17, 50, 7, 30, 24, 27, 45, 15, 5, 36, 21]\n",
    "heap = []\n",
    "for num in array:\n",
    "    heapq.heappush(heap, num)\n",
    "    print(f'推入的元素是: {num}')\n",
    "    print(f'推入元素后的列表是: {heap}')\n",
    "    print('------------------------')\n",
    "    \n",
    "print(\"array:\", array)\n",
    "print(\"heap: \", heap)\n",
    "\n",
    "heapq.heapify(array)\n",
    "print(\"array:\", array)"
   ]
  },
  {
   "cell_type": "markdown",
   "id": "002b4174",
   "metadata": {},
   "source": [
    "### heappop方法弹出堆顶元素，然后重新对剩下元素进行堆构造。堆排序具体原理参考[这篇文章](https://mp.weixin.qq.com/s?__biz=MzU4NDc3NzEzNA==&mid=2247486047&idx=1&sn=f6f713315d5a941525d26e96c0ec0043&chksm=fd95e69ecae26f88f3f5306a9dbe6e1b6a2e6f875f5c93bf71b4bd7d6e1204d20142b3f81f1d&scene=21#wechat_redirect)。"
   ]
  },
  {
   "cell_type": "code",
   "execution_count": 44,
   "id": "5d57b145",
   "metadata": {},
   "outputs": [
    {
     "name": "stdout",
     "output_type": "stream",
     "text": [
      "原始列表是: [5, 7, 21, 10, 17, 24, 27, 45, 15, 30, 36, 50]\n",
      "弹出的元素是: 5\n",
      "弹出后的列表是: [7, 10, 21, 15, 17, 24, 27, 45, 50, 30, 36]\n",
      "------------------------\n",
      "弹出的元素是: 7\n",
      "弹出后的列表是: [10, 15, 21, 36, 17, 24, 27, 45, 50, 30]\n",
      "------------------------\n",
      "弹出的元素是: 10\n",
      "弹出后的列表是: [15, 17, 21, 36, 30, 24, 27, 45, 50]\n",
      "------------------------\n",
      "弹出的元素是: 15\n",
      "弹出后的列表是: [17, 30, 21, 36, 50, 24, 27, 45]\n",
      "------------------------\n",
      "弹出的元素是: 17\n",
      "弹出后的列表是: [21, 30, 24, 36, 50, 45, 27]\n",
      "------------------------\n",
      "弹出的元素是: 21\n",
      "弹出后的列表是: [24, 30, 27, 36, 50, 45]\n",
      "------------------------\n",
      "弹出的元素是: 24\n",
      "弹出后的列表是: [27, 30, 45, 36, 50]\n",
      "------------------------\n",
      "弹出的元素是: 27\n",
      "弹出后的列表是: [30, 36, 45, 50]\n",
      "------------------------\n",
      "弹出的元素是: 30\n",
      "弹出后的列表是: [36, 50, 45]\n",
      "------------------------\n",
      "弹出的元素是: 36\n",
      "弹出后的列表是: [45, 50]\n",
      "------------------------\n",
      "弹出的元素是: 45\n",
      "弹出后的列表是: [50]\n",
      "------------------------\n",
      "弹出的元素是: 50\n",
      "弹出后的列表是: []\n",
      "------------------------\n"
     ]
    }
   ],
   "source": [
    "print(f'原始列表是: {array}')\n",
    "for i in range(len(array)):\n",
    "    a = heapq.heappop(array)\n",
    "    print(f'弹出的元素是: {a}')\n",
    "    print(f'弹出后的列表是: {array}')\n",
    "    print('------------------------')"
   ]
  },
  {
   "cell_type": "markdown",
   "id": "ea6f568b",
   "metadata": {},
   "source": [
    "### 如果heappush的是tuple，那么按照tuple的第一个元素进行堆构造。这里堆构造指的是对堆元素进行排列，使其满足小顶堆的性质。"
   ]
  },
  {
   "cell_type": "code",
   "execution_count": 11,
   "id": "090b9821",
   "metadata": {},
   "outputs": [
    {
     "data": {
      "text/plain": [
       "[(5, '10'),\n",
       " (7, '4'),\n",
       " (21, '12'),\n",
       " (15, '9'),\n",
       " (10, '1'),\n",
       " (24, '6'),\n",
       " (27, '7'),\n",
       " (45, '8'),\n",
       " (17, '2'),\n",
       " (30, '5'),\n",
       " (36, '11'),\n",
       " (50, '3')]"
      ]
     },
     "execution_count": 11,
     "metadata": {},
     "output_type": "execute_result"
    }
   ],
   "source": [
    "d = {'1': 10, '2': 17, '3': 50, '4': 7, '5': 30, '6': 24, '7': 27, '8': 45, '9': 15, '10': 5, '11': 36, '12': 21}\n",
    "heap = []\n",
    "for key, freq in d.items():\n",
    "    heapq.heappush(heap, (freq, key))\n",
    "heap"
   ]
  },
  {
   "cell_type": "markdown",
   "id": "8e8fe99d",
   "metadata": {},
   "source": [
    "### 取最大最小值"
   ]
  },
  {
   "cell_type": "code",
   "execution_count": 59,
   "id": "040565f1",
   "metadata": {},
   "outputs": [],
   "source": [
    "array = [10, 17, 50, 7, 30, 24, 27, 45, 15, 5, 36, 21]\n",
    "d = {'1': 10, '2': 17, '3': 50, '4': 7, '5': 30, '6': 24, '7': 27, '8': 45, '9': 15, '10': 5, '11': 36, '12': 21}"
   ]
  },
  {
   "cell_type": "code",
   "execution_count": 58,
   "id": "3a24ac15",
   "metadata": {},
   "outputs": [
    {
     "name": "stdout",
     "output_type": "stream",
     "text": [
      "[50, 45, 36]\n",
      "[5, 7, 10]\n"
     ]
    }
   ],
   "source": [
    "# 直接通过heapq内置方法取最值\n",
    "print(heapq.nlargest(3, array))\n",
    "print(heapq.nsmallest(3, array))"
   ]
  },
  {
   "cell_type": "code",
   "execution_count": 60,
   "id": "8605aac0",
   "metadata": {},
   "outputs": [
    {
     "name": "stdout",
     "output_type": "stream",
     "text": [
      "['9', '8', '7']\n",
      "['1', '10', '11']\n"
     ]
    }
   ],
   "source": [
    "print(heapq.nlargest(3, d))\n",
    "print(heapq.nsmallest(3, d))"
   ]
  }
 ],
 "metadata": {
  "kernelspec": {
   "display_name": "leoweng4.1",
   "language": "python",
   "name": "python3"
  },
  "language_info": {
   "codemirror_mode": {
    "name": "ipython",
    "version": 3
   },
   "file_extension": ".py",
   "mimetype": "text/x-python",
   "name": "python",
   "nbconvert_exporter": "python",
   "pygments_lexer": "ipython3",
   "version": "3.9.0"
  }
 },
 "nbformat": 4,
 "nbformat_minor": 5
}

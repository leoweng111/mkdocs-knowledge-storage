{
 "cells": [
  {
   "cell_type": "code",
   "execution_count": 5,
   "id": "f869a373",
   "metadata": {},
   "outputs": [],
   "source": [
    "from typing import List"
   ]
  },
  {
   "cell_type": "markdown",
   "id": "f469b7a3",
   "metadata": {},
   "source": [
    "# 二叉树的定义"
   ]
  },
  {
   "cell_type": "markdown",
   "id": "047228cc",
   "metadata": {},
   "source": [
    "## 节点，类似于链表"
   ]
  },
  {
   "cell_type": "code",
   "execution_count": 2,
   "id": "e8e41488",
   "metadata": {},
   "outputs": [],
   "source": [
    "class TreeNode:\n",
    "    def __init__(self, val, left = None, right = None):\n",
    "        self.val = val\n",
    "        self.left = left\n",
    "        self.right = right"
   ]
  },
  {
   "cell_type": "markdown",
   "id": "7048ee7f",
   "metadata": {},
   "source": [
    "## 手动定义一个二叉树"
   ]
  },
  {
   "cell_type": "code",
   "execution_count": 9,
   "id": "6551c8c7",
   "metadata": {},
   "outputs": [],
   "source": [
    "node31 = TreeNode(1)\n",
    "node32 = TreeNode(2)\n",
    "node33 = TreeNode(7)\n",
    "node34 = TreeNode(8)\n",
    "node21 = TreeNode(4, left = node31, right = node32)\n",
    "node22 = TreeNode(6, left = node33, right = node34)\n",
    "root = TreeNode(5, left = node21, right = node22)"
   ]
  },
  {
   "cell_type": "markdown",
   "id": "c51a6d90",
   "metadata": {},
   "source": [
    "# 二叉树的遍历，返回的是遍历之后的列表"
   ]
  },
  {
   "cell_type": "markdown",
   "id": "4f1ce6d4",
   "metadata": {},
   "source": [
    "## 前序遍历"
   ]
  },
  {
   "cell_type": "code",
   "execution_count": 18,
   "id": "fa60de5f",
   "metadata": {},
   "outputs": [],
   "source": [
    "class Solution:\n",
    "    def preorderTraversal(self, root: TreeNode) -> List[int]:\n",
    "        if not root:\n",
    "            return []\n",
    "\n",
    "        left = self.preorderTraversal(root.left)\n",
    "        right = self.preorderTraversal(root.right)\n",
    "\n",
    "        return  [root.val] + left +  right"
   ]
  },
  {
   "cell_type": "code",
   "execution_count": 19,
   "id": "de3a8efb",
   "metadata": {
    "scrolled": true
   },
   "outputs": [
    {
     "data": {
      "text/plain": [
       "[5, 4, 1, 2, 6, 7, 8]"
      ]
     },
     "execution_count": 19,
     "metadata": {},
     "output_type": "execute_result"
    }
   ],
   "source": [
    "Solution().preorderTraversal(root)"
   ]
  },
  {
   "cell_type": "code",
   "execution_count": 20,
   "id": "673e3ac0",
   "metadata": {
    "scrolled": true
   },
   "outputs": [
    {
     "name": "stdout",
     "output_type": "stream",
     "text": [
      "[1]\n",
      "[2]\n",
      "[7]\n",
      "[8]\n"
     ]
    }
   ],
   "source": [
    "for node in [node31, node32, node33, node34]:\n",
    "    print(Solution().preorderTraversal(node))"
   ]
  },
  {
   "cell_type": "code",
   "execution_count": 21,
   "id": "342c27a6",
   "metadata": {
    "scrolled": true
   },
   "outputs": [
    {
     "name": "stdout",
     "output_type": "stream",
     "text": [
      "[4, 1, 2]\n",
      "[6, 7, 8]\n"
     ]
    }
   ],
   "source": [
    "# 这里输出的就是self.preorderTraversal(root.left)和self.preorderTraversal(root.right)\n",
    "for node in [node21, node22]:\n",
    "    print(Solution().preorderTraversal(node))"
   ]
  },
  {
   "cell_type": "code",
   "execution_count": 48,
   "id": "69c47ccf",
   "metadata": {},
   "outputs": [],
   "source": [
    "l = [1, 2, 3, 4, 5, 0]\n"
   ]
  },
  {
   "cell_type": "code",
   "execution_count": 35,
   "id": "c5c518be",
   "metadata": {
    "scrolled": true
   },
   "outputs": [
    {
     "data": {
      "text/plain": [
       "[0, 1, 2, 3, 4, 5]"
      ]
     },
     "execution_count": 35,
     "metadata": {},
     "output_type": "execute_result"
    }
   ],
   "source": [
    "sorted(l)"
   ]
  },
  {
   "cell_type": "code",
   "execution_count": 38,
   "id": "07a2d245",
   "metadata": {
    "scrolled": true
   },
   "outputs": [
    {
     "data": {
      "text/plain": [
       "1"
      ]
     },
     "execution_count": 38,
     "metadata": {},
     "output_type": "execute_result"
    }
   ],
   "source": [
    "from collections import deque\n",
    "deque([1, 2, 3, 4, 5])[0]"
   ]
  },
  {
   "cell_type": "code",
   "execution_count": 49,
   "id": "067cf036",
   "metadata": {
    "scrolled": false
   },
   "outputs": [
    {
     "data": {
      "text/plain": [
       "[1, 2, 3, 4, 5]"
      ]
     },
     "execution_count": 49,
     "metadata": {},
     "output_type": "execute_result"
    }
   ],
   "source": [
    "l.pop()\n",
    "l"
   ]
  },
  {
   "cell_type": "code",
   "execution_count": 50,
   "id": "7ce16de8",
   "metadata": {},
   "outputs": [
    {
     "ename": "TypeError",
     "evalue": "list.append() takes exactly one argument (5 given)",
     "output_type": "error",
     "traceback": [
      "\u001b[0;31m---------------------------------------------------------------------------\u001b[0m",
      "\u001b[0;31mTypeError\u001b[0m                                 Traceback (most recent call last)",
      "Cell \u001b[0;32mIn[50], line 2\u001b[0m\n\u001b[1;32m      1\u001b[0m l1 \u001b[38;5;241m=\u001b[39m l\n\u001b[0;32m----> 2\u001b[0m \u001b[43ml\u001b[49m\u001b[38;5;241;43m.\u001b[39;49m\u001b[43mappend\u001b[49m\u001b[43m(\u001b[49m\u001b[38;5;241;43m*\u001b[39;49m\u001b[43ml1\u001b[49m\u001b[43m)\u001b[49m\n\u001b[1;32m      3\u001b[0m l\n",
      "\u001b[0;31mTypeError\u001b[0m: list.append() takes exactly one argument (5 given)"
     ]
    }
   ],
   "source": [
    "l1 = l\n",
    "l.append(*l1)\n",
    "l"
   ]
  },
  {
   "cell_type": "code",
   "execution_count": 51,
   "id": "e3b4adf9",
   "metadata": {},
   "outputs": [],
   "source": [
    "from collections import deque\n",
    "d = deque([1, 2, 3, 4])"
   ]
  },
  {
   "cell_type": "code",
   "execution_count": 53,
   "id": "1704e337",
   "metadata": {},
   "outputs": [
    {
     "data": {
      "text/plain": [
       "deque([1, 2, 3, 4, None, None])"
      ]
     },
     "execution_count": 53,
     "metadata": {},
     "output_type": "execute_result"
    }
   ],
   "source": [
    "d.append(None)\n",
    "d"
   ]
  },
  {
   "cell_type": "code",
   "execution_count": 55,
   "id": "7d1c661b",
   "metadata": {},
   "outputs": [
    {
     "data": {
      "text/plain": [
       "True"
      ]
     },
     "execution_count": 55,
     "metadata": {},
     "output_type": "execute_result"
    }
   ],
   "source": [
    "not d[5]"
   ]
  }
 ],
 "metadata": {
  "kernelspec": {
   "display_name": "Python [conda env:leoweng3.0.2] *",
   "language": "python",
   "name": "conda-env-leoweng3.0.2-py"
  },
  "language_info": {
   "codemirror_mode": {
    "name": "ipython",
    "version": 3
   },
   "file_extension": ".py",
   "mimetype": "text/x-python",
   "name": "python",
   "nbconvert_exporter": "python",
   "pygments_lexer": "ipython3",
   "version": "3.9.0"
  }
 },
 "nbformat": 4,
 "nbformat_minor": 5
}

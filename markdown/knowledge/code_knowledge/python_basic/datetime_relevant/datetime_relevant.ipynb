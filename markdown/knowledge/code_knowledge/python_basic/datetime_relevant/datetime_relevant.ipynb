{
 "cells": [
  {
   "cell_type": "markdown",
   "id": "f3030f8f",
   "metadata": {},
   "source": [
    "# datetime 相关知识总结"
   ]
  },
  {
   "cell_type": "markdown",
   "id": "bf6a62a4",
   "metadata": {},
   "source": [
    "## 1. datetime"
   ]
  },
  {
   "cell_type": "markdown",
   "id": "ec8841d2",
   "metadata": {},
   "source": [
    "### 1. 创建日期"
   ]
  },
  {
   "cell_type": "code",
   "execution_count": 1,
   "id": "03109cc4",
   "metadata": {},
   "outputs": [
    {
     "name": "stdout",
     "output_type": "stream",
     "text": [
      "2023-07-13 17:57:13.000012\n",
      "2023\n",
      "7\n",
      "13\n",
      "17\n",
      "57\n",
      "13\n",
      "12\n"
     ]
    }
   ],
   "source": [
    "# datetime类型数据\n",
    "from datetime import datetime\n",
    "# 最多可以到微妙位\n",
    "d = datetime(2023, 7, 13, 17, 57, 13, 12)\n",
    "for i in tuple([d, d.year, d.month, d.day, d.hour, d.minute, d.second, d.microsecond]):\n",
    "    print(i)"
   ]
  },
  {
   "cell_type": "code",
   "execution_count": 2,
   "id": "a23e8cab",
   "metadata": {},
   "outputs": [
    {
     "name": "stdout",
     "output_type": "stream",
     "text": [
      "2023-07-13\n",
      "2023\n",
      "7\n",
      "13\n"
     ]
    }
   ],
   "source": [
    "# date类型数据\n",
    "import datetime\n",
    "d = datetime.date(2023, 7, 13)\n",
    "for i in tuple([d, d.year, d.month, d.day]):\n",
    "    print(i)"
   ]
  },
  {
   "cell_type": "code",
   "execution_count": 3,
   "id": "a6c6c07a",
   "metadata": {},
   "outputs": [
    {
     "name": "stdout",
     "output_type": "stream",
     "text": [
      "17:57:25\n",
      "17\n",
      "57\n",
      "25\n"
     ]
    }
   ],
   "source": [
    "import datetime\n",
    "d = datetime.time(17, 57, 25)\n",
    "for i in tuple([d, d.hour, d.minute, d.second]):\n",
    "    print(i)"
   ]
  },
  {
   "cell_type": "markdown",
   "id": "124f1244",
   "metadata": {},
   "source": [
    "### 2. datetime与字符串相关"
   ]
  },
  {
   "cell_type": "code",
   "execution_count": 4,
   "id": "6b3b68cb",
   "metadata": {},
   "outputs": [],
   "source": [
    "# 1. datetime转变为字符串"
   ]
  },
  {
   "cell_type": "code",
   "execution_count": 5,
   "id": "ea12e431",
   "metadata": {},
   "outputs": [
    {
     "name": "stdout",
     "output_type": "stream",
     "text": [
      "<class 'datetime.datetime'>\n",
      "<class 'str'>\n"
     ]
    },
    {
     "data": {
      "text/plain": [
       "'2023-07-13 17:57:13'"
      ]
     },
     "execution_count": 5,
     "metadata": {},
     "output_type": "execute_result"
    }
   ],
   "source": [
    "from datetime import datetime\n",
    "d = datetime(2023, 7, 13, 17, 57, 13)\n",
    "print(type(d))\n",
    "# 可以直接使用str()转换\n",
    "d_str = str(d)\n",
    "print(type(d_str))\n",
    "d_str"
   ]
  },
  {
   "cell_type": "code",
   "execution_count": 6,
   "id": "f080b019",
   "metadata": {},
   "outputs": [],
   "source": [
    "# 2. 使用 strftime 将 datetime 转换为 str"
   ]
  },
  {
   "cell_type": "code",
   "execution_count": 7,
   "id": "7256b923",
   "metadata": {},
   "outputs": [
    {
     "data": {
      "text/plain": [
       "'2023-07-13 17:57:13'"
      ]
     },
     "execution_count": 7,
     "metadata": {},
     "output_type": "execute_result"
    }
   ],
   "source": [
    "from datetime import datetime\n",
    "d = datetime(2023, 7, 13, 17, 57, 13)\n",
    "# 使用占位符控制输出格式\n",
    "d_str = d.strftime('%Y-%m-%d %H:%M:%S')\n",
    "d_str"
   ]
  },
  {
   "cell_type": "code",
   "execution_count": 8,
   "id": "70167b1e",
   "metadata": {},
   "outputs": [
    {
     "data": {
      "text/plain": [
       "'2023-07-13 17:57:13'"
      ]
     },
     "execution_count": 8,
     "metadata": {},
     "output_type": "execute_result"
    }
   ],
   "source": [
    "# 这种写法也可以\n",
    "from datetime import datetime\n",
    "d = datetime(2023, 7, 13, 17, 57, 13)\n",
    "d_str_1 = datetime.strftime(d, '%Y-%m-%d %H:%M:%S')\n",
    "d_str_1"
   ]
  },
  {
   "cell_type": "code",
   "execution_count": 9,
   "id": "886570d2",
   "metadata": {},
   "outputs": [],
   "source": [
    "# 3. 使用 strptime 将 str 转换为 datetime"
   ]
  },
  {
   "cell_type": "code",
   "execution_count": 10,
   "id": "b01f144b",
   "metadata": {
    "scrolled": true
   },
   "outputs": [
    {
     "data": {
      "text/plain": [
       "datetime.datetime(2023, 7, 13, 17, 57, 13)"
      ]
     },
     "execution_count": 10,
     "metadata": {},
     "output_type": "execute_result"
    }
   ],
   "source": [
    "from datetime import datetime\n",
    "d = datetime.strptime(d_str, '%Y-%m-%d %H:%M:%S')\n",
    "d"
   ]
  },
  {
   "cell_type": "markdown",
   "id": "3e2d2a9d",
   "metadata": {},
   "source": [
    "## 2. pandas 处理时间数据"
   ]
  },
  {
   "cell_type": "markdown",
   "id": "f02fcf23",
   "metadata": {},
   "source": [
    "### 1. pd.date_range"
   ]
  },
  {
   "cell_type": "code",
   "execution_count": 11,
   "id": "0de63a12",
   "metadata": {},
   "outputs": [
    {
     "data": {
      "text/plain": [
       "DatetimeIndex(['2021-10-25', '2021-10-26', '2021-10-27', '2021-10-28',\n",
       "               '2021-10-29', '2021-10-30', '2021-10-31', '2021-11-01',\n",
       "               '2021-11-02', '2021-11-03',\n",
       "               ...\n",
       "               '2022-02-05', '2022-02-06', '2022-02-07', '2022-02-08',\n",
       "               '2022-02-09', '2022-02-10', '2022-02-11', '2022-02-12',\n",
       "               '2022-02-13', '2022-02-14'],\n",
       "              dtype='datetime64[ns]', length=113, freq='D')"
      ]
     },
     "execution_count": 11,
     "metadata": {},
     "output_type": "execute_result"
    }
   ],
   "source": [
    "import pandas as pd\n",
    "#date_rang快速创建日期范围\n",
    "d_range =pd.date_range(start='20211025', end='20220214') #使用了start和end两个参数\n",
    "d_range"
   ]
  },
  {
   "cell_type": "code",
   "execution_count": 12,
   "id": "b7a0f3ae",
   "metadata": {},
   "outputs": [
    {
     "data": {
      "text/plain": [
       "DatetimeIndex(['2021-10-25', '2021-11-04', '2021-11-14', '2021-11-24',\n",
       "               '2021-12-04', '2021-12-14', '2021-12-24', '2022-01-03',\n",
       "               '2022-01-13', '2022-01-23', '2022-02-02', '2022-02-12'],\n",
       "              dtype='datetime64[ns]', freq='10D')"
      ]
     },
     "execution_count": 12,
     "metadata": {},
     "output_type": "execute_result"
    }
   ],
   "source": [
    "# 频率为十天\n",
    "d_range_2 =pd.date_range(start='20211025', end='20220214', freq='10D')\n",
    "d_range_2"
   ]
  },
  {
   "cell_type": "code",
   "execution_count": 13,
   "id": "287f3067",
   "metadata": {},
   "outputs": [
    {
     "data": {
      "text/plain": [
       "DatetimeIndex(['2021-10-31', '2021-11-30', '2021-12-31', '2022-01-31'], dtype='datetime64[ns]', freq='M')"
      ]
     },
     "execution_count": 13,
     "metadata": {},
     "output_type": "execute_result"
    }
   ],
   "source": [
    "# 频率为一个月\n",
    "d_range_3 =pd.date_range(start='20211025',end='20220214', freq='M')\n",
    "d_range_3"
   ]
  },
  {
   "cell_type": "code",
   "execution_count": 14,
   "id": "607f1c6d",
   "metadata": {
    "scrolled": true
   },
   "outputs": [
    {
     "data": {
      "text/plain": [
       "DatetimeIndex(['2021-10-25', '2021-10-27', '2021-10-29', '2021-10-31',\n",
       "               '2021-11-02', '2021-11-04', '2021-11-06', '2021-11-08',\n",
       "               '2021-11-10', '2021-11-12'],\n",
       "              dtype='datetime64[ns]', freq='2D')"
      ]
     },
     "execution_count": 14,
     "metadata": {},
     "output_type": "execute_result"
    }
   ],
   "source": [
    "#使用start、end、periods三个参数\n",
    "d_range_4 = pd.date_range(start='20211025', periods=10, freq='2D')\n",
    "d_range_4"
   ]
  },
  {
   "cell_type": "code",
   "execution_count": 15,
   "id": "414cb274",
   "metadata": {},
   "outputs": [
    {
     "data": {
      "text/plain": [
       "0     2021-10-25\n",
       "1     2021-10-26\n",
       "2     2021-10-27\n",
       "3     2021-10-28\n",
       "4     2021-10-29\n",
       "         ...    \n",
       "108   2022-02-10\n",
       "109   2022-02-11\n",
       "110   2022-02-12\n",
       "111   2022-02-13\n",
       "112   2022-02-14\n",
       "Length: 113, dtype: datetime64[ns]"
      ]
     },
     "execution_count": 15,
     "metadata": {},
     "output_type": "execute_result"
    }
   ],
   "source": [
    "# d_range转换为pd.Series\n",
    "pd.Series(d_range)"
   ]
  },
  {
   "cell_type": "markdown",
   "id": "d234d848",
   "metadata": {},
   "source": [
    "### 2. strftime：datetime 转 str"
   ]
  },
  {
   "cell_type": "code",
   "execution_count": 16,
   "id": "ab4c205e",
   "metadata": {
    "scrolled": true
   },
   "outputs": [
    {
     "data": {
      "text/html": [
       "<div>\n",
       "<style scoped>\n",
       "    .dataframe tbody tr th:only-of-type {\n",
       "        vertical-align: middle;\n",
       "    }\n",
       "\n",
       "    .dataframe tbody tr th {\n",
       "        vertical-align: top;\n",
       "    }\n",
       "\n",
       "    .dataframe thead th {\n",
       "        text-align: right;\n",
       "    }\n",
       "</style>\n",
       "<table border=\"1\" class=\"dataframe\">\n",
       "  <thead>\n",
       "    <tr style=\"text-align: right;\">\n",
       "      <th></th>\n",
       "      <th>date</th>\n",
       "    </tr>\n",
       "  </thead>\n",
       "  <tbody>\n",
       "    <tr>\n",
       "      <th>0</th>\n",
       "      <td>2021-10-25 00:00:00</td>\n",
       "    </tr>\n",
       "    <tr>\n",
       "      <th>1</th>\n",
       "      <td>2021-10-25 01:00:00</td>\n",
       "    </tr>\n",
       "    <tr>\n",
       "      <th>2</th>\n",
       "      <td>2021-10-25 02:00:00</td>\n",
       "    </tr>\n",
       "    <tr>\n",
       "      <th>3</th>\n",
       "      <td>2021-10-25 03:00:00</td>\n",
       "    </tr>\n",
       "    <tr>\n",
       "      <th>4</th>\n",
       "      <td>2021-10-25 04:00:00</td>\n",
       "    </tr>\n",
       "  </tbody>\n",
       "</table>\n",
       "</div>"
      ],
      "text/plain": [
       "                 date\n",
       "0 2021-10-25 00:00:00\n",
       "1 2021-10-25 01:00:00\n",
       "2 2021-10-25 02:00:00\n",
       "3 2021-10-25 03:00:00\n",
       "4 2021-10-25 04:00:00"
      ]
     },
     "execution_count": 16,
     "metadata": {},
     "output_type": "execute_result"
    }
   ],
   "source": [
    "import pandas as pd\n",
    "d_range_x =pd.date_range(start='20211025', end='20220214', freq='H')\n",
    "df = pd.DataFrame(data=d_range_x, columns=['date'])\n",
    "df.head()"
   ]
  },
  {
   "cell_type": "code",
   "execution_count": 17,
   "id": "4c37ffd2",
   "metadata": {
    "scrolled": true
   },
   "outputs": [
    {
     "data": {
      "text/plain": [
       "'2021-10-25'"
      ]
     },
     "execution_count": 17,
     "metadata": {},
     "output_type": "execute_result"
    }
   ],
   "source": [
    "df['date_str'] = df['date'].dt.strftime('%Y-%m-%d')\n",
    "df['date_str'].iloc[0]"
   ]
  },
  {
   "cell_type": "markdown",
   "id": "0e2c24e8",
   "metadata": {},
   "source": [
    "### 3. strptime：str 转 datetime"
   ]
  },
  {
   "cell_type": "code",
   "execution_count": 18,
   "id": "22debe25",
   "metadata": {},
   "outputs": [
    {
     "data": {
      "text/plain": [
       "Timestamp('2021-10-25 00:00:00')"
      ]
     },
     "execution_count": 18,
     "metadata": {},
     "output_type": "execute_result"
    }
   ],
   "source": [
    "df['date_strp'] = df['date_str'].apply(lambda x: datetime.strptime(x, '%Y-%m-%d'))\n",
    "df['date_strp'].iloc[0]"
   ]
  },
  {
   "cell_type": "markdown",
   "id": "2e263896",
   "metadata": {},
   "source": [
    "### 4. pd.to_datetime"
   ]
  },
  {
   "cell_type": "raw",
   "id": "6e9d26cb",
   "metadata": {},
   "source": [
    "pd.to_datetime将str转换为Timestamp"
   ]
  },
  {
   "cell_type": "code",
   "execution_count": 19,
   "id": "2b3e9165",
   "metadata": {
    "scrolled": true
   },
   "outputs": [
    {
     "data": {
      "text/plain": [
       "Timestamp('2021-10-25 00:00:00')"
      ]
     },
     "execution_count": 19,
     "metadata": {},
     "output_type": "execute_result"
    }
   ],
   "source": [
    "df['date_1'] = pd.to_datetime(df['date_str'])\n",
    "df['date_1'].iloc[0]"
   ]
  },
  {
   "cell_type": "code",
   "execution_count": 20,
   "id": "270269e3",
   "metadata": {},
   "outputs": [
    {
     "data": {
      "text/plain": [
       "Timestamp('2021-10-25 00:00:00')"
      ]
     },
     "execution_count": 20,
     "metadata": {},
     "output_type": "execute_result"
    }
   ],
   "source": [
    "# pd.to_pydatetime将Timestamp转为datetime类型\n",
    "df['date_2'] = df['date_1'].apply(lambda x: x.to_pydatetime())\n",
    "df['date_2'].iloc[0]"
   ]
  },
  {
   "cell_type": "code",
   "execution_count": 21,
   "id": "54d8b548",
   "metadata": {},
   "outputs": [
    {
     "data": {
      "text/plain": [
       "datetime.datetime(2021, 10, 25, 0, 0)"
      ]
     },
     "execution_count": 21,
     "metadata": {},
     "output_type": "execute_result"
    }
   ],
   "source": [
    "df['date_2'].iloc[0].to_pydatetime()"
   ]
  },
  {
   "cell_type": "code",
   "execution_count": 22,
   "id": "89cdc532",
   "metadata": {},
   "outputs": [],
   "source": [
    "# 注意在dataframe里面，timestamp类型就用来表示datetime类型"
   ]
  },
  {
   "cell_type": "code",
   "execution_count": 23,
   "id": "956fe51b",
   "metadata": {},
   "outputs": [
    {
     "data": {
      "text/plain": [
       "Timestamp('2023-07-13 00:00:00')"
      ]
     },
     "execution_count": 23,
     "metadata": {},
     "output_type": "execute_result"
    }
   ],
   "source": [
    "# 这个例子可以说明\n",
    "df['new'] = datetime(2023, 7, 13)\n",
    "df['new'].iloc[0]"
   ]
  },
  {
   "cell_type": "markdown",
   "id": "8efffef9",
   "metadata": {},
   "source": [
    "### 5. pd.Timestamp"
   ]
  },
  {
   "cell_type": "raw",
   "id": "246627a1",
   "metadata": {},
   "source": [
    "直接由str创建Timestamp数据"
   ]
  },
  {
   "cell_type": "code",
   "execution_count": 24,
   "id": "812287b6",
   "metadata": {},
   "outputs": [
    {
     "data": {
      "text/plain": [
       "Timestamp('2021-10-25 19:33:55')"
      ]
     },
     "execution_count": 24,
     "metadata": {},
     "output_type": "execute_result"
    }
   ],
   "source": [
    "time_stamp = pd.Timestamp('2021-10-25 19:33:55')\n",
    "time_stamp"
   ]
  },
  {
   "cell_type": "code",
   "execution_count": 25,
   "id": "48840e39",
   "metadata": {},
   "outputs": [
    {
     "data": {
      "text/plain": [
       "Timestamp('2021-10-25 19:33:55.000012')"
      ]
     },
     "execution_count": 25,
     "metadata": {},
     "output_type": "execute_result"
    }
   ],
   "source": [
    "# 也可以根据时间直接创建\n",
    "pd.Timestamp(2021, 10, 25, 19, 33, 55, 12)"
   ]
  },
  {
   "cell_type": "markdown",
   "id": "2e72ab59",
   "metadata": {},
   "source": [
    "### 6. pd.Period"
   ]
  },
  {
   "cell_type": "raw",
   "id": "a8783448",
   "metadata": {},
   "source": [
    "创建一个期间对象"
   ]
  },
  {
   "cell_type": "code",
   "execution_count": 26,
   "id": "82493840",
   "metadata": {},
   "outputs": [
    {
     "data": {
      "text/plain": [
       "(Period('2023', 'A-DEC'),\n",
       " Timestamp('2023-01-01 00:00:00'),\n",
       " Timestamp('2023-12-31 23:59:59.999999999'))"
      ]
     },
     "execution_count": 26,
     "metadata": {},
     "output_type": "execute_result"
    }
   ],
   "source": [
    "year_period = pd.Period('2023')\n",
    "year_period, year_period.start_time, year_period.end_time"
   ]
  },
  {
   "cell_type": "code",
   "execution_count": 27,
   "id": "978bcc02",
   "metadata": {},
   "outputs": [
    {
     "data": {
      "text/plain": [
       "(Period('2023-07', 'M'),\n",
       " Timestamp('2023-07-01 00:00:00'),\n",
       " Timestamp('2023-07-31 23:59:59.999999999'))"
      ]
     },
     "execution_count": 27,
     "metadata": {},
     "output_type": "execute_result"
    }
   ],
   "source": [
    "month_period = pd.Period('2023-07')\n",
    "month_period, month_period.start_time, month_period.end_time"
   ]
  },
  {
   "cell_type": "code",
   "execution_count": 28,
   "id": "927387b1",
   "metadata": {
    "scrolled": true
   },
   "outputs": [
    {
     "data": {
      "text/plain": [
       "(Period('2023-07-01', 'D'),\n",
       " Timestamp('2023-07-01 00:00:00'),\n",
       " Timestamp('2023-07-01 23:59:59.999999999'))"
      ]
     },
     "execution_count": 28,
     "metadata": {},
     "output_type": "execute_result"
    }
   ],
   "source": [
    "day_period = pd.Period('2023-07-01')\n",
    "day_period, day_period.start_time, day_period.end_time"
   ]
  },
  {
   "cell_type": "markdown",
   "id": "09a0f1bd",
   "metadata": {},
   "source": [
    "### 7. datetimeindex"
   ]
  },
  {
   "cell_type": "code",
   "execution_count": 29,
   "id": "6917784f",
   "metadata": {
    "scrolled": false
   },
   "outputs": [
    {
     "data": {
      "text/html": [
       "<div>\n",
       "<style scoped>\n",
       "    .dataframe tbody tr th:only-of-type {\n",
       "        vertical-align: middle;\n",
       "    }\n",
       "\n",
       "    .dataframe tbody tr th {\n",
       "        vertical-align: top;\n",
       "    }\n",
       "\n",
       "    .dataframe thead th {\n",
       "        text-align: right;\n",
       "    }\n",
       "</style>\n",
       "<table border=\"1\" class=\"dataframe\">\n",
       "  <thead>\n",
       "    <tr style=\"text-align: right;\">\n",
       "      <th></th>\n",
       "      <th>date_str</th>\n",
       "      <th>date_strp</th>\n",
       "      <th>date_1</th>\n",
       "      <th>date_2</th>\n",
       "      <th>new</th>\n",
       "    </tr>\n",
       "    <tr>\n",
       "      <th>date</th>\n",
       "      <th></th>\n",
       "      <th></th>\n",
       "      <th></th>\n",
       "      <th></th>\n",
       "      <th></th>\n",
       "    </tr>\n",
       "  </thead>\n",
       "  <tbody>\n",
       "    <tr>\n",
       "      <th>2021-10-25 00:00:00</th>\n",
       "      <td>2021-10-25</td>\n",
       "      <td>2021-10-25</td>\n",
       "      <td>2021-10-25</td>\n",
       "      <td>2021-10-25</td>\n",
       "      <td>2023-07-13</td>\n",
       "    </tr>\n",
       "    <tr>\n",
       "      <th>2021-10-25 01:00:00</th>\n",
       "      <td>2021-10-25</td>\n",
       "      <td>2021-10-25</td>\n",
       "      <td>2021-10-25</td>\n",
       "      <td>2021-10-25</td>\n",
       "      <td>2023-07-13</td>\n",
       "    </tr>\n",
       "    <tr>\n",
       "      <th>2021-10-25 02:00:00</th>\n",
       "      <td>2021-10-25</td>\n",
       "      <td>2021-10-25</td>\n",
       "      <td>2021-10-25</td>\n",
       "      <td>2021-10-25</td>\n",
       "      <td>2023-07-13</td>\n",
       "    </tr>\n",
       "    <tr>\n",
       "      <th>2021-10-25 03:00:00</th>\n",
       "      <td>2021-10-25</td>\n",
       "      <td>2021-10-25</td>\n",
       "      <td>2021-10-25</td>\n",
       "      <td>2021-10-25</td>\n",
       "      <td>2023-07-13</td>\n",
       "    </tr>\n",
       "    <tr>\n",
       "      <th>2021-10-25 04:00:00</th>\n",
       "      <td>2021-10-25</td>\n",
       "      <td>2021-10-25</td>\n",
       "      <td>2021-10-25</td>\n",
       "      <td>2021-10-25</td>\n",
       "      <td>2023-07-13</td>\n",
       "    </tr>\n",
       "  </tbody>\n",
       "</table>\n",
       "</div>"
      ],
      "text/plain": [
       "                       date_str  date_strp     date_1     date_2        new\n",
       "date                                                                       \n",
       "2021-10-25 00:00:00  2021-10-25 2021-10-25 2021-10-25 2021-10-25 2023-07-13\n",
       "2021-10-25 01:00:00  2021-10-25 2021-10-25 2021-10-25 2021-10-25 2023-07-13\n",
       "2021-10-25 02:00:00  2021-10-25 2021-10-25 2021-10-25 2021-10-25 2023-07-13\n",
       "2021-10-25 03:00:00  2021-10-25 2021-10-25 2021-10-25 2021-10-25 2023-07-13\n",
       "2021-10-25 04:00:00  2021-10-25 2021-10-25 2021-10-25 2021-10-25 2023-07-13"
      ]
     },
     "execution_count": 29,
     "metadata": {},
     "output_type": "execute_result"
    }
   ],
   "source": [
    "df = df.set_index('date')\n",
    "df.head()"
   ]
  },
  {
   "cell_type": "code",
   "execution_count": 30,
   "id": "b4a06db3",
   "metadata": {},
   "outputs": [
    {
     "data": {
      "text/html": [
       "<div>\n",
       "<style scoped>\n",
       "    .dataframe tbody tr th:only-of-type {\n",
       "        vertical-align: middle;\n",
       "    }\n",
       "\n",
       "    .dataframe tbody tr th {\n",
       "        vertical-align: top;\n",
       "    }\n",
       "\n",
       "    .dataframe thead th {\n",
       "        text-align: right;\n",
       "    }\n",
       "</style>\n",
       "<table border=\"1\" class=\"dataframe\">\n",
       "  <thead>\n",
       "    <tr style=\"text-align: right;\">\n",
       "      <th></th>\n",
       "      <th>date_str</th>\n",
       "      <th>date_strp</th>\n",
       "      <th>date_1</th>\n",
       "      <th>date_2</th>\n",
       "      <th>new</th>\n",
       "    </tr>\n",
       "    <tr>\n",
       "      <th>date</th>\n",
       "      <th></th>\n",
       "      <th></th>\n",
       "      <th></th>\n",
       "      <th></th>\n",
       "      <th></th>\n",
       "    </tr>\n",
       "  </thead>\n",
       "  <tbody>\n",
       "    <tr>\n",
       "      <th>2021-10-25 09:00:00</th>\n",
       "      <td>2021-10-25</td>\n",
       "      <td>2021-10-25</td>\n",
       "      <td>2021-10-25</td>\n",
       "      <td>2021-10-25</td>\n",
       "      <td>2023-07-13</td>\n",
       "    </tr>\n",
       "    <tr>\n",
       "      <th>2021-10-26 09:00:00</th>\n",
       "      <td>2021-10-26</td>\n",
       "      <td>2021-10-26</td>\n",
       "      <td>2021-10-26</td>\n",
       "      <td>2021-10-26</td>\n",
       "      <td>2023-07-13</td>\n",
       "    </tr>\n",
       "    <tr>\n",
       "      <th>2021-10-27 09:00:00</th>\n",
       "      <td>2021-10-27</td>\n",
       "      <td>2021-10-27</td>\n",
       "      <td>2021-10-27</td>\n",
       "      <td>2021-10-27</td>\n",
       "      <td>2023-07-13</td>\n",
       "    </tr>\n",
       "    <tr>\n",
       "      <th>2021-10-28 09:00:00</th>\n",
       "      <td>2021-10-28</td>\n",
       "      <td>2021-10-28</td>\n",
       "      <td>2021-10-28</td>\n",
       "      <td>2021-10-28</td>\n",
       "      <td>2023-07-13</td>\n",
       "    </tr>\n",
       "    <tr>\n",
       "      <th>2021-10-29 09:00:00</th>\n",
       "      <td>2021-10-29</td>\n",
       "      <td>2021-10-29</td>\n",
       "      <td>2021-10-29</td>\n",
       "      <td>2021-10-29</td>\n",
       "      <td>2023-07-13</td>\n",
       "    </tr>\n",
       "    <tr>\n",
       "      <th>...</th>\n",
       "      <td>...</td>\n",
       "      <td>...</td>\n",
       "      <td>...</td>\n",
       "      <td>...</td>\n",
       "      <td>...</td>\n",
       "    </tr>\n",
       "    <tr>\n",
       "      <th>2022-02-09 09:00:00</th>\n",
       "      <td>2022-02-09</td>\n",
       "      <td>2022-02-09</td>\n",
       "      <td>2022-02-09</td>\n",
       "      <td>2022-02-09</td>\n",
       "      <td>2023-07-13</td>\n",
       "    </tr>\n",
       "    <tr>\n",
       "      <th>2022-02-10 09:00:00</th>\n",
       "      <td>2022-02-10</td>\n",
       "      <td>2022-02-10</td>\n",
       "      <td>2022-02-10</td>\n",
       "      <td>2022-02-10</td>\n",
       "      <td>2023-07-13</td>\n",
       "    </tr>\n",
       "    <tr>\n",
       "      <th>2022-02-11 09:00:00</th>\n",
       "      <td>2022-02-11</td>\n",
       "      <td>2022-02-11</td>\n",
       "      <td>2022-02-11</td>\n",
       "      <td>2022-02-11</td>\n",
       "      <td>2023-07-13</td>\n",
       "    </tr>\n",
       "    <tr>\n",
       "      <th>2022-02-12 09:00:00</th>\n",
       "      <td>2022-02-12</td>\n",
       "      <td>2022-02-12</td>\n",
       "      <td>2022-02-12</td>\n",
       "      <td>2022-02-12</td>\n",
       "      <td>2023-07-13</td>\n",
       "    </tr>\n",
       "    <tr>\n",
       "      <th>2022-02-13 09:00:00</th>\n",
       "      <td>2022-02-13</td>\n",
       "      <td>2022-02-13</td>\n",
       "      <td>2022-02-13</td>\n",
       "      <td>2022-02-13</td>\n",
       "      <td>2023-07-13</td>\n",
       "    </tr>\n",
       "  </tbody>\n",
       "</table>\n",
       "<p>112 rows × 5 columns</p>\n",
       "</div>"
      ],
      "text/plain": [
       "                       date_str  date_strp     date_1     date_2        new\n",
       "date                                                                       \n",
       "2021-10-25 09:00:00  2021-10-25 2021-10-25 2021-10-25 2021-10-25 2023-07-13\n",
       "2021-10-26 09:00:00  2021-10-26 2021-10-26 2021-10-26 2021-10-26 2023-07-13\n",
       "2021-10-27 09:00:00  2021-10-27 2021-10-27 2021-10-27 2021-10-27 2023-07-13\n",
       "2021-10-28 09:00:00  2021-10-28 2021-10-28 2021-10-28 2021-10-28 2023-07-13\n",
       "2021-10-29 09:00:00  2021-10-29 2021-10-29 2021-10-29 2021-10-29 2023-07-13\n",
       "...                         ...        ...        ...        ...        ...\n",
       "2022-02-09 09:00:00  2022-02-09 2022-02-09 2022-02-09 2022-02-09 2023-07-13\n",
       "2022-02-10 09:00:00  2022-02-10 2022-02-10 2022-02-10 2022-02-10 2023-07-13\n",
       "2022-02-11 09:00:00  2022-02-11 2022-02-11 2022-02-11 2022-02-11 2023-07-13\n",
       "2022-02-12 09:00:00  2022-02-12 2022-02-12 2022-02-12 2022-02-12 2023-07-13\n",
       "2022-02-13 09:00:00  2022-02-13 2022-02-13 2022-02-13 2022-02-13 2023-07-13\n",
       "\n",
       "[112 rows x 5 columns]"
      ]
     },
     "execution_count": 30,
     "metadata": {},
     "output_type": "execute_result"
    }
   ],
   "source": [
    "# 在df的索引是datetime结构后，可以使用at_time来查找位于一天中特定时间的数据\n",
    "df.at_time(time='9:00')"
   ]
  },
  {
   "cell_type": "markdown",
   "id": "9d393ca5",
   "metadata": {},
   "source": [
    "### 8. resample"
   ]
  },
  {
   "cell_type": "raw",
   "id": "489008cf",
   "metadata": {},
   "source": [
    "resample is only valid with DatetimeIndex, TimedeltaIndex or PeriodIndex"
   ]
  },
  {
   "cell_type": "code",
   "execution_count": 31,
   "id": "521ad407",
   "metadata": {},
   "outputs": [],
   "source": [
    "df['new'] = 1\n",
    "df['year'] = df['date_1'].dt.year\n",
    "df['year'] = df['date_1'].dt.year"
   ]
  },
  {
   "cell_type": "code",
   "execution_count": 32,
   "id": "c6d7fead",
   "metadata": {},
   "outputs": [
    {
     "data": {
      "text/html": [
       "<div>\n",
       "<style scoped>\n",
       "    .dataframe tbody tr th:only-of-type {\n",
       "        vertical-align: middle;\n",
       "    }\n",
       "\n",
       "    .dataframe tbody tr th {\n",
       "        vertical-align: top;\n",
       "    }\n",
       "\n",
       "    .dataframe thead th {\n",
       "        text-align: right;\n",
       "    }\n",
       "</style>\n",
       "<table border=\"1\" class=\"dataframe\">\n",
       "  <thead>\n",
       "    <tr style=\"text-align: right;\">\n",
       "      <th></th>\n",
       "      <th>new</th>\n",
       "    </tr>\n",
       "    <tr>\n",
       "      <th>date</th>\n",
       "      <th></th>\n",
       "    </tr>\n",
       "  </thead>\n",
       "  <tbody>\n",
       "    <tr>\n",
       "      <th>2021-10-25</th>\n",
       "      <td>24</td>\n",
       "    </tr>\n",
       "    <tr>\n",
       "      <th>2021-10-26</th>\n",
       "      <td>24</td>\n",
       "    </tr>\n",
       "    <tr>\n",
       "      <th>2021-10-27</th>\n",
       "      <td>24</td>\n",
       "    </tr>\n",
       "    <tr>\n",
       "      <th>2021-10-28</th>\n",
       "      <td>24</td>\n",
       "    </tr>\n",
       "    <tr>\n",
       "      <th>2021-10-29</th>\n",
       "      <td>24</td>\n",
       "    </tr>\n",
       "    <tr>\n",
       "      <th>...</th>\n",
       "      <td>...</td>\n",
       "    </tr>\n",
       "    <tr>\n",
       "      <th>2022-02-10</th>\n",
       "      <td>24</td>\n",
       "    </tr>\n",
       "    <tr>\n",
       "      <th>2022-02-11</th>\n",
       "      <td>24</td>\n",
       "    </tr>\n",
       "    <tr>\n",
       "      <th>2022-02-12</th>\n",
       "      <td>24</td>\n",
       "    </tr>\n",
       "    <tr>\n",
       "      <th>2022-02-13</th>\n",
       "      <td>24</td>\n",
       "    </tr>\n",
       "    <tr>\n",
       "      <th>2022-02-14</th>\n",
       "      <td>1</td>\n",
       "    </tr>\n",
       "  </tbody>\n",
       "</table>\n",
       "<p>113 rows × 1 columns</p>\n",
       "</div>"
      ],
      "text/plain": [
       "            new\n",
       "date           \n",
       "2021-10-25   24\n",
       "2021-10-26   24\n",
       "2021-10-27   24\n",
       "2021-10-28   24\n",
       "2021-10-29   24\n",
       "...         ...\n",
       "2022-02-10   24\n",
       "2022-02-11   24\n",
       "2022-02-12   24\n",
       "2022-02-13   24\n",
       "2022-02-14    1\n",
       "\n",
       "[113 rows x 1 columns]"
      ]
     },
     "execution_count": 32,
     "metadata": {},
     "output_type": "execute_result"
    }
   ],
   "source": [
    "# Downsample\n",
    "df.resample('D').agg({'new': 'sum'})"
   ]
  },
  {
   "cell_type": "code",
   "execution_count": 33,
   "id": "fa5c85ef",
   "metadata": {},
   "outputs": [
    {
     "data": {
      "text/html": [
       "<div>\n",
       "<style scoped>\n",
       "    .dataframe tbody tr th:only-of-type {\n",
       "        vertical-align: middle;\n",
       "    }\n",
       "\n",
       "    .dataframe tbody tr th {\n",
       "        vertical-align: top;\n",
       "    }\n",
       "\n",
       "    .dataframe thead th {\n",
       "        text-align: right;\n",
       "    }\n",
       "</style>\n",
       "<table border=\"1\" class=\"dataframe\">\n",
       "  <thead>\n",
       "    <tr style=\"text-align: right;\">\n",
       "      <th></th>\n",
       "      <th>date_str</th>\n",
       "      <th>date_strp</th>\n",
       "      <th>date_1</th>\n",
       "      <th>date_2</th>\n",
       "      <th>new</th>\n",
       "      <th>year</th>\n",
       "    </tr>\n",
       "    <tr>\n",
       "      <th>date</th>\n",
       "      <th></th>\n",
       "      <th></th>\n",
       "      <th></th>\n",
       "      <th></th>\n",
       "      <th></th>\n",
       "      <th></th>\n",
       "    </tr>\n",
       "  </thead>\n",
       "  <tbody>\n",
       "    <tr>\n",
       "      <th>2021-10-25 00:00:00</th>\n",
       "      <td>2021-10-25</td>\n",
       "      <td>2021-10-25</td>\n",
       "      <td>2021-10-25</td>\n",
       "      <td>2021-10-25</td>\n",
       "      <td>1</td>\n",
       "      <td>2021</td>\n",
       "    </tr>\n",
       "    <tr>\n",
       "      <th>2021-10-25 00:00:30</th>\n",
       "      <td>2021-10-25</td>\n",
       "      <td>2021-10-25</td>\n",
       "      <td>2021-10-25</td>\n",
       "      <td>2021-10-25</td>\n",
       "      <td>1</td>\n",
       "      <td>2021</td>\n",
       "    </tr>\n",
       "    <tr>\n",
       "      <th>2021-10-25 00:01:00</th>\n",
       "      <td>2021-10-25</td>\n",
       "      <td>2021-10-25</td>\n",
       "      <td>2021-10-25</td>\n",
       "      <td>2021-10-25</td>\n",
       "      <td>1</td>\n",
       "      <td>2021</td>\n",
       "    </tr>\n",
       "    <tr>\n",
       "      <th>2021-10-25 00:01:30</th>\n",
       "      <td>2021-10-25</td>\n",
       "      <td>2021-10-25</td>\n",
       "      <td>2021-10-25</td>\n",
       "      <td>2021-10-25</td>\n",
       "      <td>1</td>\n",
       "      <td>2021</td>\n",
       "    </tr>\n",
       "    <tr>\n",
       "      <th>2021-10-25 00:02:00</th>\n",
       "      <td>2021-10-25</td>\n",
       "      <td>2021-10-25</td>\n",
       "      <td>2021-10-25</td>\n",
       "      <td>2021-10-25</td>\n",
       "      <td>1</td>\n",
       "      <td>2021</td>\n",
       "    </tr>\n",
       "    <tr>\n",
       "      <th>...</th>\n",
       "      <td>...</td>\n",
       "      <td>...</td>\n",
       "      <td>...</td>\n",
       "      <td>...</td>\n",
       "      <td>...</td>\n",
       "      <td>...</td>\n",
       "    </tr>\n",
       "    <tr>\n",
       "      <th>2022-02-13 23:58:00</th>\n",
       "      <td>2022-02-14</td>\n",
       "      <td>2022-02-14</td>\n",
       "      <td>2022-02-14</td>\n",
       "      <td>2022-02-14</td>\n",
       "      <td>1</td>\n",
       "      <td>2022</td>\n",
       "    </tr>\n",
       "    <tr>\n",
       "      <th>2022-02-13 23:58:30</th>\n",
       "      <td>2022-02-14</td>\n",
       "      <td>2022-02-14</td>\n",
       "      <td>2022-02-14</td>\n",
       "      <td>2022-02-14</td>\n",
       "      <td>1</td>\n",
       "      <td>2022</td>\n",
       "    </tr>\n",
       "    <tr>\n",
       "      <th>2022-02-13 23:59:00</th>\n",
       "      <td>2022-02-14</td>\n",
       "      <td>2022-02-14</td>\n",
       "      <td>2022-02-14</td>\n",
       "      <td>2022-02-14</td>\n",
       "      <td>1</td>\n",
       "      <td>2022</td>\n",
       "    </tr>\n",
       "    <tr>\n",
       "      <th>2022-02-13 23:59:30</th>\n",
       "      <td>2022-02-14</td>\n",
       "      <td>2022-02-14</td>\n",
       "      <td>2022-02-14</td>\n",
       "      <td>2022-02-14</td>\n",
       "      <td>1</td>\n",
       "      <td>2022</td>\n",
       "    </tr>\n",
       "    <tr>\n",
       "      <th>2022-02-14 00:00:00</th>\n",
       "      <td>2022-02-14</td>\n",
       "      <td>2022-02-14</td>\n",
       "      <td>2022-02-14</td>\n",
       "      <td>2022-02-14</td>\n",
       "      <td>1</td>\n",
       "      <td>2022</td>\n",
       "    </tr>\n",
       "  </tbody>\n",
       "</table>\n",
       "<p>322561 rows × 6 columns</p>\n",
       "</div>"
      ],
      "text/plain": [
       "                       date_str  date_strp     date_1     date_2  new  year\n",
       "date                                                                       \n",
       "2021-10-25 00:00:00  2021-10-25 2021-10-25 2021-10-25 2021-10-25    1  2021\n",
       "2021-10-25 00:00:30  2021-10-25 2021-10-25 2021-10-25 2021-10-25    1  2021\n",
       "2021-10-25 00:01:00  2021-10-25 2021-10-25 2021-10-25 2021-10-25    1  2021\n",
       "2021-10-25 00:01:30  2021-10-25 2021-10-25 2021-10-25 2021-10-25    1  2021\n",
       "2021-10-25 00:02:00  2021-10-25 2021-10-25 2021-10-25 2021-10-25    1  2021\n",
       "...                         ...        ...        ...        ...  ...   ...\n",
       "2022-02-13 23:58:00  2022-02-14 2022-02-14 2022-02-14 2022-02-14    1  2022\n",
       "2022-02-13 23:58:30  2022-02-14 2022-02-14 2022-02-14 2022-02-14    1  2022\n",
       "2022-02-13 23:59:00  2022-02-14 2022-02-14 2022-02-14 2022-02-14    1  2022\n",
       "2022-02-13 23:59:30  2022-02-14 2022-02-14 2022-02-14 2022-02-14    1  2022\n",
       "2022-02-14 00:00:00  2022-02-14 2022-02-14 2022-02-14 2022-02-14    1  2022\n",
       "\n",
       "[322561 rows x 6 columns]"
      ]
     },
     "execution_count": 33,
     "metadata": {},
     "output_type": "execute_result"
    }
   ],
   "source": [
    "# Upsample\n",
    "df.resample('30S').bfill()"
   ]
  },
  {
   "cell_type": "code",
   "execution_count": 34,
   "id": "70986dee",
   "metadata": {},
   "outputs": [
    {
     "data": {
      "text/html": [
       "<div>\n",
       "<style scoped>\n",
       "    .dataframe tbody tr th:only-of-type {\n",
       "        vertical-align: middle;\n",
       "    }\n",
       "\n",
       "    .dataframe tbody tr th {\n",
       "        vertical-align: top;\n",
       "    }\n",
       "\n",
       "    .dataframe thead th {\n",
       "        text-align: right;\n",
       "    }\n",
       "</style>\n",
       "<table border=\"1\" class=\"dataframe\">\n",
       "  <thead>\n",
       "    <tr style=\"text-align: right;\">\n",
       "      <th></th>\n",
       "      <th>date_str</th>\n",
       "      <th>date_strp</th>\n",
       "      <th>date_1</th>\n",
       "      <th>date_2</th>\n",
       "      <th>new</th>\n",
       "      <th>year</th>\n",
       "    </tr>\n",
       "    <tr>\n",
       "      <th>date</th>\n",
       "      <th></th>\n",
       "      <th></th>\n",
       "      <th></th>\n",
       "      <th></th>\n",
       "      <th></th>\n",
       "      <th></th>\n",
       "    </tr>\n",
       "  </thead>\n",
       "  <tbody>\n",
       "    <tr>\n",
       "      <th>2021-10-25</th>\n",
       "      <td>2021-10-25</td>\n",
       "      <td>2021-10-25</td>\n",
       "      <td>2021-10-25</td>\n",
       "      <td>2021-10-25</td>\n",
       "      <td>1</td>\n",
       "      <td>2021</td>\n",
       "    </tr>\n",
       "    <tr>\n",
       "      <th>2021-10-26</th>\n",
       "      <td>2021-10-26</td>\n",
       "      <td>2021-10-26</td>\n",
       "      <td>2021-10-26</td>\n",
       "      <td>2021-10-26</td>\n",
       "      <td>1</td>\n",
       "      <td>2021</td>\n",
       "    </tr>\n",
       "    <tr>\n",
       "      <th>2021-10-27</th>\n",
       "      <td>2021-10-27</td>\n",
       "      <td>2021-10-27</td>\n",
       "      <td>2021-10-27</td>\n",
       "      <td>2021-10-27</td>\n",
       "      <td>1</td>\n",
       "      <td>2021</td>\n",
       "    </tr>\n",
       "    <tr>\n",
       "      <th>2021-10-28</th>\n",
       "      <td>2021-10-28</td>\n",
       "      <td>2021-10-28</td>\n",
       "      <td>2021-10-28</td>\n",
       "      <td>2021-10-28</td>\n",
       "      <td>1</td>\n",
       "      <td>2021</td>\n",
       "    </tr>\n",
       "    <tr>\n",
       "      <th>2021-10-29</th>\n",
       "      <td>2021-10-29</td>\n",
       "      <td>2021-10-29</td>\n",
       "      <td>2021-10-29</td>\n",
       "      <td>2021-10-29</td>\n",
       "      <td>1</td>\n",
       "      <td>2021</td>\n",
       "    </tr>\n",
       "    <tr>\n",
       "      <th>...</th>\n",
       "      <td>...</td>\n",
       "      <td>...</td>\n",
       "      <td>...</td>\n",
       "      <td>...</td>\n",
       "      <td>...</td>\n",
       "      <td>...</td>\n",
       "    </tr>\n",
       "    <tr>\n",
       "      <th>2022-02-10</th>\n",
       "      <td>2022-02-10</td>\n",
       "      <td>2022-02-10</td>\n",
       "      <td>2022-02-10</td>\n",
       "      <td>2022-02-10</td>\n",
       "      <td>1</td>\n",
       "      <td>2022</td>\n",
       "    </tr>\n",
       "    <tr>\n",
       "      <th>2022-02-11</th>\n",
       "      <td>2022-02-11</td>\n",
       "      <td>2022-02-11</td>\n",
       "      <td>2022-02-11</td>\n",
       "      <td>2022-02-11</td>\n",
       "      <td>1</td>\n",
       "      <td>2022</td>\n",
       "    </tr>\n",
       "    <tr>\n",
       "      <th>2022-02-12</th>\n",
       "      <td>2022-02-12</td>\n",
       "      <td>2022-02-12</td>\n",
       "      <td>2022-02-12</td>\n",
       "      <td>2022-02-12</td>\n",
       "      <td>1</td>\n",
       "      <td>2022</td>\n",
       "    </tr>\n",
       "    <tr>\n",
       "      <th>2022-02-13</th>\n",
       "      <td>2022-02-13</td>\n",
       "      <td>2022-02-13</td>\n",
       "      <td>2022-02-13</td>\n",
       "      <td>2022-02-13</td>\n",
       "      <td>1</td>\n",
       "      <td>2022</td>\n",
       "    </tr>\n",
       "    <tr>\n",
       "      <th>2022-02-14</th>\n",
       "      <td>2022-02-14</td>\n",
       "      <td>2022-02-14</td>\n",
       "      <td>2022-02-14</td>\n",
       "      <td>2022-02-14</td>\n",
       "      <td>1</td>\n",
       "      <td>2022</td>\n",
       "    </tr>\n",
       "  </tbody>\n",
       "</table>\n",
       "<p>113 rows × 6 columns</p>\n",
       "</div>"
      ],
      "text/plain": [
       "              date_str  date_strp     date_1     date_2  new  year\n",
       "date                                                              \n",
       "2021-10-25  2021-10-25 2021-10-25 2021-10-25 2021-10-25    1  2021\n",
       "2021-10-26  2021-10-26 2021-10-26 2021-10-26 2021-10-26    1  2021\n",
       "2021-10-27  2021-10-27 2021-10-27 2021-10-27 2021-10-27    1  2021\n",
       "2021-10-28  2021-10-28 2021-10-28 2021-10-28 2021-10-28    1  2021\n",
       "2021-10-29  2021-10-29 2021-10-29 2021-10-29 2021-10-29    1  2021\n",
       "...                ...        ...        ...        ...  ...   ...\n",
       "2022-02-10  2022-02-10 2022-02-10 2022-02-10 2022-02-10    1  2022\n",
       "2022-02-11  2022-02-11 2022-02-11 2022-02-11 2022-02-11    1  2022\n",
       "2022-02-12  2022-02-12 2022-02-12 2022-02-12 2022-02-12    1  2022\n",
       "2022-02-13  2022-02-13 2022-02-13 2022-02-13 2022-02-13    1  2022\n",
       "2022-02-14  2022-02-14 2022-02-14 2022-02-14 2022-02-14    1  2022\n",
       "\n",
       "[113 rows x 6 columns]"
      ]
     },
     "execution_count": 34,
     "metadata": {},
     "output_type": "execute_result"
    }
   ],
   "source": [
    "df.resample('D').max()"
   ]
  },
  {
   "cell_type": "code",
   "execution_count": 35,
   "id": "eb5ec657",
   "metadata": {},
   "outputs": [
    {
     "data": {
      "text/plain": [
       "2000-01-01 00:00:00    0\n",
       "2000-01-01 00:01:00    1\n",
       "2000-01-01 00:02:00    2\n",
       "2000-01-01 00:03:00    3\n",
       "2000-01-01 00:04:00    4\n",
       "2000-01-01 00:05:00    5\n",
       "2000-01-01 00:06:00    6\n",
       "2000-01-01 00:07:00    7\n",
       "2000-01-01 00:08:00    8\n",
       "Freq: T, dtype: int64"
      ]
     },
     "execution_count": 35,
     "metadata": {},
     "output_type": "execute_result"
    }
   ],
   "source": [
    "index = pd.date_range('1/1/2000', periods=9, freq='T')\n",
    "series = pd.Series(range(9), index=index)\n",
    "series"
   ]
  },
  {
   "cell_type": "code",
   "execution_count": 36,
   "id": "774bf148",
   "metadata": {
    "scrolled": true
   },
   "outputs": [
    {
     "data": {
      "text/plain": [
       "2000-01-01 00:00:00     3\n",
       "2000-01-01 00:03:00    12\n",
       "2000-01-01 00:06:00    21\n",
       "Freq: 3T, dtype: int64"
      ]
     },
     "execution_count": 36,
     "metadata": {},
     "output_type": "execute_result"
    }
   ],
   "source": [
    "series.resample('3T').sum()"
   ]
  },
  {
   "cell_type": "code",
   "execution_count": 37,
   "id": "ef27a200",
   "metadata": {},
   "outputs": [
    {
     "data": {
      "text/plain": [
       "2000-01-01 00:03:00     3\n",
       "2000-01-01 00:06:00    12\n",
       "2000-01-01 00:09:00    21\n",
       "Freq: 3T, dtype: int64"
      ]
     },
     "execution_count": 37,
     "metadata": {},
     "output_type": "execute_result"
    }
   ],
   "source": [
    "series.resample('3T', label='right').sum()"
   ]
  },
  {
   "cell_type": "code",
   "execution_count": 38,
   "id": "e27d88c6",
   "metadata": {
    "scrolled": true
   },
   "outputs": [
    {
     "data": {
      "text/plain": [
       "2000-01-01 00:00:00     8\n",
       "2000-01-01 00:03:00    17\n",
       "2000-01-01 00:06:00    26\n",
       "Freq: 3T, dtype: int64"
      ]
     },
     "execution_count": 38,
     "metadata": {},
     "output_type": "execute_result"
    }
   ],
   "source": [
    "import numpy as np\n",
    "def custom_resampler(arraylike):\n",
    "    return np.sum(arraylike) + 5\n",
    "\n",
    "series.resample('3T').apply(custom_resampler)"
   ]
  },
  {
   "cell_type": "code",
   "execution_count": 39,
   "id": "78161618",
   "metadata": {
    "scrolled": true
   },
   "outputs": [
    {
     "data": {
      "text/plain": [
       "2000-01-01 00:00:00    0.0\n",
       "2000-01-01 00:00:30    NaN\n",
       "2000-01-01 00:01:00    1.0\n",
       "2000-01-01 00:01:30    NaN\n",
       "2000-01-01 00:02:00    2.0\n",
       "2000-01-01 00:02:30    NaN\n",
       "2000-01-01 00:03:00    3.0\n",
       "2000-01-01 00:03:30    NaN\n",
       "2000-01-01 00:04:00    4.0\n",
       "2000-01-01 00:04:30    NaN\n",
       "2000-01-01 00:05:00    5.0\n",
       "2000-01-01 00:05:30    NaN\n",
       "2000-01-01 00:06:00    6.0\n",
       "2000-01-01 00:06:30    NaN\n",
       "2000-01-01 00:07:00    7.0\n",
       "2000-01-01 00:07:30    NaN\n",
       "2000-01-01 00:08:00    8.0\n",
       "Freq: 30S, dtype: float64"
      ]
     },
     "execution_count": 39,
     "metadata": {},
     "output_type": "execute_result"
    }
   ],
   "source": [
    "series.resample('30S').asfreq()"
   ]
  },
  {
   "cell_type": "code",
   "execution_count": 41,
   "id": "81af51e1",
   "metadata": {},
   "outputs": [],
   "source": [
    "# end of today"
   ]
  },
  {
   "cell_type": "code",
   "execution_count": null,
   "id": "7b459b0d",
   "metadata": {},
   "outputs": [],
   "source": []
  }
 ],
 "metadata": {
  "kernelspec": {
   "display_name": "Python [conda env:leoweng3.0.2] *",
   "language": "python",
   "name": "conda-env-leoweng3.0.2-py"
  },
  "language_info": {
   "codemirror_mode": {
    "name": "ipython",
    "version": 3
   },
   "file_extension": ".py",
   "mimetype": "text/x-python",
   "name": "python",
   "nbconvert_exporter": "python",
   "pygments_lexer": "ipython3",
   "version": "3.9.0"
  }
 },
 "nbformat": 4,
 "nbformat_minor": 5
}
